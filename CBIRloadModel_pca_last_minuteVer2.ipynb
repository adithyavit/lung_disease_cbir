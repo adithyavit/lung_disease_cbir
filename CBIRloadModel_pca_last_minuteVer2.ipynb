{
 "cells": [
  {
   "cell_type": "code",
   "execution_count": null,
   "metadata": {},
   "outputs": [],
   "source": []
  },
  {
   "cell_type": "code",
   "execution_count": 226,
   "metadata": {},
   "outputs": [],
   "source": [
    "# Importing the libraries\n",
    "import numpy as np\n",
    "import matplotlib.pyplot as plt\n",
    "import pandas as pd\n",
    "\n",
    "# Importing the dataset\n",
    "dataset_orb = pd.read_csv('/Users/adithya/Documents/MATLAB/project/cbir_dataset/sample/X_orb_desc_change.csv',header = None)\n",
    "dataset_lbp = pd.read_csv('/Users/adithya/Documents/MATLAB/project/cbir_dataset/sample/X_lbp_desc2_long.csv',header = None)"
   ]
  },
  {
   "cell_type": "code",
   "execution_count": 227,
   "metadata": {},
   "outputs": [
    {
     "data": {
      "text/plain": [
       "(1582, 500)"
      ]
     },
     "execution_count": 227,
     "metadata": {},
     "output_type": "execute_result"
    }
   ],
   "source": [
    "dataset_orb.shape"
   ]
  },
  {
   "cell_type": "code",
   "execution_count": 228,
   "metadata": {},
   "outputs": [
    {
     "data": {
      "text/plain": [
       "(1582, 1770)"
      ]
     },
     "execution_count": 228,
     "metadata": {},
     "output_type": "execute_result"
    }
   ],
   "source": [
    "dataset_lbp.shape"
   ]
  },
  {
   "cell_type": "code",
   "execution_count": 229,
   "metadata": {},
   "outputs": [],
   "source": [
    "target = pd.read_csv('/Users/adithya/Documents/MATLAB/project/cbir_dataset/sample/y_orb_ouput.csv',header = None)"
   ]
  },
  {
   "cell_type": "code",
   "execution_count": 230,
   "metadata": {},
   "outputs": [],
   "source": [
    "file_paths = pd.read_csv('/Users/adithya/Documents/MATLAB/project/cbir_dataset/sample/X_image_path_lbp2_long.csv')"
   ]
  },
  {
   "cell_type": "code",
   "execution_count": 231,
   "metadata": {},
   "outputs": [
    {
     "data": {
      "text/plain": [
       "(1582, 2)"
      ]
     },
     "execution_count": 231,
     "metadata": {},
     "output_type": "execute_result"
    }
   ],
   "source": [
    "file_paths.shape"
   ]
  },
  {
   "cell_type": "code",
   "execution_count": 232,
   "metadata": {},
   "outputs": [
    {
     "data": {
      "text/plain": [
       "'/Users/adithya/Documents/MATLAB/project/cbir_dataset/sample/images/00000030_001.png'"
      ]
     },
     "execution_count": 232,
     "metadata": {},
     "output_type": "execute_result"
    }
   ],
   "source": [
    "file_paths['0'][0]"
   ]
  },
  {
   "cell_type": "code",
   "execution_count": 233,
   "metadata": {},
   "outputs": [],
   "source": [
    "file_paths_dict = file_paths.set_index('0').to_dict()"
   ]
  },
  {
   "cell_type": "code",
   "execution_count": 234,
   "metadata": {},
   "outputs": [],
   "source": [
    "file_paths_dict2 = file_paths_dict['Unnamed: 0']"
   ]
  },
  {
   "cell_type": "code",
   "execution_count": 235,
   "metadata": {},
   "outputs": [],
   "source": [
    "num_pic = file_paths_dict2['/Users/adithya/Documents/MATLAB/project/cbir_dataset/sample/images/00000957_001.png']"
   ]
  },
  {
   "cell_type": "code",
   "execution_count": 236,
   "metadata": {},
   "outputs": [],
   "source": [
    "answer1 = target[0][num_pic]"
   ]
  },
  {
   "cell_type": "code",
   "execution_count": 237,
   "metadata": {},
   "outputs": [
    {
     "data": {
      "text/plain": [
       "'Atelectasis'"
      ]
     },
     "execution_count": 237,
     "metadata": {},
     "output_type": "execute_result"
    }
   ],
   "source": [
    "answer1"
   ]
  },
  {
   "cell_type": "code",
   "execution_count": 238,
   "metadata": {},
   "outputs": [
    {
     "data": {
      "text/plain": [
       "1582"
      ]
     },
     "execution_count": 238,
     "metadata": {},
     "output_type": "execute_result"
    }
   ],
   "source": [
    "len(file_paths_dict2)"
   ]
  },
  {
   "cell_type": "code",
   "execution_count": 239,
   "metadata": {},
   "outputs": [
    {
     "data": {
      "text/html": [
       "<div>\n",
       "<style scoped>\n",
       "    .dataframe tbody tr th:only-of-type {\n",
       "        vertical-align: middle;\n",
       "    }\n",
       "\n",
       "    .dataframe tbody tr th {\n",
       "        vertical-align: top;\n",
       "    }\n",
       "\n",
       "    .dataframe thead th {\n",
       "        text-align: right;\n",
       "    }\n",
       "</style>\n",
       "<table border=\"1\" class=\"dataframe\">\n",
       "  <thead>\n",
       "    <tr style=\"text-align: right;\">\n",
       "      <th></th>\n",
       "      <th>Unnamed: 0</th>\n",
       "      <th>0</th>\n",
       "    </tr>\n",
       "  </thead>\n",
       "  <tbody>\n",
       "    <tr>\n",
       "      <th>0</th>\n",
       "      <td>0</td>\n",
       "      <td>/Users/adithya/Documents/MATLAB/project/cbir_d...</td>\n",
       "    </tr>\n",
       "    <tr>\n",
       "      <th>1</th>\n",
       "      <td>1</td>\n",
       "      <td>/Users/adithya/Documents/MATLAB/project/cbir_d...</td>\n",
       "    </tr>\n",
       "    <tr>\n",
       "      <th>2</th>\n",
       "      <td>2</td>\n",
       "      <td>/Users/adithya/Documents/MATLAB/project/cbir_d...</td>\n",
       "    </tr>\n",
       "    <tr>\n",
       "      <th>3</th>\n",
       "      <td>3</td>\n",
       "      <td>/Users/adithya/Documents/MATLAB/project/cbir_d...</td>\n",
       "    </tr>\n",
       "    <tr>\n",
       "      <th>4</th>\n",
       "      <td>4</td>\n",
       "      <td>/Users/adithya/Documents/MATLAB/project/cbir_d...</td>\n",
       "    </tr>\n",
       "  </tbody>\n",
       "</table>\n",
       "</div>"
      ],
      "text/plain": [
       "   Unnamed: 0                                                  0\n",
       "0           0  /Users/adithya/Documents/MATLAB/project/cbir_d...\n",
       "1           1  /Users/adithya/Documents/MATLAB/project/cbir_d...\n",
       "2           2  /Users/adithya/Documents/MATLAB/project/cbir_d...\n",
       "3           3  /Users/adithya/Documents/MATLAB/project/cbir_d...\n",
       "4           4  /Users/adithya/Documents/MATLAB/project/cbir_d..."
      ]
     },
     "execution_count": 239,
     "metadata": {},
     "output_type": "execute_result"
    }
   ],
   "source": [
    "file_paths.head()"
   ]
  },
  {
   "cell_type": "code",
   "execution_count": 240,
   "metadata": {},
   "outputs": [],
   "source": [
    "X_orb = dataset_orb\n",
    "X_lbp = dataset_lbp\n",
    "y = target\n",
    "\n",
    "# Splitting the dataset into the Training set and Test set\n",
    "from sklearn.cross_validation import train_test_split\n",
    "X_train_orb, X_test_orb, y_train, y_test = train_test_split(X_orb, y, test_size = 0.25, random_state = 0)\n",
    "X_train_lbp, X_test_lbp, y_train, y_test = train_test_split(X_lbp, y, test_size = 0.25, random_state = 0)\n",
    "\n",
    "# Feature Scaling\n",
    "from sklearn.preprocessing import StandardScaler\n",
    "sc = StandardScaler()\n",
    "X_train_orb = sc.fit_transform(X_train_orb)\n",
    "X_test_orb = sc.transform(X_test_orb)\n",
    "X_train_lbp = sc.fit_transform(X_train_lbp)\n",
    "X_test_lbp = sc.transform(X_test_lbp)"
   ]
  },
  {
   "cell_type": "code",
   "execution_count": 241,
   "metadata": {},
   "outputs": [],
   "source": [
    "file_paths_train, file_paths_test = train_test_split(file_paths, test_size = 0.25, random_state = 0)"
   ]
  },
  {
   "cell_type": "code",
   "execution_count": 242,
   "metadata": {},
   "outputs": [
    {
     "data": {
      "text/plain": [
       "(1186, 2)"
      ]
     },
     "execution_count": 242,
     "metadata": {},
     "output_type": "execute_result"
    }
   ],
   "source": [
    "file_paths_train.shape"
   ]
  },
  {
   "cell_type": "code",
   "execution_count": 243,
   "metadata": {},
   "outputs": [],
   "source": [
    "X_train = np.hstack((X_train_orb,X_train_lbp))\n",
    "X_test = np.hstack((X_test_orb,X_test_lbp))"
   ]
  },
  {
   "cell_type": "code",
   "execution_count": 244,
   "metadata": {},
   "outputs": [],
   "source": [
    "# Applying LLE\n",
    "#from sklearn.decomposition import PCA\n",
    "from sklearn import manifold\n",
    "lle_orb = manifold.LocallyLinearEmbedding(n_neighbors = 16, n_components=500,\n",
    "                                      method='standard')\n",
    "lle_lbp = manifold.LocallyLinearEmbedding(n_neighbors = 16, n_components=500,\n",
    "                                      method='standard')\n",
    "#pca_orb = PCA(n_components = 500)\n",
    "#pca_lbp = PCA(n_components = 500)\n",
    "#pca_total = PCA()\n",
    "X_train_orb = lle_orb.fit_transform(X_train_orb)\n",
    "X_train_lbp = lle_lbp.fit_transform(X_train_lbp)\n",
    "#pca = PCA(n_components = None)\n",
    "#X_train = pca_total.fit_transform(X_train)\n",
    "#X_test = pca_total.transform(X_test)\n",
    "#explained_variance = pca.explained_va"
   ]
  },
  {
   "cell_type": "code",
   "execution_count": 245,
   "metadata": {},
   "outputs": [],
   "source": [
    "from sklearn.preprocessing import OneHotEncoder\n",
    "from numpy import array\n",
    "from numpy import argmax\n",
    "import numpy\n",
    "from sklearn.preprocessing import LabelEncoder\n",
    "label_encoder = LabelEncoder()\n",
    "integer_encoded = label_encoder.fit_transform(y_train.values.ravel())"
   ]
  },
  {
   "cell_type": "code",
   "execution_count": 246,
   "metadata": {},
   "outputs": [],
   "source": [
    "from keras.utils import np_utils\n",
    "categorical_train = np_utils.to_categorical(integer_encoded)"
   ]
  },
  {
   "cell_type": "code",
   "execution_count": 247,
   "metadata": {},
   "outputs": [],
   "source": [
    "label_encoder = LabelEncoder()\n",
    "integer_encoded_test = label_encoder.fit_transform(y_test.values.ravel())"
   ]
  },
  {
   "cell_type": "code",
   "execution_count": 248,
   "metadata": {},
   "outputs": [],
   "source": [
    "categorical_encoded_test = np_utils.to_categorical(integer_encoded_test)"
   ]
  },
  {
   "cell_type": "code",
   "execution_count": 249,
   "metadata": {},
   "outputs": [],
   "source": [
    "# encode class values as integers\n",
    "from keras.utils import np_utils\n",
    "encoder = LabelEncoder()\n",
    "encoder.fit(integer_encoded)\n",
    "encoded_Y = encoder.transform(integer_encoded)\n",
    "# convert integers to dummy variables (i.e. one hot encoded)\n",
    "dummy_y = np_utils.to_categorical(encoded_Y)"
   ]
  },
  {
   "cell_type": "code",
   "execution_count": 250,
   "metadata": {},
   "outputs": [],
   "source": [
    "from keras.utils import np_utils\n",
    "encoder_test = LabelEncoder()\n",
    "encoder_test.fit(integer_encoded_test)\n",
    "encoded_Y_test = encoder_test.transform(integer_encoded_test)\n",
    "# convert integers to dummy variables (i.e. one hot encoded)\n",
    "dummy_y_test = np_utils.to_categorical(encoded_Y_test)"
   ]
  },
  {
   "cell_type": "code",
   "execution_count": 251,
   "metadata": {},
   "outputs": [],
   "source": [
    "from keras.models import load_model\n",
    "model = load_model('my_model2last.h5')"
   ]
  },
  {
   "cell_type": "code",
   "execution_count": 252,
   "metadata": {},
   "outputs": [],
   "source": [
    "import opencv\n",
    "# To performing path manipulations \n",
    "import os\n",
    "# Local Binary Pattern function\n",
    "from skimage.feature import local_binary_pattern\n",
    "# To calculate a normalized histogram \n",
    "from scipy.stats import itemfreq\n",
    "\n",
    "from sklearn.preprocessing import normalize\n",
    "# Utility package -- use pip install cvutils to install\n",
    "import cvutils\n",
    "# To read class from file\n",
    "import csv\n",
    "import scipy\n",
    "import cv2"
   ]
  },
  {
   "cell_type": "code",
   "execution_count": 253,
   "metadata": {},
   "outputs": [],
   "source": [
    "rows = 1024\n",
    "columns = 1024\n",
    "r4 = int(rows/4)\n",
    "c4 = int(columns/4)\n",
    "r3 = int(rows/3)\n",
    "c3 = int(columns/3)\n",
    "r2 = int(rows/2)\n",
    "c2 = int(columns/2)\n",
    "r1 = rows\n",
    "c1 = columns\n",
    "import numpy as np\n",
    "from skimage.io import imread\n",
    "input_image = '/Users/adithya/Documents/MATLAB/project/cbir_dataset/sample/images/00000957_001.png'\n",
    "im = imread(input_image)\n",
    "if(im.shape == (1024,1024)):\n",
    "    im_gray = im\n",
    "else:\n",
    "    im_gray = cv2.cvtColor(im, cv2.COLOR_BGR2GRAY)\n",
    "    \n",
    "image111 = im_gray\n",
    "image221=im_gray[0:r2,0:c2]\n",
    "image222=im_gray[0:r2,c2+0:2*c2]\n",
    "image223=im_gray[r2+0:2*r2,0:c2]\n",
    "image224=im_gray[r2+0:2*r2,c2+0:2*c2]\n",
    "image331 = im_gray[0:r3, 0:c3]\n",
    "image332 = im_gray[0:r3, c3+0:2*c3]\n",
    "image333 = im_gray[0:r3, 2*c3+0:3*c3+1]\n",
    "image334 = im_gray[r3+0:2*r3, 0:c3]\n",
    "image335 = im_gray[r3+0:2*r3, c3+0:2*c3]\n",
    "image336 = im_gray[r3+0:2*r3, 2*c3+0:3*c3+1]\n",
    "image337 = im_gray[2*r3+0:3*r3+1, 0:c3]\n",
    "image338 = im_gray[2*r3+0:3*r3+1, c3+0:2*c3]\n",
    "image339 = im_gray[2*r3+0:3*r3+1, 2*c3+0:3*c3+1]\n",
    "image441 = im_gray[0:r4, 0:c4]\n",
    "image442 = im_gray[0:r4, c4+0:2*c4]\n",
    "image443 = im_gray[0:r4, 2*c4+0:3*c4]\n",
    "image444 = im_gray[0:r4, 3*c4+0:4*c4]\n",
    "image445 = im_gray[r4+0:2*r4, 0:c4]\n",
    "image446 = im_gray[r4+0:2*r4, c4+0:2*c4]\n",
    "image447 = im_gray[r4+0:2*r4, 2*c4+0:3*c4]\n",
    "image448 = im_gray[r4+0:2*r4, 3*c4+0:4*c4]\n",
    "image449 = im_gray[2*r4+0:3*r4, 0:c4]\n",
    "image4410 = im_gray[2*r4+0:3*r4, c4+0:2*c4]\n",
    "image4411 = im_gray[2*r4+0:3*r4, 2*c4+0:3*c4]\n",
    "image4412 = im_gray[2*r4+0:3*r4, 3*c4+0:4*c4]\n",
    "image4413 = im_gray[3*r4+0:4*r4, 0:c4]\n",
    "image4414 = im_gray[3*r4+0:4*r4, c4+0:2*c4]\n",
    "image4415 = im_gray[3*r4+0:4*r4, 2*c4+0:3*c4]\n",
    "image4416 = im_gray[3*r4+0:4*r4, 3*c4+0:4*c4]\n",
    "\n",
    "lbp_image111=local_binary_pattern(image111,8,1,method='nri_uniform')\n",
    "histogram111=scipy.stats.itemfreq(lbp_image111)\n",
    "lbp_image221=local_binary_pattern(image221,8,1,method='nri_uniform')\n",
    "histogram221=scipy.stats.itemfreq(lbp_image221)\n",
    "lbp_image222=local_binary_pattern(image222,8,1,method='nri_uniform')\n",
    "histogram222=scipy.stats.itemfreq(lbp_image222)\n",
    "lbp_image223=local_binary_pattern(image223,8,1,method='nri_uniform')\n",
    "histogram223=scipy.stats.itemfreq(lbp_image223)\n",
    "lbp_image224=local_binary_pattern(image224,8,1,method='nri_uniform')\n",
    "histogram224=scipy.stats.itemfreq(lbp_image224)\n",
    "lbp_image331=local_binary_pattern(image331,8,1,method='nri_uniform')\n",
    "histogram331=scipy.stats.itemfreq(lbp_image331)\n",
    "lbp_image332=local_binary_pattern(image332,8,1,method='nri_uniform')\n",
    "histogram332=scipy.stats.itemfreq(lbp_image332)\n",
    "lbp_image333=local_binary_pattern(image333,8,1,method='nri_uniform')\n",
    "histogram333=scipy.stats.itemfreq(lbp_image333)\n",
    "lbp_image334=local_binary_pattern(image334,8,1,method='nri_uniform')\n",
    "histogram334=scipy.stats.itemfreq(lbp_image334)\n",
    "lbp_image335=local_binary_pattern(image335,8,1,method='nri_uniform')\n",
    "histogram335=scipy.stats.itemfreq(lbp_image335)\n",
    "lbp_image336=local_binary_pattern(image336,8,1,method='nri_uniform')\n",
    "histogram336=scipy.stats.itemfreq(lbp_image336)\n",
    "lbp_image337=local_binary_pattern(image337,8,1,method='nri_uniform')\n",
    "histogram337=scipy.stats.itemfreq(lbp_image337)\n",
    "lbp_image338=local_binary_pattern(image338,8,1,method='nri_uniform')\n",
    "histogram338=scipy.stats.itemfreq(lbp_image338)\n",
    "lbp_image339=local_binary_pattern(image339,8,1,method='nri_uniform')\n",
    "histogram339=scipy.stats.itemfreq(lbp_image339)\n",
    "lbp_image441=local_binary_pattern(image441,8,1,method='nri_uniform')\n",
    "histogram441=scipy.stats.itemfreq(lbp_image441)\n",
    "lbp_image442=local_binary_pattern(image442,8,1,method='nri_uniform')\n",
    "histogram442=scipy.stats.itemfreq(lbp_image442)\n",
    "lbp_image443=local_binary_pattern(image443,8,1,method='nri_uniform')\n",
    "histogram443=scipy.stats.itemfreq(lbp_image443)\n",
    "lbp_image444=local_binary_pattern(image444,8,1,method='nri_uniform')\n",
    "histogram444=scipy.stats.itemfreq(lbp_image444)\n",
    "lbp_image445=local_binary_pattern(image445,8,1,method='nri_uniform')\n",
    "histogram445=scipy.stats.itemfreq(lbp_image445)\n",
    "lbp_image446=local_binary_pattern(image446,8,1,method='nri_uniform')\n",
    "histogram446=scipy.stats.itemfreq(lbp_image446)\n",
    "lbp_image447=local_binary_pattern(image447,8,1,method='nri_uniform')\n",
    "histogram447=scipy.stats.itemfreq(lbp_image447)\n",
    "lbp_image448=local_binary_pattern(image448,8,1,method='nri_uniform')\n",
    "histogram448=scipy.stats.itemfreq(lbp_image448)\n",
    "lbp_image449=local_binary_pattern(image449,8,1,method='nri_uniform')\n",
    "histogram449=scipy.stats.itemfreq(lbp_image449)\n",
    "lbp_image4410=local_binary_pattern(image4410,8,1,method='nri_uniform')\n",
    "histogram4410=scipy.stats.itemfreq(lbp_image4410)\n",
    "lbp_image4411=local_binary_pattern(image4411,8,1,method='nri_uniform')\n",
    "histogram4411=scipy.stats.itemfreq(lbp_image4411)\n",
    "lbp_image4412=local_binary_pattern(image4412,8,1,method='nri_uniform')\n",
    "histogram4412=scipy.stats.itemfreq(lbp_image4412)\n",
    "lbp_image4413=local_binary_pattern(image4413,8,1,method='nri_uniform')\n",
    "histogram4413=scipy.stats.itemfreq(lbp_image4413)\n",
    "lbp_image4414=local_binary_pattern(image4414,8,1,method='nri_uniform')\n",
    "histogram4414=scipy.stats.itemfreq(lbp_image4414)\n",
    "lbp_image4415=local_binary_pattern(image4415,8,1,method='nri_uniform')\n",
    "histogram4415=scipy.stats.itemfreq(lbp_image4415)\n",
    "lbp_image4416=local_binary_pattern(image4416,8,1,method='nri_uniform')\n",
    "histogram4416=scipy.stats.itemfreq(lbp_image4416)\n",
    "histogram = np.vstack((histogram111,histogram221,histogram222,histogram223,histogram224,histogram331,histogram332,histogram333,histogram334,histogram335,histogram336,histogram337,histogram338,histogram339,histogram441,histogram442,histogram443,histogram444,histogram445,histogram446,histogram447,histogram448,histogram449,histogram4410,histogram4411,histogram4412,histogram4413,histogram4414,histogram4415,histogram4416))\n",
    "hist = histogram[:, 1]/sum(histogram[:, 1])"
   ]
  },
  {
   "cell_type": "code",
   "execution_count": 254,
   "metadata": {},
   "outputs": [],
   "source": [
    "# Initiate STAR detector\n",
    "orb = cv2.ORB_create()\n",
    "# find the keypoints with ORB\n",
    "kp = orb.detect(im_gray,None)\n",
    "# compute the descriptors with ORB\n",
    "kp, x = orb.compute(im_gray, kp)#here x is the descriptor\n",
    "x2 = x.ravel()\n",
    "# Normalize the histogram\n",
    "x3 = x[:, 1]/sum(x[:, 1])\n",
    "\n",
    "\n"
   ]
  },
  {
   "cell_type": "code",
   "execution_count": 255,
   "metadata": {},
   "outputs": [
    {
     "data": {
      "text/plain": [
       "(1770,)"
      ]
     },
     "execution_count": 255,
     "metadata": {},
     "output_type": "execute_result"
    }
   ],
   "source": [
    "hist.shape"
   ]
  },
  {
   "cell_type": "code",
   "execution_count": 256,
   "metadata": {},
   "outputs": [
    {
     "data": {
      "text/plain": [
       "(142,)"
      ]
     },
     "execution_count": 256,
     "metadata": {},
     "output_type": "execute_result"
    }
   ],
   "source": [
    "x3.shape"
   ]
  },
  {
   "cell_type": "code",
   "execution_count": 257,
   "metadata": {},
   "outputs": [],
   "source": [
    "N = 500-(x3.shape)[0]\n",
    "x3= np.pad(x3, (0, N), 'constant')\n",
    "x3 = x3.reshape(-1,1)"
   ]
  },
  {
   "cell_type": "code",
   "execution_count": 258,
   "metadata": {},
   "outputs": [
    {
     "data": {
      "text/plain": [
       "(500, 1)"
      ]
     },
     "execution_count": 258,
     "metadata": {},
     "output_type": "execute_result"
    }
   ],
   "source": [
    "x3.shape"
   ]
  },
  {
   "cell_type": "code",
   "execution_count": 259,
   "metadata": {},
   "outputs": [],
   "source": [
    "N = 1770-(hist.shape)[0]\n",
    "hist= np.pad(hist, (0, N), 'constant')\n",
    "hist = hist.reshape(-1,1)"
   ]
  },
  {
   "cell_type": "code",
   "execution_count": 260,
   "metadata": {},
   "outputs": [
    {
     "data": {
      "text/plain": [
       "(1770, 1)"
      ]
     },
     "execution_count": 260,
     "metadata": {},
     "output_type": "execute_result"
    }
   ],
   "source": [
    "hist.shape"
   ]
  },
  {
   "cell_type": "code",
   "execution_count": 261,
   "metadata": {},
   "outputs": [],
   "source": [
    "x3 = x3.T\n",
    "hist = hist.T"
   ]
  },
  {
   "cell_type": "code",
   "execution_count": 262,
   "metadata": {},
   "outputs": [],
   "source": [
    "input_image_orb = lle_orb.transform(x3)\n",
    "input_image_lbp = lle_lbp.transform(hist)"
   ]
  },
  {
   "cell_type": "code",
   "execution_count": 263,
   "metadata": {},
   "outputs": [
    {
     "data": {
      "text/plain": [
       "(1, 500)"
      ]
     },
     "execution_count": 263,
     "metadata": {},
     "output_type": "execute_result"
    }
   ],
   "source": [
    "input_image_orb.shape"
   ]
  },
  {
   "cell_type": "code",
   "execution_count": 264,
   "metadata": {},
   "outputs": [
    {
     "data": {
      "text/plain": [
       "(1, 500)"
      ]
     },
     "execution_count": 264,
     "metadata": {},
     "output_type": "execute_result"
    }
   ],
   "source": [
    "input_image_lbp.shape"
   ]
  },
  {
   "cell_type": "code",
   "execution_count": 265,
   "metadata": {},
   "outputs": [],
   "source": [
    "order = ['Atelectasis','Cardiomegaly','Consolidation','Edema','Effusion','Emphysema','Fibrosis','Hernia','Infiltration','Mass','Nodule','Pleural_Thickening','Pneumonia','Pneumothorax']"
   ]
  },
  {
   "cell_type": "code",
   "execution_count": 266,
   "metadata": {},
   "outputs": [],
   "source": [
    "total = np.hstack((input_image_orb,input_image_lbp))"
   ]
  },
  {
   "cell_type": "code",
   "execution_count": 267,
   "metadata": {},
   "outputs": [
    {
     "data": {
      "text/plain": [
       "(1, 1000)"
      ]
     },
     "execution_count": 267,
     "metadata": {},
     "output_type": "execute_result"
    }
   ],
   "source": [
    "total.shape"
   ]
  },
  {
   "cell_type": "code",
   "execution_count": 268,
   "metadata": {},
   "outputs": [],
   "source": [
    "new_pred = model.predict(total)"
   ]
  },
  {
   "cell_type": "code",
   "execution_count": 269,
   "metadata": {},
   "outputs": [
    {
     "data": {
      "text/plain": [
       "array([[0.12146926, 0.0291679 , 0.04465931, 0.02577236, 0.12602487,\n",
       "        0.02490053, 0.02831394, 0.00472063, 0.31663072, 0.05720784,\n",
       "        0.09786512, 0.03846723, 0.00814269, 0.07665759]], dtype=float32)"
      ]
     },
     "execution_count": 269,
     "metadata": {},
     "output_type": "execute_result"
    }
   ],
   "source": [
    "new_pred"
   ]
  },
  {
   "cell_type": "code",
   "execution_count": 270,
   "metadata": {},
   "outputs": [],
   "source": [
    "import numpy as np\n",
    "arg = np.argmax(new_pred)"
   ]
  },
  {
   "cell_type": "code",
   "execution_count": 271,
   "metadata": {},
   "outputs": [
    {
     "data": {
      "text/plain": [
       "8"
      ]
     },
     "execution_count": 271,
     "metadata": {},
     "output_type": "execute_result"
    }
   ],
   "source": [
    "arg"
   ]
  },
  {
   "cell_type": "code",
   "execution_count": 272,
   "metadata": {},
   "outputs": [],
   "source": [
    "inp_ans = new_pred[0][arg]"
   ]
  },
  {
   "cell_type": "code",
   "execution_count": 273,
   "metadata": {},
   "outputs": [
    {
     "data": {
      "text/plain": [
       "0.31663072"
      ]
     },
     "execution_count": 273,
     "metadata": {},
     "output_type": "execute_result"
    }
   ],
   "source": [
    "inp_ans"
   ]
  },
  {
   "cell_type": "code",
   "execution_count": null,
   "metadata": {},
   "outputs": [],
   "source": []
  },
  {
   "cell_type": "code",
   "execution_count": 274,
   "metadata": {},
   "outputs": [],
   "source": [
    "predicted = pd.read_csv('/Users/adithya/Documents/MATLAB/project/cbir_dataset/sample/predicted_pca.csv')"
   ]
  },
  {
   "cell_type": "code",
   "execution_count": 275,
   "metadata": {},
   "outputs": [
    {
     "data": {
      "text/plain": [
       "(1186, 15)"
      ]
     },
     "execution_count": 275,
     "metadata": {},
     "output_type": "execute_result"
    }
   ],
   "source": [
    "predicted.shape"
   ]
  },
  {
   "cell_type": "code",
   "execution_count": 276,
   "metadata": {},
   "outputs": [],
   "source": [
    "fin = []\n",
    "for i in range(0,1186):\n",
    "    ans = predicted[str(np.argmax(new_pred))][i]\n",
    "    fin.append(abs(inp_ans-ans))"
   ]
  },
  {
   "cell_type": "code",
   "execution_count": 277,
   "metadata": {},
   "outputs": [
    {
     "data": {
      "text/plain": [
       "[0.000994951092224139,\n",
       " 0.001768471092224111,\n",
       " 0.0004767210922241305,\n",
       " 0.002558081092224107,\n",
       " 0.0007429710922240984,\n",
       " 0.00042059890777590425,\n",
       " 0.0002460489077758532,\n",
       " 0.0018953989077759026,\n",
       " 0.001979348907775902,\n",
       " 0.0024389910922241187,\n",
       " 0.00044358109222414344,\n",
       " 0.0002598810922241346,\n",
       " 0.0007400189077758634,\n",
       " 0.0008802789077758666,\n",
       " 0.00019862890777588849,\n",
       " 0.0005671389077758771,\n",
       " 0.000539008907775862,\n",
       " 0.0021122789077758775,\n",
       " 0.0015026589077759,\n",
       " 0.0014049989077759006,\n",
       " 0.0015291210922241394,\n",
       " 0.0010788410922241143,\n",
       " 0.001387178907775899,\n",
       " 0.0012356089077758536,\n",
       " 0.0005774210922241396,\n",
       " 0.0006640810922241003,\n",
       " 0.001613348907775869,\n",
       " 0.0020457210922241176,\n",
       " 0.0010927010922241465,\n",
       " 0.0005867189077758961,\n",
       " 0.0005332489077758962,\n",
       " 0.001499061092224141,\n",
       " 0.0006709989077758882,\n",
       " 0.0015772589077758803,\n",
       " 0.002515078907775914,\n",
       " 0.0014201210922241692,\n",
       " 0.0002800510922241206,\n",
       " 0.0007321189077758583,\n",
       " 0.0005628510922241481,\n",
       " 0.0013123789077758574,\n",
       " 0.0009767710922241046,\n",
       " 0.0007815989077759045,\n",
       " 0.0016659789077758669,\n",
       " 0.0013274289077758739,\n",
       " 0.0018199410922241088,\n",
       " 0.0004501910922241059,\n",
       " 0.0008709989077758662,\n",
       " 0.0014699389077758584,\n",
       " 0.001110528907775854,\n",
       " 0.0007617210922241102,\n",
       " 0.00037646109222411184,\n",
       " 0.0007378489077758954,\n",
       " 0.0010221289077758655,\n",
       " 0.0006064510922241251,\n",
       " 0.0005737789077758793,\n",
       " 0.00038932109222411526,\n",
       " 0.0013064410922241088,\n",
       " 0.0011548210922241453,\n",
       " 0.0007557610922241387,\n",
       " 0.0011624410922241313,\n",
       " 0.0006582189077758982,\n",
       " 0.0009454489077758699,\n",
       " 0.001382261092224113,\n",
       " 0.0014609389077758772,\n",
       " 0.001678051092224131,\n",
       " 0.0014615989077758629,\n",
       " 0.0016645789077758821,\n",
       " 0.0009287010922240935,\n",
       " 0.00013414109222409376,\n",
       " 0.0015500210922240742,\n",
       " 0.0017791989077758918,\n",
       " 0.0004374710922241398,\n",
       " 0.0012573910922241138,\n",
       " 0.0008971789077759085,\n",
       " 0.001121878907775875,\n",
       " 6.288109222413185e-05,\n",
       " 0.0014924089077758551,\n",
       " 0.0005584389077759044,\n",
       " 0.0006492410922241398,\n",
       " 0.001551078907775838,\n",
       " 0.0002704210922241379,\n",
       " 0.0013627210922241284,\n",
       " 0.0007737789077759127,\n",
       " 0.0016285189077758777,\n",
       " 0.0008309189077758683,\n",
       " 0.0006459610922241454,\n",
       " 0.0008788710922241205,\n",
       " 0.0002901589077758948,\n",
       " 0.0005216789077759354,\n",
       " 0.0004775510922241377,\n",
       " 0.001142678907775918,\n",
       " 0.0009562210922241521,\n",
       " 0.0008430789077758516,\n",
       " 0.001631021092224072,\n",
       " 0.0003097789077758928,\n",
       " 0.000931178907775887,\n",
       " 0.000626418907775872,\n",
       " 0.0012458789077758325,\n",
       " 0.0005320210922241109,\n",
       " 0.0020265610922240995,\n",
       " 0.0012357789077758752,\n",
       " 0.0006045410922241312,\n",
       " 0.0007129589077758958,\n",
       " 0.0005313189077758573,\n",
       " 0.0004287389077758941,\n",
       " 0.0004572589077758704,\n",
       " 2.128109222410135e-05,\n",
       " 0.0006990710922241128,\n",
       " 0.0016508789077758768,\n",
       " 0.0003020789077758934,\n",
       " 0.0006529210922241457,\n",
       " 0.0001438589077758512,\n",
       " 0.000879138907775856,\n",
       " 0.0001286589077758582,\n",
       " 0.0017447489077758727,\n",
       " 0.000350151092224138,\n",
       " 0.0001608989077758749,\n",
       " 1.9778907775880317e-05,\n",
       " 0.0011002789077758646,\n",
       " 0.00017157109222409872,\n",
       " 0.0011128789077758383,\n",
       " 0.0005273189077758533,\n",
       " 0.0016274710922241087,\n",
       " 0.0006274789077759246,\n",
       " 0.00015107890777588118,\n",
       " 0.0006842910922241208,\n",
       " 0.0011518910922241332,\n",
       " 0.000969501092224101,\n",
       " 0.0021986789077759195,\n",
       " 0.00022164109222411188,\n",
       " 0.0010296210922240978,\n",
       " 0.001063498907775906,\n",
       " 0.0005711910922241437,\n",
       " 0.001059858907775879,\n",
       " 0.0019842789077758605,\n",
       " 0.0007302210922240926,\n",
       " 0.0016432210922241453,\n",
       " 0.001883721092224122,\n",
       " 0.0004645010922241233,\n",
       " 0.00020067890777591968,\n",
       " 0.0014522789077758835,\n",
       " 0.0007517589077759013,\n",
       " 0.0006132710922241436,\n",
       " 0.0012167410922241384,\n",
       " 0.0019568210922241147,\n",
       " 0.001352641092224105,\n",
       " 0.001281651092224112,\n",
       " 0.0015140489077759,\n",
       " 0.0017272210922241182,\n",
       " 0.0016669789077758956,\n",
       " 0.00021344109222409813,\n",
       " 0.0021221389077759056,\n",
       " 0.0006414210922240926,\n",
       " 0.0003393789077758558,\n",
       " 0.0005578989077758556,\n",
       " 0.0008953210922241217,\n",
       " 7.837890777584455e-05,\n",
       " 0.0025736089077758595,\n",
       " 0.0007615089077758763,\n",
       " 0.00029560890777585724,\n",
       " 0.002246321092224113,\n",
       " 0.00034028109222411507,\n",
       " 0.0005996210922241674,\n",
       " 0.0015968389077758993,\n",
       " 0.00123224109222414,\n",
       " 0.0006948989077758538,\n",
       " 0.001541558907775853,\n",
       " 0.0013189589077758912,\n",
       " 0.00021100109222410568,\n",
       " 0.001352701092224129,\n",
       " 1.0938907775870366e-05,\n",
       " 0.0011032489077758556,\n",
       " 0.002213421092224166,\n",
       " 0.0026762789077758864,\n",
       " 0.0007025289077758901,\n",
       " 9.829109222414534e-05,\n",
       " 0.002245191092224097,\n",
       " 0.0005537589077758698,\n",
       " 0.00032532109222410677,\n",
       " 0.00052677890777586,\n",
       " 0.0012627789077758744,\n",
       " 0.0014774789077758865,\n",
       " 0.0007260989077758628,\n",
       " 0.0018187510922241246,\n",
       " 4.757890777584706e-05,\n",
       " 0.0017127789077758804,\n",
       " 0.0002714389077758672,\n",
       " 0.0004562710922241253,\n",
       " 0.00045657109222413395,\n",
       " 0.0011109210922241597,\n",
       " 0.000769198907775881,\n",
       " 0.0017609589077758891,\n",
       " 0.0018363589077758924,\n",
       " 0.0009548789077758468,\n",
       " 0.00043897890777588877,\n",
       " 0.0014303789077758644,\n",
       " 0.0005634410922241151,\n",
       " 0.0006634910922241333,\n",
       " 0.0013265910922241053,\n",
       " 0.000966491092224131,\n",
       " 0.000817538907775861,\n",
       " 0.0014279489077758667,\n",
       " 0.001702428907775888,\n",
       " 0.00015642109222413492,\n",
       " 0.0003502389077758572,\n",
       " 0.001010151092224132,\n",
       " 0.0019136410922241387,\n",
       " 8.747890777588418e-05,\n",
       " 0.0007585910922241479,\n",
       " 0.0002969810922241467,\n",
       " 0.0001322289077758665,\n",
       " 6.0138907775897366e-05,\n",
       " 0.0011501910922241398,\n",
       " 0.0014435989077759004,\n",
       " 0.000126628907775872,\n",
       " 0.002079098907775856,\n",
       " 0.0009973010922241232,\n",
       " 0.0014490510922240962,\n",
       " 0.00046449890777588987,\n",
       " 0.0012369189077758858,\n",
       " 0.001147061092224122,\n",
       " 0.001437478907775902,\n",
       " 8.68710922241056e-05,\n",
       " 0.0007304810922241223,\n",
       " 0.0015279989077758849,\n",
       " 0.0009346210922241416,\n",
       " 0.0004788589077758809,\n",
       " 0.0011120189077759024,\n",
       " 0.00033512109222416653,\n",
       " 0.0014045510922240934,\n",
       " 0.0009030710922240948,\n",
       " 0.0018978210922240835,\n",
       " 0.0013921810922241096,\n",
       " 0.001024658907775866,\n",
       " 0.0024974089077758888,\n",
       " 0.0018812089077758776,\n",
       " 0.0008102210922241171,\n",
       " 0.00036630109222413054,\n",
       " 0.00119969109222412,\n",
       " 0.0014533210922240691,\n",
       " 0.0012396910922241045,\n",
       " 0.0013394910922241432,\n",
       " 0.0007721210922241317,\n",
       " 0.0011921489077758585,\n",
       " 0.0013495789077758724,\n",
       " 0.000489408907775879,\n",
       " 0.0008936189077758949,\n",
       " 0.0008883789077758775,\n",
       " 0.0008397389077758888,\n",
       " 0.0005553389077758708,\n",
       " 0.0002782610922241191,\n",
       " 0.0018552510922241194,\n",
       " 0.0003153089077758686,\n",
       " 0.00020682890777590224,\n",
       " 0.002171248907775869,\n",
       " 0.001091808907775882,\n",
       " 0.0003722910922241418,\n",
       " 0.0021291789077759193,\n",
       " 0.000571008907775894,\n",
       " 0.0012979189077758635,\n",
       " 5.06010922241007e-05,\n",
       " 0.0010961910922241414,\n",
       " 0.00047585109222414435,\n",
       " 0.0004210189077759052,\n",
       " 0.0006608989077758753,\n",
       " 0.001501978907775925,\n",
       " 0.0004397610922241002,\n",
       " 0.0010737489077758955,\n",
       " 0.00126919109222412,\n",
       " 0.0006663189077758536,\n",
       " 0.0009010989077758991,\n",
       " 0.0016430610922241184,\n",
       " 0.00044590109222414354,\n",
       " 0.0014242189077758871,\n",
       " 0.0009055389077758935,\n",
       " 0.0004766610922241066,\n",
       " 0.0010765210922241142,\n",
       " 0.00029158109222410244,\n",
       " 0.001397728907775897,\n",
       " 0.0009653589077758817,\n",
       " 0.0011175289077758888,\n",
       " 6.586109222411762e-05,\n",
       " 0.0013596089077758666,\n",
       " 0.0003101810922241377,\n",
       " 0.00036272890777588884,\n",
       " 0.0012519989077758864,\n",
       " 0.0015523410922241299,\n",
       " 0.0010863510922241026,\n",
       " 0.0007041789077759097,\n",
       " 0.00042289109222409804,\n",
       " 0.00241367890777594,\n",
       " 0.0018374289077758843,\n",
       " 0.0005235389077759001,\n",
       " 0.0015688789077758503,\n",
       " 0.001350108907775871,\n",
       " 0.0008838489077758749,\n",
       " 0.0009638710922241223,\n",
       " 0.00032755890777586005,\n",
       " 0.0012487510922241096,\n",
       " 0.0016321789077758941,\n",
       " 7.691890777589139e-05,\n",
       " 0.0016013710922241353,\n",
       " 0.001608048907775883,\n",
       " 0.0025734610922241163,\n",
       " 0.00029316109222410347,\n",
       " 0.0008476389077758939,\n",
       " 0.0011633589077758577,\n",
       " 0.00012172109222408078,\n",
       " 0.0004350589077758982,\n",
       " 0.0011354710922241162,\n",
       " 0.0014231489077758952,\n",
       " 0.001227478907775914,\n",
       " 1.4378907775836058e-05,\n",
       " 0.0008851589077758515,\n",
       " 0.0012275610922241054,\n",
       " 0.0016659489077758827,\n",
       " 0.0013586610922241005,\n",
       " 0.0015469210922241516,\n",
       " 0.00040542109222413414,\n",
       " 0.0014044089077758781,\n",
       " 0.0015975810922241318,\n",
       " 0.0018221989077758516,\n",
       " 0.0015346989077758555,\n",
       " 0.0005001789077758723,\n",
       " 1.418109222411923e-05,\n",
       " 0.000790778907775902,\n",
       " 0.0003094089077758655,\n",
       " 0.0012912710922241,\n",
       " 0.0002868189077758765,\n",
       " 0.00011442109222409291,\n",
       " 0.0015023210922240904,\n",
       " 0.0016412410922241327,\n",
       " 0.0007581710922241469,\n",
       " 0.0021569989077758756,\n",
       " 0.0014233789077758296,\n",
       " 0.0014789989077758636,\n",
       " 0.0020580289077758995,\n",
       " 0.001219121092224107,\n",
       " 3.677890777586956e-05,\n",
       " 0.001053958907775876,\n",
       " 0.0021887410922241113,\n",
       " 0.0010735989077758634,\n",
       " 3.809109222413509e-05,\n",
       " 0.0012765189077758587,\n",
       " 0.0010001989077758622,\n",
       " 0.0003432289077758832,\n",
       " 0.0009028789077758503,\n",
       " 0.001164261092224117,\n",
       " 0.002322478907775871,\n",
       " 0.0005093810922241482,\n",
       " 0.001109921092224131,\n",
       " 0.0007457389077759058,\n",
       " 0.0015420010922241323,\n",
       " 0.0017129189077758622,\n",
       " 0.0012245789077758862,\n",
       " 0.0016230610922240984,\n",
       " 0.0003132489077758982,\n",
       " 0.0012590589077758896,\n",
       " 0.0013435489077758822,\n",
       " 0.0019223410922241113,\n",
       " 0.0016443210922241214,\n",
       " 0.001342298907775874,\n",
       " 5.3178907775897066e-05,\n",
       " 0.0009325410922241262,\n",
       " 0.0014305389077758912,\n",
       " 0.0003226389077758962,\n",
       " 0.0014336089077758851,\n",
       " 0.0012730910922241212,\n",
       " 0.0002542389077758722,\n",
       " 0.0012224589077758918,\n",
       " 0.0005107510922241487,\n",
       " 0.0008088389077758884,\n",
       " 0.0006353289077759006,\n",
       " 0.0008979489077758918,\n",
       " 0.0008589010922241402,\n",
       " 0.001253101092224096,\n",
       " 0.00014822109222412116,\n",
       " 0.0002922089077758705,\n",
       " 0.0015043289077758537,\n",
       " 0.0004083189077758731,\n",
       " 5.218907775883519e-06,\n",
       " 0.0005202289077758659,\n",
       " 0.0009947989077758734,\n",
       " 0.002222661092224132,\n",
       " 0.0008354489077758709,\n",
       " 0.0021571810922241252,\n",
       " 0.0007292289077758807,\n",
       " 0.0017816210922241282,\n",
       " 0.0004866710922241113,\n",
       " 0.0016038210922241225,\n",
       " 0.0002316489077758832,\n",
       " 0.0013894410922241085,\n",
       " 0.0016487289077758982,\n",
       " 0.001191938907775858,\n",
       " 0.00029787109222412234,\n",
       " 0.000814321092224124,\n",
       " 0.0005750010922241366,\n",
       " 0.002104851092224136,\n",
       " 0.000211541092224099,\n",
       " 0.00046238109222412893,\n",
       " 0.000931291092224118,\n",
       " 0.00021027890777586267,\n",
       " 0.001818598907775859,\n",
       " 0.0006008210922240909,\n",
       " 0.000365351092224131,\n",
       " 0.00046830890777588285,\n",
       " 0.0010782810922241315,\n",
       " 0.002446651092224139,\n",
       " 0.0011995989077758784,\n",
       " 0.00016048109222410734,\n",
       " 0.0013528789077758563,\n",
       " 0.0020720989077758767,\n",
       " 0.000501598907775902,\n",
       " 0.0024757989077758835,\n",
       " 0.0003947910922241227,\n",
       " 0.0005465189077759058,\n",
       " 0.0015393789077758346,\n",
       " 0.0001332710922241076,\n",
       " 0.000919728907775863,\n",
       " 0.0012637389077758687,\n",
       " 0.0006161610922241212,\n",
       " 0.0016965010922241341,\n",
       " 0.000238208907775872,\n",
       " 0.0009835910922241231,\n",
       " 0.0006029589077758968,\n",
       " 0.0014848789077758773,\n",
       " 0.0004278989077758921,\n",
       " 0.0013084989077759013,\n",
       " 0.0006477210922241072,\n",
       " 0.0006996989077758808,\n",
       " 0.001417461092224126,\n",
       " 0.0004491189077758806,\n",
       " 0.0017788789077758382,\n",
       " 0.002260878907775876,\n",
       " 0.001057118907775878,\n",
       " 0.0015883189077758875,\n",
       " 0.000629178907775918,\n",
       " 0.002070218907775867,\n",
       " 0.0007558210922241071,\n",
       " 0.00024440890777588375,\n",
       " 0.0020304010922241322,\n",
       " 0.0008988389077758674,\n",
       " 0.0008026910922241393,\n",
       " 9.322109222409392e-05,\n",
       " 1.874890777586735e-05,\n",
       " 0.0016060189077758968,\n",
       " 0.0017713789077758446,\n",
       " 0.0024443289077759056,\n",
       " 9.096109222411775e-05,\n",
       " 0.0006770189077758837,\n",
       " 0.0010019810922241024,\n",
       " 0.0026888589077758707,\n",
       " 0.0002643489077758798,\n",
       " 0.0016298289077758543,\n",
       " 0.0012645710922241093,\n",
       " 0.0008913589077758632,\n",
       " 8.854109222411477e-05,\n",
       " 0.00024437890777584403,\n",
       " 0.0007423410922240969,\n",
       " 0.0006587810922241144,\n",
       " 0.0006046789077758796,\n",
       " 0.0014985789077758271,\n",
       " 0.00022827890777588067,\n",
       " 0.0019120289077758645,\n",
       " 0.0012708289077758561,\n",
       " 0.00031342890777585897,\n",
       " 0.000434341092224122,\n",
       " 0.0017324210922241567,\n",
       " 0.0008044289077758782,\n",
       " 0.0014849289077759065,\n",
       " 0.0010833189077758543,\n",
       " 0.0002787089077758709,\n",
       " 0.0009449789077758952,\n",
       " 0.00039675890777585154,\n",
       " 0.0005865710922240974,\n",
       " 0.0005759610922241309,\n",
       " 0.0008004610922241473,\n",
       " 0.00025382109222410465,\n",
       " 0.0003462410922241421,\n",
       " 0.00045457109222413195,\n",
       " 1.1261092224101876e-05,\n",
       " 0.0006023989077758585,\n",
       " 0.0016046789077758805,\n",
       " 0.0003078610922241376,\n",
       " 0.0019721389077758666,\n",
       " 0.0015515989077758974,\n",
       " 0.0007929510922241034,\n",
       " 0.0007517589077759013,\n",
       " 0.0015277789077758896,\n",
       " 0.0003733910922241179,\n",
       " 0.00037187890777584665,\n",
       " 0.0006388389077758849,\n",
       " 0.0011975810922241203,\n",
       " 0.000677671092224108,\n",
       " 0.0014067289077758782,\n",
       " 0.001295651092224126,\n",
       " 0.0019311610922241318,\n",
       " 0.0004434910922241353,\n",
       " 0.0008882610922241185,\n",
       " 0.0008528189077758874,\n",
       " 0.0021386210922241244,\n",
       " 0.00195658109222413,\n",
       " 0.0018162410922241135,\n",
       " 0.0020840810922241326,\n",
       " 0.00010958109222414247,\n",
       " 0.0012882389077758516,\n",
       " 9.41210922241198e-05,\n",
       " 0.0002599910922241322,\n",
       " 0.0012273510922241049,\n",
       " 0.0008952289077758802,\n",
       " 0.001941118907775874,\n",
       " 0.0012195989077758984,\n",
       " 2.1978907775888068e-05,\n",
       " 0.0003882389077758952,\n",
       " 0.0006910810922240995,\n",
       " 0.001525881092224124,\n",
       " 0.0016764389077758568,\n",
       " 0.0011765210922241032,\n",
       " 0.000680358907775902,\n",
       " 0.00016207890777586442,\n",
       " 1.4338907775857113e-05,\n",
       " 0.0010288010922241408,\n",
       " 7.26289077758735e-05,\n",
       " 0.0004678389077758527,\n",
       " 0.0006847089077758883,\n",
       " 0.001755328907775855,\n",
       " 0.001965941092224144,\n",
       " 0.00026875890777589007,\n",
       " 0.0017482389077758675,\n",
       " 0.00034747890777586665,\n",
       " 0.0010916589077759054,\n",
       " 0.0012345789077758407,\n",
       " 0.0017952010922241413,\n",
       " 0.001178261092224131,\n",
       " 0.00013532109222408328,\n",
       " 0.0002138610922240991,\n",
       " 0.0007204410922241333,\n",
       " 0.00027329109222412606,\n",
       " 0.0009985589077758927,\n",
       " 0.0006974610922241276,\n",
       " 0.0016871089077759027,\n",
       " 0.000630721092224118,\n",
       " 0.0018723210922240718,\n",
       " 0.0014444610922241252,\n",
       " 0.0007772210922241118,\n",
       " 0.0011505510922241169,\n",
       " 0.001899321092224071,\n",
       " 0.0001920489077758547,\n",
       " 0.0006973710922241194,\n",
       " 0.00021416109222410773,\n",
       " 0.0018879210922241318,\n",
       " 0.00044057109222411794,\n",
       " 0.001169858907775878,\n",
       " 0.0020460810922240946,\n",
       " 0.002574091092224118,\n",
       " 0.0006817610922241202,\n",
       " 0.0005858589077759047,\n",
       " 0.0004699510922241412,\n",
       " 0.0017223989077758683,\n",
       " 0.0008237789077759072,\n",
       " 0.0014580489077758996,\n",
       " 0.0019223089077758937,\n",
       " 0.0007841589077758893,\n",
       " 0.00183245109222413,\n",
       " 0.0001981810922241367,\n",
       " 0.0014432410922241012,\n",
       " 0.0009842189077758912,\n",
       " 0.0006076410922241093,\n",
       " 0.00010773890777587836,\n",
       " 0.0017217210922241266,\n",
       " 0.0008127389077758895,\n",
       " 0.00041675890777587155,\n",
       " 0.0022096610922241466,\n",
       " 0.0010215010922240975,\n",
       " 0.00014007890777589793,\n",
       " 0.0006762710922241233,\n",
       " 0.00212217890777594,\n",
       " 0.0012663289077758932,\n",
       " 2.3810922241129795e-06,\n",
       " 0.001127481092224103,\n",
       " 0.00016507890777589518,\n",
       " 0.001485858907775861,\n",
       " 0.0010142910922241177,\n",
       " 0.00031972109222411227,\n",
       " 0.0009193710922241194,\n",
       " 0.002104158907775877,\n",
       " 9.999109222413871e-05,\n",
       " 0.001904921092224121,\n",
       " 0.002473358907775891,\n",
       " 0.00015610109222413682,\n",
       " 0.0007876410922241228,\n",
       " 0.0016715210922241264,\n",
       " 0.00018572890777590612,\n",
       " 0.0003973289077758846,\n",
       " 0.00030144890777589195,\n",
       " 0.0008053789077758777,\n",
       " 0.0012666289077759019,\n",
       " 0.0010153989077758552,\n",
       " 0.0012258910922240962,\n",
       " 0.0004891489077759048,\n",
       " 0.0023832589077758537,\n",
       " 0.0012725610922241226,\n",
       " 0.0008174789077758926,\n",
       " 0.001555081092224131,\n",
       " 0.001485381092224125,\n",
       " 0.0006748210922241094,\n",
       " 0.0014201389077758697,\n",
       " 0.000833061092224141,\n",
       " 0.0006857510922241294,\n",
       " 5.4778907775887564e-05,\n",
       " 0.0007475589077758915,\n",
       " 0.0014393210922241106,\n",
       " 0.00022351890777588812,\n",
       " 0.0004539489077758918,\n",
       " 0.0016920210922241052,\n",
       " 0.0023614510922241316,\n",
       " 0.0008441789077758832,\n",
       " 0.0005994989077758861,\n",
       " 0.0005691389077758791,\n",
       " 0.0012224610922241252,\n",
       " 0.0014824589077758743,\n",
       " 0.00020096109222411673,\n",
       " 0.0014669010922241377,\n",
       " 0.00027462109222414766,\n",
       " 0.0005554789077759081,\n",
       " 0.002111698907775905,\n",
       " 0.0007181210922241332,\n",
       " 0.0002264710922241231,\n",
       " 0.0009380289077758897,\n",
       " 0.0020876789077758917,\n",
       " 0.0008306489077758994,\n",
       " 0.0003581210922241618,\n",
       " 0.0009015489077758843,\n",
       " 0.00015559890777588903,\n",
       " 0.001950351092224134,\n",
       " 0.0003634989077758721,\n",
       " 0.000185218907775897,\n",
       " 0.0018383589077758944,\n",
       " 0.0009031589077758695,\n",
       " 0.0013935289077758872,\n",
       " 0.001049991092224145,\n",
       " 0.001893938907775894,\n",
       " 0.0016603210922240819,\n",
       " 0.0006670210922241071,\n",
       " 3.838109222409347e-05,\n",
       " 0.0023348789077758947,\n",
       " 4.4389077759054985e-06,\n",
       " 0.00029532109222407676,\n",
       " 0.00018528109222409883,\n",
       " 0.0004921510922241135,\n",
       " 0.0019127989077759033,\n",
       " 0.0002465289077758781,\n",
       " 0.00027051890777585186,\n",
       " 0.00030645890777586393,\n",
       " 8.142109222414318e-05,\n",
       " 0.00014010109222412082,\n",
       " 0.0003416210922241314,\n",
       " 0.0012941210922240987,\n",
       " 0.0015782789077758985,\n",
       " 0.0015823789077758499,\n",
       " 0.0022941810922241235,\n",
       " 0.0014483210922240919,\n",
       " 0.0018029189077758967,\n",
       " 0.0014021989077758756,\n",
       " 0.00035649109222413156,\n",
       " 6.094109222409827e-05,\n",
       " 0.0006066789077758816,\n",
       " 0.0023992789077759147,\n",
       " 0.0007892789077758589,\n",
       " 0.0010291289077759003,\n",
       " 0.0008889989077758842,\n",
       " 0.0010680210922241473,\n",
       " 0.001273121092224161,\n",
       " 0.0014211789077758774,\n",
       " 0.001518491092224128,\n",
       " 0.0012458589077758986,\n",
       " 0.0015808610922241062,\n",
       " 0.001183578907775873,\n",
       " 0.0006768989077758913,\n",
       " 0.0009284610922241088,\n",
       " 0.0006939510922241432,\n",
       " 0.0014333989077758846,\n",
       " 0.00040564109222412936,\n",
       " 0.0005288789077758094,\n",
       " 0.0009113210922240822,\n",
       " 0.001450678907775893,\n",
       " 0.0013537389077759032,\n",
       " 0.0013754410922240945,\n",
       " 0.00032621890777589924,\n",
       " 0.001319878907775851,\n",
       " 0.0006787489077758613,\n",
       " 0.0019023089077758737,\n",
       " 0.00044771890777589585,\n",
       " 0.00045502109222411713,\n",
       " 0.0003563489077758608,\n",
       " 0.00022724109222410638,\n",
       " 0.0009757789077758927,\n",
       " 0.0014922289077758943,\n",
       " 0.00019490890777590364,\n",
       " 0.00033620109222409766,\n",
       " 0.0016321589077759047,\n",
       " 0.0007149789077758872,\n",
       " 0.0006894210922241406,\n",
       " 0.0001466589077758762,\n",
       " 0.00017192109222413654,\n",
       " 0.0008840589077758754,\n",
       " 0.0008586389077758771,\n",
       " 0.0008749089077758621,\n",
       " 0.0022402410922240934,\n",
       " 0.00039451890777586485,\n",
       " 0.0009624389077758644,\n",
       " 0.0001653789077758483,\n",
       " 0.0011509010922240992,\n",
       " 0.0003695489077758518,\n",
       " 0.0007392510922241136,\n",
       " 0.0005432710922241291,\n",
       " 0.0010024910922241115,\n",
       " 0.0020473289077758694,\n",
       " 0.001372871092224115,\n",
       " 0.0015414210922241045,\n",
       " 0.0015959210922241174,\n",
       " 0.0012151010922241134,\n",
       " 0.0008909789077758967,\n",
       " 0.0004558610922241191,\n",
       " 0.00026995109222410774,\n",
       " 0.0003021610922241402,\n",
       " 0.002400721092224112,\n",
       " 0.0012205210922240917,\n",
       " 0.0014064589077758538,\n",
       " 7.301890777589026e-05,\n",
       " 0.0009971789077758975,\n",
       " 0.0011265610922241431,\n",
       " 0.0014499989077758624,\n",
       " 1.5189077758881453e-06,\n",
       " 0.0001808210922241149,\n",
       " 0.0017966289077758768,\n",
       " 0.0015195289077759022,\n",
       " 0.0012473210922240852,\n",
       " 0.0003183189077758941,\n",
       " 0.0016365789077758541,\n",
       " 0.0020287610922241073,\n",
       " 0.00042257109222409994,\n",
       " 0.0010533610922241476,\n",
       " 0.0019119710922241295,\n",
       " 0.0017294789077759165,\n",
       " 0.00035443890777586695,\n",
       " 0.0017328810922241367,\n",
       " 0.00021565109222410062,\n",
       " 0.0013681989077758971,\n",
       " 0.0016822789077758915,\n",
       " 0.0014254489077759058,\n",
       " 0.0014763810922241438,\n",
       " 0.001692148907775859,\n",
       " 0.0018991210922241208,\n",
       " 0.001648548907775882,\n",
       " 0.0004149789077759203,\n",
       " 0.00034267109222413383,\n",
       " 0.0012280989077758653,\n",
       " 0.0013599710922241326,\n",
       " 1.999890777587554e-05,\n",
       " 0.0012432010922241443,\n",
       " 0.001488681092224109,\n",
       " 0.00206753890777589,\n",
       " 9.631890777589414e-05,\n",
       " 0.0009579310922241402,\n",
       " 0.0001370289077758935,\n",
       " 0.0015279010922241154,\n",
       " 0.0013233089077758775,\n",
       " 0.0013685789077758637,\n",
       " 0.0002270610922241456,\n",
       " 0.0009660389077758569,\n",
       " 0.000627158907775871,\n",
       " 0.0011976989077758793,\n",
       " 0.001175881092224107,\n",
       " 0.00011262109222415218,\n",
       " 0.00097822890777588,\n",
       " 0.0012590589077758896,\n",
       " 0.0002633289077758616,\n",
       " 0.00015825109222411538,\n",
       " 0.001073958907775896,\n",
       " 0.00026905109222413737,\n",
       " 0.0022855989077758543,\n",
       " 0.0015917089077758795,\n",
       " 0.0007675610922241449,\n",
       " 0.0010304789077759113,\n",
       " 0.0004902810922240985,\n",
       " 0.001767878907775855,\n",
       " 0.0004291189077758606,\n",
       " 0.00042923890777585294,\n",
       " 0.0003004989077758924,\n",
       " 0.0010690389077758766,\n",
       " 0.0008772610922241353,\n",
       " 0.0005271210922241365,\n",
       " 0.0003462410922241421,\n",
       " 0.0007253010922241288,\n",
       " 0.00034827109222412833,\n",
       " 0.0016219289077759047,\n",
       " 0.0014570010922241305,\n",
       " 0.00012775890777588783,\n",
       " 0.0013478989077758685,\n",
       " 0.0015937389077758657,\n",
       " 0.0014685789077758526,\n",
       " 0.0006205789077758928,\n",
       " 0.001345991092224108,\n",
       " 0.00017640109222410993,\n",
       " 0.0006668610922241358,\n",
       " 0.0013496210922241403,\n",
       " 0.0015000989077758597,\n",
       " 0.0007256589077758724,\n",
       " 0.001453991092224105,\n",
       " 0.0015359789077758479,\n",
       " 0.0012514010922241026,\n",
       " 0.0010118810922241095,\n",
       " 0.0014981589077758817,\n",
       " 0.001107008907775875,\n",
       " 0.0018941710922241173,\n",
       " 1.7491092224097837e-05,\n",
       " 0.0003305089077758616,\n",
       " 0.0016442810922241424,\n",
       " 0.0015206789077759075,\n",
       " 0.0010024010922241033,\n",
       " 0.002033121092224144,\n",
       " 0.001628128907775861,\n",
       " 0.0009067910922241351,\n",
       " 0.00010069890777586465,\n",
       " 0.002521338907775894,\n",
       " 4.365890777585646e-05,\n",
       " 0.0007281010922240982,\n",
       " 0.0007396010922240959,\n",
       " 0.000991518907775879,\n",
       " 0.002142758907775877,\n",
       " 0.0015300810922241337,\n",
       " 0.0015713789077758666,\n",
       " 0.0004150910922240958,\n",
       " 0.001995821092224126,\n",
       " 4.2521092224134804e-05,\n",
       " 0.001636621092224122,\n",
       " 0.000564321092224096,\n",
       " 0.0006120489077758862,\n",
       " 0.0013192589077758998,\n",
       " 0.0007567989077758575,\n",
       " 0.0001121489077758886,\n",
       " 0.00042212109222417027,\n",
       " 0.0018871989077758888,\n",
       " 0.0016076789077758558,\n",
       " 0.0015729710922240958,\n",
       " 0.00012237109222412723,\n",
       " 0.0010016289077758866,\n",
       " 0.0010162589077759021,\n",
       " 0.0001269210922241193,\n",
       " 0.0012789789077758962,\n",
       " 0.0009586489077758609,\n",
       " 0.00020023890777587372,\n",
       " 2.681092224121606e-06,\n",
       " 0.0011742710922241217,\n",
       " 0.0007956910922241045,\n",
       " 0.0004259910922241317,\n",
       " 0.0013643510922241031,\n",
       " 0.001429881092224139,\n",
       " 0.0011398210922241026,\n",
       " 0.0008533210922240797,\n",
       " 0.00010349890777588966,\n",
       " 0.002116921092224111,\n",
       " 0.0013878210922241285,\n",
       " 0.0012596589077758513,\n",
       " 0.0015135989077758594,\n",
       " 0.001329478907775905,\n",
       " 0.0019358389077758775,\n",
       " 0.0013385089077758705,\n",
       " 0.0011845789077758462,\n",
       " 0.00026619109222414394,\n",
       " 0.0013273989077758896,\n",
       " 0.0010554789077759086,\n",
       " 0.0008820289077758892,\n",
       " 0.0009263489077758758,\n",
       " 0.0019206389077758845,\n",
       " 0.0005479710922240977,\n",
       " 0.001306201092224124,\n",
       " 0.0016085510922241308,\n",
       " 0.0008298210922241256,\n",
       " 0.0011626189077758586,\n",
       " 0.0010385789077758667,\n",
       " 0.0015904210922241258,\n",
       " 0.0019299210922241183,\n",
       " 0.0008258810922241455,\n",
       " 0.0017342589077758985,\n",
       " 0.0009177010922241102,\n",
       " 0.00045512109222412,\n",
       " 0.0002508510922241136,\n",
       " 0.001910808907775896,\n",
       " 0.0015861710922241423,\n",
       " 0.001726541092224143,\n",
       " 0.0018973610922241035,\n",
       " 0.0017177510922241068,\n",
       " 0.0018812410922240952,\n",
       " 0.0011131189077758785,\n",
       " 0.0011139510922241191,\n",
       " 0.0002153789077758428,\n",
       " 0.002709208907775873,\n",
       " 0.00033461890777586323,\n",
       " 0.0008983289077758583,\n",
       " 0.001567991092224108,\n",
       " 1.3108907775893908e-05,\n",
       " 0.0011568410922241368,\n",
       " 0.001905951092224134,\n",
       " 0.0017876010922241448,\n",
       " 0.00023869109222413032,\n",
       " 0.0011849989077759027,\n",
       " 0.0018189510922241303,\n",
       " 0.00015145109222414188,\n",
       " 0.0010119089077758603,\n",
       " 0.0015268010922241393,\n",
       " 0.0006045989077758662,\n",
       " 0.0013321010922241472,\n",
       " 0.00046646109222414633,\n",
       " 0.00043251890777590285,\n",
       " 0.0018319510922241156,\n",
       " 0.0012663789077758114,\n",
       " 0.001324278907775922,\n",
       " 0.0020594910922241416,\n",
       " 0.0009675210922240884,\n",
       " 0.0003740510922241036,\n",
       " 0.0010012989077758938,\n",
       " 0.0004476210922241264,\n",
       " 0.001921378907775828,\n",
       " 0.0018279289077758887,\n",
       " 0.001299921092224099,\n",
       " 0.0014153989077758666,\n",
       " 0.0008163210922240705,\n",
       " 0.0019027289077758747,\n",
       " 0.00016984109222412114,\n",
       " 0.0007359210922241455,\n",
       " 0.00039085890777590393,\n",
       " 0.0002029789077758748,\n",
       " 7.26010922241227e-05,\n",
       " 0.0007623210922241275,\n",
       " 0.0017379810922241168,\n",
       " 0.0003678189077758742,\n",
       " 0.001270238907775889,\n",
       " 0.0010580210922240818,\n",
       " 0.00022410890777585513,\n",
       " 0.001265978907775911,\n",
       " 0.0004412810922241328,\n",
       " 0.0006428089077759047,\n",
       " 0.0019690389077758885,\n",
       " 0.0009029810922241421,\n",
       " 8.034890777586234e-05,\n",
       " 0.0018576710922241224,\n",
       " 0.0016687489077758522,\n",
       " 0.0008729389077758998,\n",
       " 0.0007799589077758795,\n",
       " 0.0016201089077758635,\n",
       " 0.0006032289077758657,\n",
       " 0.0004110610922241076,\n",
       " 0.000555121092224109,\n",
       " 0.0007157210922241197,\n",
       " 0.0008873389077758698,\n",
       " 0.00010008109222414685,\n",
       " 7.928907775900385e-06,\n",
       " 0.001482161092224099,\n",
       " 0.0012328789077759028,\n",
       " 0.0006504210922241294,\n",
       " 0.0018172810922241212,\n",
       " 0.0001567610922241225,\n",
       " 0.0007280389077758964,\n",
       " 0.00021917890777589655,\n",
       " 7.362109222414093e-05,\n",
       " 0.0013096210922241558,\n",
       " 9.674109222412852e-05,\n",
       " 0.00045580109222409515,\n",
       " 0.0011774589077758746,\n",
       " 0.0015134810922241004,\n",
       " 0.0008711489077758983,\n",
       " 0.0012311089077758908,\n",
       " 0.0005155510922241202,\n",
       " 0.0020918289077758723,\n",
       " 5.8078907775871436e-05,\n",
       " 0.0006605210922240867,\n",
       " 0.0014897210922241166,\n",
       " 0.001502928907775869,\n",
       " 0.0017609910922241068,\n",
       " 0.002647278907775885,\n",
       " 0.0008605989077759002,\n",
       " 0.0006575210922241115,\n",
       " 0.001428128907775883,\n",
       " 0.0020766589077758635,\n",
       " 0.0002006589077758747,\n",
       " 0.00105934890777587,\n",
       " 0.0019895989077758913,\n",
       " 0.0015744610922241442,\n",
       " 0.0005145089077758791,\n",
       " 0.0004516810922240988,\n",
       " 0.0013216089077758841,\n",
       " 0.0008676789077758928,\n",
       " 0.0014405510922241294,\n",
       " 0.0006597789077759098,\n",
       " 0.001700678907775921,\n",
       " 0.0021089910922241217,\n",
       " 0.00038308109222412456,\n",
       " 0.002041521092224108,\n",
       " ...]"
      ]
     },
     "execution_count": 277,
     "metadata": {},
     "output_type": "execute_result"
    }
   ],
   "source": [
    "fin"
   ]
  },
  {
   "cell_type": "code",
   "execution_count": 278,
   "metadata": {},
   "outputs": [],
   "source": [
    "#fin2 = abs(fin-inp_ans)"
   ]
  },
  {
   "cell_type": "code",
   "execution_count": 279,
   "metadata": {},
   "outputs": [],
   "source": [
    "#fin2"
   ]
  },
  {
   "cell_type": "code",
   "execution_count": 280,
   "metadata": {},
   "outputs": [],
   "source": [
    "ind = np.argpartition(fin, 10)[:10]"
   ]
  },
  {
   "cell_type": "code",
   "execution_count": 281,
   "metadata": {},
   "outputs": [
    {
     "data": {
      "text/plain": [
       "array([ 578, 1093,  733, 1040,  646,  853,  380,  958, 1087,  170])"
      ]
     },
     "execution_count": 281,
     "metadata": {},
     "output_type": "execute_result"
    }
   ],
   "source": [
    "ind"
   ]
  },
  {
   "cell_type": "code",
   "execution_count": null,
   "metadata": {},
   "outputs": [],
   "source": []
  },
  {
   "cell_type": "code",
   "execution_count": null,
   "metadata": {},
   "outputs": [],
   "source": []
  },
  {
   "cell_type": "code",
   "execution_count": 282,
   "metadata": {},
   "outputs": [
    {
     "data": {
      "text/plain": [
       "'/Users/adithya/Documents/MATLAB/project/cbir_dataset/sample/images/00023162_023.png'"
      ]
     },
     "execution_count": 282,
     "metadata": {},
     "output_type": "execute_result"
    }
   ],
   "source": [
    "import io\n",
    "pd.read_csv(io.StringIO(file_paths_train.to_csv(index=False)))\n",
    "file_paths_train['0'][1360]"
   ]
  },
  {
   "cell_type": "code",
   "execution_count": 283,
   "metadata": {},
   "outputs": [],
   "source": [
    "from PIL import Image"
   ]
  },
  {
   "cell_type": "code",
   "execution_count": 284,
   "metadata": {},
   "outputs": [
    {
     "name": "stdout",
     "output_type": "stream",
     "text": [
      "{0: '/Users/adithya/Documents/MATLAB/project/cbir_dataset/sample/images/00015212_006.png', 1: '/Users/adithya/Documents/MATLAB/project/cbir_dataset/sample/images/00027236_000.png', 2: '/Users/adithya/Documents/MATLAB/project/cbir_dataset/sample/images/00005963_023.png', 3: '/Users/adithya/Documents/MATLAB/project/cbir_dataset/sample/images/00023069_002.png', 4: '/Users/adithya/Documents/MATLAB/project/cbir_dataset/sample/images/00000250_005.png', 5: '/Users/adithya/Documents/MATLAB/project/cbir_dataset/sample/images/00013993_002.png', 6: '/Users/adithya/Documents/MATLAB/project/cbir_dataset/sample/images/00003957_002.png', 7: '/Users/adithya/Documents/MATLAB/project/cbir_dataset/sample/images/00019710_001.png', 8: '/Users/adithya/Documents/MATLAB/project/cbir_dataset/sample/images/00027045_001.png', 9: '/Users/adithya/Documents/MATLAB/project/cbir_dataset/sample/images/00025580_011.png'}\n"
     ]
    }
   ],
   "source": [
    "gg_array = {}\n",
    "class_name = {}\n",
    "for num,i in enumerate(ind):\n",
    "    imgk = file_paths['0'][i]\n",
    "    gg_array[num] = imgk\n",
    "    class_name[num] = y[0][i]\n",
    "print(gg_array)"
   ]
  },
  {
   "cell_type": "code",
   "execution_count": 285,
   "metadata": {},
   "outputs": [
    {
     "data": {
      "text/plain": [
       "'Atelectasis'"
      ]
     },
     "execution_count": 285,
     "metadata": {},
     "output_type": "execute_result"
    }
   ],
   "source": [
    "y[0][i]"
   ]
  },
  {
   "cell_type": "code",
   "execution_count": 286,
   "metadata": {},
   "outputs": [
    {
     "data": {
      "text/plain": [
       "{0: 'Emphysema',\n",
       " 1: 'Infiltration',\n",
       " 2: 'Infiltration',\n",
       " 3: 'Infiltration',\n",
       " 4: 'Infiltration',\n",
       " 5: 'Infiltration',\n",
       " 6: 'Effusion',\n",
       " 7: 'Infiltration',\n",
       " 8: 'Infiltration',\n",
       " 9: 'Atelectasis'}"
      ]
     },
     "execution_count": 286,
     "metadata": {},
     "output_type": "execute_result"
    }
   ],
   "source": [
    "class_name"
   ]
  },
  {
   "cell_type": "code",
   "execution_count": 287,
   "metadata": {},
   "outputs": [
    {
     "data": {
      "text/plain": [
       "{0: '/Users/adithya/Documents/MATLAB/project/cbir_dataset/sample/images/00015212_006.png',\n",
       " 1: '/Users/adithya/Documents/MATLAB/project/cbir_dataset/sample/images/00027236_000.png',\n",
       " 2: '/Users/adithya/Documents/MATLAB/project/cbir_dataset/sample/images/00005963_023.png',\n",
       " 3: '/Users/adithya/Documents/MATLAB/project/cbir_dataset/sample/images/00023069_002.png',\n",
       " 4: '/Users/adithya/Documents/MATLAB/project/cbir_dataset/sample/images/00000250_005.png',\n",
       " 5: '/Users/adithya/Documents/MATLAB/project/cbir_dataset/sample/images/00013993_002.png',\n",
       " 6: '/Users/adithya/Documents/MATLAB/project/cbir_dataset/sample/images/00003957_002.png',\n",
       " 7: '/Users/adithya/Documents/MATLAB/project/cbir_dataset/sample/images/00019710_001.png',\n",
       " 8: '/Users/adithya/Documents/MATLAB/project/cbir_dataset/sample/images/00027045_001.png',\n",
       " 9: '/Users/adithya/Documents/MATLAB/project/cbir_dataset/sample/images/00025580_011.png'}"
      ]
     },
     "execution_count": 287,
     "metadata": {},
     "output_type": "execute_result"
    }
   ],
   "source": [
    "gg_array"
   ]
  },
  {
   "cell_type": "code",
   "execution_count": 288,
   "metadata": {},
   "outputs": [
    {
     "data": {
      "image/png": "[encoded data removed]",
      "text/plain": [
       "<matplotlib.figure.Figure at 0xa2c50dcc0>"
      ]
     },
     "metadata": {},
     "output_type": "display_data"
    }
   ],
   "source": [
    "fig = plt.figure()\n",
    "plt.gray()\n",
    "plt.subplot(331)\n",
    "kkl = imread(gg_array[0])\n",
    "plt.title(class_name[0])\n",
    "plt.imshow(kkl)\n",
    "plt.subplot(332)\n",
    "kk2 = imread(gg_array[1])\n",
    "plt.title(class_name[1])\n",
    "plt.imshow(kk2)\n",
    "plt.subplot(333)\n",
    "kk3 = imread(gg_array[2])\n",
    "plt.title(class_name[2])\n",
    "plt.imshow(kk3)\n",
    "plt.subplot(334)\n",
    "kk4 = imread(gg_array[3])\n",
    "plt.title(class_name[3])\n",
    "plt.imshow(kk4)\n",
    "plt.subplot(335)\n",
    "kk5 = imread(gg_array[4])\n",
    "plt.title(class_name[4])\n",
    "plt.imshow(kk5)\n",
    "plt.subplot(336)\n",
    "kk6 = imread(gg_array[5])\n",
    "plt.title(class_name[5])\n",
    "plt.imshow(kk6)\n",
    "plt.subplot(337)\n",
    "kk7 = imread(gg_array[6])\n",
    "plt.title(class_name[6])\n",
    "plt.imshow(kk7)\n",
    "plt.subplot(338)\n",
    "kk8 = imread(gg_array[7])\n",
    "plt.title(class_name[7])\n",
    "plt.imshow(kk8)\n",
    "plt.subplot(339)\n",
    "kk9 = imread(gg_array[8])\n",
    "plt.title(class_name[9])\n",
    "plt.imshow(kk9)\n",
    "plt.suptitle('input_image_type: '+str(answer1),y='1.1',color = 'red')\n",
    "plt.tight_layout()\n",
    "plt.show()"
   ]
  },
  {
   "cell_type": "code",
   "execution_count": 289,
   "metadata": {},
   "outputs": [],
   "source": [
    "count = 0\n",
    "for i,num in enumerate(class_name):\n",
    "    if(class_name[i]==answer1):\n",
    "        count = count+1"
   ]
  },
  {
   "cell_type": "code",
   "execution_count": 290,
   "metadata": {},
   "outputs": [
    {
     "data": {
      "text/plain": [
       "1"
      ]
     },
     "execution_count": 290,
     "metadata": {},
     "output_type": "execute_result"
    }
   ],
   "source": [
    "count"
   ]
  },
  {
   "cell_type": "code",
   "execution_count": null,
   "metadata": {},
   "outputs": [],
   "source": []
  }
 ],
 "metadata": {
  "kernelspec": {
   "display_name": "Python 3",
   "language": "python",
   "name": "python3"
  },
  "language_info": {
   "codemirror_mode": {
    "name": "ipython",
    "version": 3
   },
   "file_extension": ".py",
   "mimetype": "text/x-python",
   "name": "python",
   "nbconvert_exporter": "python",
   "pygments_lexer": "ipython3",
   "version": "3.6.3"
  }
 },
 "nbformat": 4,
 "nbformat_minor": 2
}
