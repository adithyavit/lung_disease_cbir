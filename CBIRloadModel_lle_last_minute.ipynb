{
 "cells": [
  {
   "cell_type": "code",
   "execution_count": null,
   "metadata": {},
   "outputs": [],
   "source": []
  },
  {
   "cell_type": "code",
   "execution_count": 776,
   "metadata": {},
   "outputs": [],
   "source": [
    "# Importing the libraries\n",
    "import numpy as np\n",
    "import matplotlib.pyplot as plt\n",
    "import pandas as pd\n",
    "\n",
    "# Importing the dataset\n",
    "dataset_orb = pd.read_csv('/Users/adithya/Documents/MATLAB/project/cbir_dataset/sample/X_orb_desc_change.csv',header = None)\n",
    "dataset_lbp = pd.read_csv('/Users/adithya/Documents/MATLAB/project/cbir_dataset/sample/X_lbp_desc2_long.csv',header = None)"
   ]
  },
  {
   "cell_type": "code",
   "execution_count": 777,
   "metadata": {},
   "outputs": [
    {
     "data": {
      "text/plain": [
       "(1582, 500)"
      ]
     },
     "execution_count": 777,
     "metadata": {},
     "output_type": "execute_result"
    }
   ],
   "source": [
    "dataset_orb.shape"
   ]
  },
  {
   "cell_type": "code",
   "execution_count": 778,
   "metadata": {},
   "outputs": [
    {
     "data": {
      "text/plain": [
       "(1582, 1770)"
      ]
     },
     "execution_count": 778,
     "metadata": {},
     "output_type": "execute_result"
    }
   ],
   "source": [
    "dataset_lbp.shape"
   ]
  },
  {
   "cell_type": "code",
   "execution_count": 779,
   "metadata": {},
   "outputs": [],
   "source": [
    "target = pd.read_csv('/Users/adithya/Documents/MATLAB/project/cbir_dataset/sample/y_orb_ouput.csv',header = None)"
   ]
  },
  {
   "cell_type": "code",
   "execution_count": 780,
   "metadata": {},
   "outputs": [],
   "source": [
    "file_paths = pd.read_csv('/Users/adithya/Documents/MATLAB/project/cbir_dataset/sample/X_image_path_lbp2_long.csv')"
   ]
  },
  {
   "cell_type": "code",
   "execution_count": 781,
   "metadata": {},
   "outputs": [
    {
     "data": {
      "text/plain": [
       "(1582, 2)"
      ]
     },
     "execution_count": 781,
     "metadata": {},
     "output_type": "execute_result"
    }
   ],
   "source": [
    "file_paths.shape"
   ]
  },
  {
   "cell_type": "code",
   "execution_count": 782,
   "metadata": {},
   "outputs": [
    {
     "data": {
      "text/plain": [
       "'/Users/adithya/Documents/MATLAB/project/cbir_dataset/sample/images/00000030_001.png'"
      ]
     },
     "execution_count": 782,
     "metadata": {},
     "output_type": "execute_result"
    }
   ],
   "source": [
    "file_paths['0'][0]"
   ]
  },
  {
   "cell_type": "code",
   "execution_count": 783,
   "metadata": {},
   "outputs": [],
   "source": [
    "file_paths_dict = file_paths.set_index('0').to_dict()"
   ]
  },
  {
   "cell_type": "code",
   "execution_count": 784,
   "metadata": {},
   "outputs": [],
   "source": [
    "file_paths_dict2 = file_paths_dict['Unnamed: 0']"
   ]
  },
  {
   "cell_type": "code",
   "execution_count": 785,
   "metadata": {},
   "outputs": [],
   "source": [
    "num_pic = file_paths_dict2['/Users/adithya/Documents/MATLAB/project/cbir_dataset/sample/images/00001698_004.png']"
   ]
  },
  {
   "cell_type": "code",
   "execution_count": 786,
   "metadata": {},
   "outputs": [],
   "source": [
    "answer1 = target[0][num_pic]"
   ]
  },
  {
   "cell_type": "code",
   "execution_count": 787,
   "metadata": {},
   "outputs": [
    {
     "data": {
      "text/plain": [
       "'Atelectasis'"
      ]
     },
     "execution_count": 787,
     "metadata": {},
     "output_type": "execute_result"
    }
   ],
   "source": [
    "answer1"
   ]
  },
  {
   "cell_type": "code",
   "execution_count": 788,
   "metadata": {},
   "outputs": [
    {
     "data": {
      "text/plain": [
       "1582"
      ]
     },
     "execution_count": 788,
     "metadata": {},
     "output_type": "execute_result"
    }
   ],
   "source": [
    "len(file_paths_dict2)"
   ]
  },
  {
   "cell_type": "code",
   "execution_count": 789,
   "metadata": {},
   "outputs": [
    {
     "data": {
      "text/html": [
       "<div>\n",
       "<style scoped>\n",
       "    .dataframe tbody tr th:only-of-type {\n",
       "        vertical-align: middle;\n",
       "    }\n",
       "\n",
       "    .dataframe tbody tr th {\n",
       "        vertical-align: top;\n",
       "    }\n",
       "\n",
       "    .dataframe thead th {\n",
       "        text-align: right;\n",
       "    }\n",
       "</style>\n",
       "<table border=\"1\" class=\"dataframe\">\n",
       "  <thead>\n",
       "    <tr style=\"text-align: right;\">\n",
       "      <th></th>\n",
       "      <th>Unnamed: 0</th>\n",
       "      <th>0</th>\n",
       "    </tr>\n",
       "  </thead>\n",
       "  <tbody>\n",
       "    <tr>\n",
       "      <th>0</th>\n",
       "      <td>0</td>\n",
       "      <td>/Users/adithya/Documents/MATLAB/project/cbir_d...</td>\n",
       "    </tr>\n",
       "    <tr>\n",
       "      <th>1</th>\n",
       "      <td>1</td>\n",
       "      <td>/Users/adithya/Documents/MATLAB/project/cbir_d...</td>\n",
       "    </tr>\n",
       "    <tr>\n",
       "      <th>2</th>\n",
       "      <td>2</td>\n",
       "      <td>/Users/adithya/Documents/MATLAB/project/cbir_d...</td>\n",
       "    </tr>\n",
       "    <tr>\n",
       "      <th>3</th>\n",
       "      <td>3</td>\n",
       "      <td>/Users/adithya/Documents/MATLAB/project/cbir_d...</td>\n",
       "    </tr>\n",
       "    <tr>\n",
       "      <th>4</th>\n",
       "      <td>4</td>\n",
       "      <td>/Users/adithya/Documents/MATLAB/project/cbir_d...</td>\n",
       "    </tr>\n",
       "  </tbody>\n",
       "</table>\n",
       "</div>"
      ],
      "text/plain": [
       "   Unnamed: 0                                                  0\n",
       "0           0  /Users/adithya/Documents/MATLAB/project/cbir_d...\n",
       "1           1  /Users/adithya/Documents/MATLAB/project/cbir_d...\n",
       "2           2  /Users/adithya/Documents/MATLAB/project/cbir_d...\n",
       "3           3  /Users/adithya/Documents/MATLAB/project/cbir_d...\n",
       "4           4  /Users/adithya/Documents/MATLAB/project/cbir_d..."
      ]
     },
     "execution_count": 789,
     "metadata": {},
     "output_type": "execute_result"
    }
   ],
   "source": [
    "file_paths.head()"
   ]
  },
  {
   "cell_type": "code",
   "execution_count": 790,
   "metadata": {},
   "outputs": [],
   "source": [
    "X_orb = dataset_orb\n",
    "X_lbp = dataset_lbp\n",
    "y = target\n",
    "\n",
    "# Splitting the dataset into the Training set and Test set\n",
    "from sklearn.cross_validation import train_test_split\n",
    "X_train_orb, X_test_orb, y_train, y_test = train_test_split(X_orb, y, test_size = 0.25, random_state = 0)\n",
    "X_train_lbp, X_test_lbp, y_train, y_test = train_test_split(X_lbp, y, test_size = 0.25, random_state = 0)\n",
    "\n",
    "# Feature Scaling\n",
    "from sklearn.preprocessing import StandardScaler\n",
    "sc = StandardScaler()\n",
    "X_train_orb = sc.fit_transform(X_train_orb)\n",
    "X_test_orb = sc.transform(X_test_orb)\n",
    "X_train_lbp = sc.fit_transform(X_train_lbp)\n",
    "X_test_lbp = sc.transform(X_test_lbp)"
   ]
  },
  {
   "cell_type": "code",
   "execution_count": 791,
   "metadata": {},
   "outputs": [],
   "source": [
    "file_paths_train, file_paths_test = train_test_split(file_paths, test_size = 0.25, random_state = 0)"
   ]
  },
  {
   "cell_type": "code",
   "execution_count": 792,
   "metadata": {},
   "outputs": [
    {
     "data": {
      "text/plain": [
       "(1186, 2)"
      ]
     },
     "execution_count": 792,
     "metadata": {},
     "output_type": "execute_result"
    }
   ],
   "source": [
    "file_paths_train.shape"
   ]
  },
  {
   "cell_type": "code",
   "execution_count": 793,
   "metadata": {},
   "outputs": [],
   "source": [
    "X_train = np.hstack((X_train_orb,X_train_lbp))\n",
    "X_test = np.hstack((X_test_orb,X_test_lbp))"
   ]
  },
  {
   "cell_type": "code",
   "execution_count": 794,
   "metadata": {},
   "outputs": [],
   "source": [
    "# Applying LLE\n",
    "#from sklearn.decomposition import PCA\n",
    "from sklearn import manifold\n",
    "lle_orb = manifold.LocallyLinearEmbedding(n_neighbors = 16, n_components=500,\n",
    "                                      method='standard')\n",
    "lle_lbp = manifold.LocallyLinearEmbedding(n_neighbors = 16, n_components=500,\n",
    "                                      method='standard')\n",
    "#pca_orb = PCA(n_components = 500)\n",
    "#pca_lbp = PCA(n_components = 500)\n",
    "#pca_total = PCA()\n",
    "X_train_orb = lle_orb.fit_transform(X_train_orb)\n",
    "X_train_lbp = lle_lbp.fit_transform(X_train_lbp)\n",
    "#pca = PCA(n_components = None)\n",
    "#X_train = pca_total.fit_transform(X_train)\n",
    "#X_test = pca_total.transform(X_test)\n",
    "#explained_variance = pca.explained_va"
   ]
  },
  {
   "cell_type": "code",
   "execution_count": 795,
   "metadata": {},
   "outputs": [],
   "source": [
    "from sklearn.preprocessing import OneHotEncoder\n",
    "from numpy import array\n",
    "from numpy import argmax\n",
    "import numpy\n",
    "from sklearn.preprocessing import LabelEncoder\n",
    "label_encoder = LabelEncoder()\n",
    "integer_encoded = label_encoder.fit_transform(y_train.values.ravel())"
   ]
  },
  {
   "cell_type": "code",
   "execution_count": 796,
   "metadata": {},
   "outputs": [],
   "source": [
    "from keras.utils import np_utils\n",
    "categorical_train = np_utils.to_categorical(integer_encoded)"
   ]
  },
  {
   "cell_type": "code",
   "execution_count": 797,
   "metadata": {},
   "outputs": [],
   "source": [
    "label_encoder = LabelEncoder()\n",
    "integer_encoded_test = label_encoder.fit_transform(y_test.values.ravel())"
   ]
  },
  {
   "cell_type": "code",
   "execution_count": 798,
   "metadata": {},
   "outputs": [],
   "source": [
    "categorical_encoded_test = np_utils.to_categorical(integer_encoded_test)"
   ]
  },
  {
   "cell_type": "code",
   "execution_count": 799,
   "metadata": {},
   "outputs": [],
   "source": [
    "# encode class values as integers\n",
    "from keras.utils import np_utils\n",
    "encoder = LabelEncoder()\n",
    "encoder.fit(integer_encoded)\n",
    "encoded_Y = encoder.transform(integer_encoded)\n",
    "# convert integers to dummy variables (i.e. one hot encoded)\n",
    "dummy_y = np_utils.to_categorical(encoded_Y)"
   ]
  },
  {
   "cell_type": "code",
   "execution_count": 800,
   "metadata": {},
   "outputs": [],
   "source": [
    "from keras.utils import np_utils\n",
    "encoder_test = LabelEncoder()\n",
    "encoder_test.fit(integer_encoded_test)\n",
    "encoded_Y_test = encoder_test.transform(integer_encoded_test)\n",
    "# convert integers to dummy variables (i.e. one hot encoded)\n",
    "dummy_y_test = np_utils.to_categorical(encoded_Y_test)"
   ]
  },
  {
   "cell_type": "code",
   "execution_count": 801,
   "metadata": {},
   "outputs": [],
   "source": [
    "from keras.models import load_model\n",
    "model = load_model('my_model2a_lle_last.h5')"
   ]
  },
  {
   "cell_type": "code",
   "execution_count": 802,
   "metadata": {},
   "outputs": [],
   "source": [
    "import opencv\n",
    "# To performing path manipulations \n",
    "import os\n",
    "# Local Binary Pattern function\n",
    "from skimage.feature import local_binary_pattern\n",
    "# To calculate a normalized histogram \n",
    "from scipy.stats import itemfreq\n",
    "\n",
    "from sklearn.preprocessing import normalize\n",
    "# Utility package -- use pip install cvutils to install\n",
    "import cvutils\n",
    "# To read class from file\n",
    "import csv\n",
    "import scipy\n",
    "import cv2"
   ]
  },
  {
   "cell_type": "code",
   "execution_count": 803,
   "metadata": {},
   "outputs": [],
   "source": [
    "rows = 1024\n",
    "columns = 1024\n",
    "r4 = int(rows/4)\n",
    "c4 = int(columns/4)\n",
    "r3 = int(rows/3)\n",
    "c3 = int(columns/3)\n",
    "r2 = int(rows/2)\n",
    "c2 = int(columns/2)\n",
    "r1 = rows\n",
    "c1 = columns\n",
    "import numpy as np\n",
    "from skimage.io import imread\n",
    "input_image = '/Users/adithya/Documents/MATLAB/project/cbir_dataset/sample/images/00001698_004.png'\n",
    "im = imread(input_image)\n",
    "if(im.shape == (1024,1024)):\n",
    "    im_gray = im\n",
    "else:\n",
    "    im_gray = cv2.cvtColor(im, cv2.COLOR_BGR2GRAY)\n",
    "    \n",
    "image111 = im_gray\n",
    "image221=im_gray[0:r2,0:c2]\n",
    "image222=im_gray[0:r2,c2+0:2*c2]\n",
    "image223=im_gray[r2+0:2*r2,0:c2]\n",
    "image224=im_gray[r2+0:2*r2,c2+0:2*c2]\n",
    "image331 = im_gray[0:r3, 0:c3]\n",
    "image332 = im_gray[0:r3, c3+0:2*c3]\n",
    "image333 = im_gray[0:r3, 2*c3+0:3*c3+1]\n",
    "image334 = im_gray[r3+0:2*r3, 0:c3]\n",
    "image335 = im_gray[r3+0:2*r3, c3+0:2*c3]\n",
    "image336 = im_gray[r3+0:2*r3, 2*c3+0:3*c3+1]\n",
    "image337 = im_gray[2*r3+0:3*r3+1, 0:c3]\n",
    "image338 = im_gray[2*r3+0:3*r3+1, c3+0:2*c3]\n",
    "image339 = im_gray[2*r3+0:3*r3+1, 2*c3+0:3*c3+1]\n",
    "image441 = im_gray[0:r4, 0:c4]\n",
    "image442 = im_gray[0:r4, c4+0:2*c4]\n",
    "image443 = im_gray[0:r4, 2*c4+0:3*c4]\n",
    "image444 = im_gray[0:r4, 3*c4+0:4*c4]\n",
    "image445 = im_gray[r4+0:2*r4, 0:c4]\n",
    "image446 = im_gray[r4+0:2*r4, c4+0:2*c4]\n",
    "image447 = im_gray[r4+0:2*r4, 2*c4+0:3*c4]\n",
    "image448 = im_gray[r4+0:2*r4, 3*c4+0:4*c4]\n",
    "image449 = im_gray[2*r4+0:3*r4, 0:c4]\n",
    "image4410 = im_gray[2*r4+0:3*r4, c4+0:2*c4]\n",
    "image4411 = im_gray[2*r4+0:3*r4, 2*c4+0:3*c4]\n",
    "image4412 = im_gray[2*r4+0:3*r4, 3*c4+0:4*c4]\n",
    "image4413 = im_gray[3*r4+0:4*r4, 0:c4]\n",
    "image4414 = im_gray[3*r4+0:4*r4, c4+0:2*c4]\n",
    "image4415 = im_gray[3*r4+0:4*r4, 2*c4+0:3*c4]\n",
    "image4416 = im_gray[3*r4+0:4*r4, 3*c4+0:4*c4]\n",
    "\n",
    "lbp_image111=local_binary_pattern(image111,8,1,method='nri_uniform')\n",
    "histogram111=scipy.stats.itemfreq(lbp_image111)\n",
    "lbp_image221=local_binary_pattern(image221,8,1,method='nri_uniform')\n",
    "histogram221=scipy.stats.itemfreq(lbp_image221)\n",
    "lbp_image222=local_binary_pattern(image222,8,1,method='nri_uniform')\n",
    "histogram222=scipy.stats.itemfreq(lbp_image222)\n",
    "lbp_image223=local_binary_pattern(image223,8,1,method='nri_uniform')\n",
    "histogram223=scipy.stats.itemfreq(lbp_image223)\n",
    "lbp_image224=local_binary_pattern(image224,8,1,method='nri_uniform')\n",
    "histogram224=scipy.stats.itemfreq(lbp_image224)\n",
    "lbp_image331=local_binary_pattern(image331,8,1,method='nri_uniform')\n",
    "histogram331=scipy.stats.itemfreq(lbp_image331)\n",
    "lbp_image332=local_binary_pattern(image332,8,1,method='nri_uniform')\n",
    "histogram332=scipy.stats.itemfreq(lbp_image332)\n",
    "lbp_image333=local_binary_pattern(image333,8,1,method='nri_uniform')\n",
    "histogram333=scipy.stats.itemfreq(lbp_image333)\n",
    "lbp_image334=local_binary_pattern(image334,8,1,method='nri_uniform')\n",
    "histogram334=scipy.stats.itemfreq(lbp_image334)\n",
    "lbp_image335=local_binary_pattern(image335,8,1,method='nri_uniform')\n",
    "histogram335=scipy.stats.itemfreq(lbp_image335)\n",
    "lbp_image336=local_binary_pattern(image336,8,1,method='nri_uniform')\n",
    "histogram336=scipy.stats.itemfreq(lbp_image336)\n",
    "lbp_image337=local_binary_pattern(image337,8,1,method='nri_uniform')\n",
    "histogram337=scipy.stats.itemfreq(lbp_image337)\n",
    "lbp_image338=local_binary_pattern(image338,8,1,method='nri_uniform')\n",
    "histogram338=scipy.stats.itemfreq(lbp_image338)\n",
    "lbp_image339=local_binary_pattern(image339,8,1,method='nri_uniform')\n",
    "histogram339=scipy.stats.itemfreq(lbp_image339)\n",
    "lbp_image441=local_binary_pattern(image441,8,1,method='nri_uniform')\n",
    "histogram441=scipy.stats.itemfreq(lbp_image441)\n",
    "lbp_image442=local_binary_pattern(image442,8,1,method='nri_uniform')\n",
    "histogram442=scipy.stats.itemfreq(lbp_image442)\n",
    "lbp_image443=local_binary_pattern(image443,8,1,method='nri_uniform')\n",
    "histogram443=scipy.stats.itemfreq(lbp_image443)\n",
    "lbp_image444=local_binary_pattern(image444,8,1,method='nri_uniform')\n",
    "histogram444=scipy.stats.itemfreq(lbp_image444)\n",
    "lbp_image445=local_binary_pattern(image445,8,1,method='nri_uniform')\n",
    "histogram445=scipy.stats.itemfreq(lbp_image445)\n",
    "lbp_image446=local_binary_pattern(image446,8,1,method='nri_uniform')\n",
    "histogram446=scipy.stats.itemfreq(lbp_image446)\n",
    "lbp_image447=local_binary_pattern(image447,8,1,method='nri_uniform')\n",
    "histogram447=scipy.stats.itemfreq(lbp_image447)\n",
    "lbp_image448=local_binary_pattern(image448,8,1,method='nri_uniform')\n",
    "histogram448=scipy.stats.itemfreq(lbp_image448)\n",
    "lbp_image449=local_binary_pattern(image449,8,1,method='nri_uniform')\n",
    "histogram449=scipy.stats.itemfreq(lbp_image449)\n",
    "lbp_image4410=local_binary_pattern(image4410,8,1,method='nri_uniform')\n",
    "histogram4410=scipy.stats.itemfreq(lbp_image4410)\n",
    "lbp_image4411=local_binary_pattern(image4411,8,1,method='nri_uniform')\n",
    "histogram4411=scipy.stats.itemfreq(lbp_image4411)\n",
    "lbp_image4412=local_binary_pattern(image4412,8,1,method='nri_uniform')\n",
    "histogram4412=scipy.stats.itemfreq(lbp_image4412)\n",
    "lbp_image4413=local_binary_pattern(image4413,8,1,method='nri_uniform')\n",
    "histogram4413=scipy.stats.itemfreq(lbp_image4413)\n",
    "lbp_image4414=local_binary_pattern(image4414,8,1,method='nri_uniform')\n",
    "histogram4414=scipy.stats.itemfreq(lbp_image4414)\n",
    "lbp_image4415=local_binary_pattern(image4415,8,1,method='nri_uniform')\n",
    "histogram4415=scipy.stats.itemfreq(lbp_image4415)\n",
    "lbp_image4416=local_binary_pattern(image4416,8,1,method='nri_uniform')\n",
    "histogram4416=scipy.stats.itemfreq(lbp_image4416)\n",
    "histogram = np.vstack((histogram111,histogram221,histogram222,histogram223,histogram224,histogram331,histogram332,histogram333,histogram334,histogram335,histogram336,histogram337,histogram338,histogram339,histogram441,histogram442,histogram443,histogram444,histogram445,histogram446,histogram447,histogram448,histogram449,histogram4410,histogram4411,histogram4412,histogram4413,histogram4414,histogram4415,histogram4416))\n",
    "hist = histogram[:, 1]/sum(histogram[:, 1])"
   ]
  },
  {
   "cell_type": "code",
   "execution_count": 804,
   "metadata": {},
   "outputs": [],
   "source": [
    "# Initiate STAR detector\n",
    "orb = cv2.ORB_create()\n",
    "# find the keypoints with ORB\n",
    "kp = orb.detect(im_gray,None)\n",
    "# compute the descriptors with ORB\n",
    "kp, x = orb.compute(im_gray, kp)#here x is the descriptor\n",
    "x2 = x.ravel()\n",
    "# Normalize the histogram\n",
    "x3 = x[:, 1]/sum(x[:, 1])\n",
    "\n",
    "\n"
   ]
  },
  {
   "cell_type": "code",
   "execution_count": 805,
   "metadata": {},
   "outputs": [
    {
     "data": {
      "text/plain": [
       "(1770,)"
      ]
     },
     "execution_count": 805,
     "metadata": {},
     "output_type": "execute_result"
    }
   ],
   "source": [
    "hist.shape"
   ]
  },
  {
   "cell_type": "code",
   "execution_count": 806,
   "metadata": {},
   "outputs": [
    {
     "data": {
      "text/plain": [
       "(490,)"
      ]
     },
     "execution_count": 806,
     "metadata": {},
     "output_type": "execute_result"
    }
   ],
   "source": [
    "x3.shape"
   ]
  },
  {
   "cell_type": "code",
   "execution_count": 807,
   "metadata": {},
   "outputs": [],
   "source": [
    "N = 500-(x3.shape)[0]\n",
    "x3= np.pad(x3, (0, N), 'constant')\n",
    "x3 = x3.reshape(-1,1)"
   ]
  },
  {
   "cell_type": "code",
   "execution_count": 808,
   "metadata": {},
   "outputs": [
    {
     "data": {
      "text/plain": [
       "(500, 1)"
      ]
     },
     "execution_count": 808,
     "metadata": {},
     "output_type": "execute_result"
    }
   ],
   "source": [
    "x3.shape"
   ]
  },
  {
   "cell_type": "code",
   "execution_count": 809,
   "metadata": {},
   "outputs": [],
   "source": [
    "N = 1770-(hist.shape)[0]\n",
    "hist= np.pad(hist, (0, N), 'constant')\n",
    "hist = hist.reshape(-1,1)"
   ]
  },
  {
   "cell_type": "code",
   "execution_count": 810,
   "metadata": {},
   "outputs": [
    {
     "data": {
      "text/plain": [
       "(1770, 1)"
      ]
     },
     "execution_count": 810,
     "metadata": {},
     "output_type": "execute_result"
    }
   ],
   "source": [
    "hist.shape"
   ]
  },
  {
   "cell_type": "code",
   "execution_count": 811,
   "metadata": {},
   "outputs": [],
   "source": [
    "x3 = x3.T\n",
    "hist = hist.T"
   ]
  },
  {
   "cell_type": "code",
   "execution_count": 812,
   "metadata": {},
   "outputs": [],
   "source": [
    "input_image_orb = lle_orb.transform(x3)\n",
    "input_image_lbp = lle_lbp.transform(hist)"
   ]
  },
  {
   "cell_type": "code",
   "execution_count": 813,
   "metadata": {},
   "outputs": [
    {
     "data": {
      "text/plain": [
       "(1, 500)"
      ]
     },
     "execution_count": 813,
     "metadata": {},
     "output_type": "execute_result"
    }
   ],
   "source": [
    "input_image_orb.shape"
   ]
  },
  {
   "cell_type": "code",
   "execution_count": 814,
   "metadata": {},
   "outputs": [
    {
     "data": {
      "text/plain": [
       "(1, 500)"
      ]
     },
     "execution_count": 814,
     "metadata": {},
     "output_type": "execute_result"
    }
   ],
   "source": [
    "input_image_lbp.shape"
   ]
  },
  {
   "cell_type": "code",
   "execution_count": 815,
   "metadata": {},
   "outputs": [],
   "source": [
    "order = ['Atelectasis','Cardiomegaly','Consolidation','Edema','Effusion','Emphysema','Fibrosis','Hernia','Infiltration','Mass','Nodule','Pleural_Thickening','Pneumonia','Pneumothorax']"
   ]
  },
  {
   "cell_type": "code",
   "execution_count": 816,
   "metadata": {},
   "outputs": [],
   "source": [
    "total = np.hstack((input_image_orb,input_image_lbp))"
   ]
  },
  {
   "cell_type": "code",
   "execution_count": 817,
   "metadata": {},
   "outputs": [
    {
     "data": {
      "text/plain": [
       "(1, 1000)"
      ]
     },
     "execution_count": 817,
     "metadata": {},
     "output_type": "execute_result"
    }
   ],
   "source": [
    "total.shape"
   ]
  },
  {
   "cell_type": "code",
   "execution_count": 818,
   "metadata": {},
   "outputs": [],
   "source": [
    "new_pred = model.predict(total)"
   ]
  },
  {
   "cell_type": "code",
   "execution_count": 819,
   "metadata": {},
   "outputs": [
    {
     "data": {
      "text/plain": [
       "array([[0.12251354, 0.02926892, 0.04455866, 0.0258927 , 0.12577304,\n",
       "        0.02503021, 0.02834035, 0.00463267, 0.3157476 , 0.05722818,\n",
       "        0.09763996, 0.03871694, 0.00808024, 0.07657707]], dtype=float32)"
      ]
     },
     "execution_count": 819,
     "metadata": {},
     "output_type": "execute_result"
    }
   ],
   "source": [
    "new_pred"
   ]
  },
  {
   "cell_type": "code",
   "execution_count": 820,
   "metadata": {},
   "outputs": [],
   "source": [
    "import numpy as np\n",
    "arg = np.argmax(new_pred)"
   ]
  },
  {
   "cell_type": "code",
   "execution_count": 821,
   "metadata": {},
   "outputs": [
    {
     "data": {
      "text/plain": [
       "8"
      ]
     },
     "execution_count": 821,
     "metadata": {},
     "output_type": "execute_result"
    }
   ],
   "source": [
    "arg"
   ]
  },
  {
   "cell_type": "code",
   "execution_count": 822,
   "metadata": {},
   "outputs": [],
   "source": [
    "inp_ans = new_pred[0][arg]"
   ]
  },
  {
   "cell_type": "code",
   "execution_count": 823,
   "metadata": {},
   "outputs": [
    {
     "data": {
      "text/plain": [
       "0.3157476"
      ]
     },
     "execution_count": 823,
     "metadata": {},
     "output_type": "execute_result"
    }
   ],
   "source": [
    "inp_ans"
   ]
  },
  {
   "cell_type": "code",
   "execution_count": null,
   "metadata": {},
   "outputs": [],
   "source": []
  },
  {
   "cell_type": "code",
   "execution_count": 824,
   "metadata": {},
   "outputs": [],
   "source": [
    "predicted = pd.read_csv('/Users/adithya/Documents/MATLAB/project/cbir_dataset/sample/predicted_lle.csv')"
   ]
  },
  {
   "cell_type": "code",
   "execution_count": 825,
   "metadata": {},
   "outputs": [
    {
     "data": {
      "text/plain": [
       "(1186, 15)"
      ]
     },
     "execution_count": 825,
     "metadata": {},
     "output_type": "execute_result"
    }
   ],
   "source": [
    "predicted.shape"
   ]
  },
  {
   "cell_type": "code",
   "execution_count": 826,
   "metadata": {},
   "outputs": [],
   "source": [
    "fin = []\n",
    "for i in range(0,1186):\n",
    "    ans = predicted[str(np.argmax(new_pred))][i]\n",
    "    fin.append(abs(inp_ans-ans))"
   ]
  },
  {
   "cell_type": "code",
   "execution_count": 827,
   "metadata": {},
   "outputs": [
    {
     "data": {
      "text/plain": [
       "[7.091127090463889e-06,\n",
       " 1.9711127090427105e-05,\n",
       " 1.1688872909532133e-05,\n",
       " 1.1448872909547436e-05,\n",
       " 9.11270904291328e-08,\n",
       " 1.1411127090465989e-05,\n",
       " 1.3588872909531258e-05,\n",
       " 7.148872909534809e-06,\n",
       " 3.308872909557614e-06,\n",
       " 1.8887290953450986e-07,\n",
       " 2.388729095637032e-07,\n",
       " 8.818872909543973e-06,\n",
       " 1.3828872909571466e-05,\n",
       " 1.6091127090445134e-05,\n",
       " 1.54411270904542e-05,\n",
       " 1.6808872909557238e-05,\n",
       " 1.8811127090456736e-05,\n",
       " 1.6388872909556262e-05,\n",
       " 8.111127090482118e-06,\n",
       " 1.0671127090466914e-05,\n",
       " 9.538872909553575e-06,\n",
       " 1.8811270904306454e-06,\n",
       " 2.888872909556639e-06,\n",
       " 1.2548872909523556e-05,\n",
       " 9.288872909574142e-06,\n",
       " 1.8811270904306454e-06,\n",
       " 9.928872909570341e-06,\n",
       " 1.1111270904473614e-06,\n",
       " 1.1127090415730123e-08,\n",
       " 1.8811127090456736e-05,\n",
       " 7.538872909551575e-06,\n",
       " 3.938872909559077e-06,\n",
       " 3.611270904535502e-07,\n",
       " 1.3891127090437383e-05,\n",
       " 1.8111270904674903e-06,\n",
       " 8.94112709043382e-06,\n",
       " 1.1688872909532133e-05,\n",
       " 7.181127090472028e-06,\n",
       " 1.0668872909569416e-05,\n",
       " 7.92887290956834e-06,\n",
       " 5.311127090512624e-06,\n",
       " 1.3288872909578142e-05,\n",
       " 1.5511270904378094e-06,\n",
       " 4.168872909549037e-06,\n",
       " 1.158872909523545e-06,\n",
       " 5.628872909557714e-06,\n",
       " 2.4388729095714545e-06,\n",
       " 4.0188729095724796e-06,\n",
       " 5.411270904698284e-07,\n",
       " 2.0888729095336345e-06,\n",
       " 3.088872909506879e-06,\n",
       " 1.2931127090443084e-05,\n",
       " 1.5711127090423105e-05,\n",
       " 9.838872909562202e-06,\n",
       " 1.2071127090451661e-05,\n",
       " 5.868872909542411e-06,\n",
       " 2.2688729095499127e-06,\n",
       " 1.1948872909561814e-05,\n",
       " 3.58112709047953e-06,\n",
       " 8.758872909520043e-06,\n",
       " 3.341127090439322e-06,\n",
       " 1.8208872909541984e-05,\n",
       " 9.538872909553575e-06,\n",
       " 1.4988872909571516e-05,\n",
       " 3.608872909566241e-06,\n",
       " 5.071127090472416e-06,\n",
       " 1.63887290954845e-06,\n",
       " 4.228872909572967e-06,\n",
       " 9.891127090433383e-06,\n",
       " 5.871127090439909e-06,\n",
       " 2.688872909550888e-06,\n",
       " 1.7288872909582143e-05,\n",
       " 3.6611270904374216e-06,\n",
       " 1.77611270904543e-05,\n",
       " 1.9388729095570767e-06,\n",
       " 4.168872909549037e-06,\n",
       " 5.6111270904657395e-06,\n",
       " 6.348872909567316e-06,\n",
       " 1.778887290954101e-05,\n",
       " 1.334887290954656e-05,\n",
       " 1.8058872909565427e-05,\n",
       " 2.9188729095408483e-06,\n",
       " 7.481127090480655e-06,\n",
       " 7.98887290959227e-06,\n",
       " 1.3411270904373218e-06,\n",
       " 3.0711270904704158e-06,\n",
       " 6.438872909519944e-06,\n",
       " 1.883112709044621e-05,\n",
       " 4.348872909565316e-06,\n",
       " 7.748872909552063e-06,\n",
       " 2.3811270904450232e-06,\n",
       " 5.388872909517506e-06,\n",
       " 6.788872909557764e-06,\n",
       " 6.94112709043182e-06,\n",
       " 1.7048872909541934e-05,\n",
       " 6.888729095488877e-07,\n",
       " 5.688729095565392e-07,\n",
       " 1.2281127090452149e-05,\n",
       " 3.911270904377595e-07,\n",
       " 1.851127090446436e-06,\n",
       " 9.188729095388481e-07,\n",
       " 2.111127090476117e-06,\n",
       " 8.671127090464914e-06,\n",
       " 8.911127090449611e-06,\n",
       " 1.3711270904770423e-06,\n",
       " 2.291127090436884e-06,\n",
       " 9.111270904416102e-07,\n",
       " 3.388872909571017e-06,\n",
       " 2.2688729095499127e-06,\n",
       " 1.191127090460764e-06,\n",
       " 3.991127090430258e-06,\n",
       " 3.548872909542311e-06,\n",
       " 3.3511127090435355e-05,\n",
       " 3.961127090446048e-06,\n",
       " 9.361127090434795e-06,\n",
       " 1.2341127090476078e-05,\n",
       " 7.208872909558739e-06,\n",
       " 8.788872909559764e-06,\n",
       " 4.531127090479092e-06,\n",
       " 4.73887290952657e-06,\n",
       " 1.2888872909511129e-05,\n",
       " 6.111127090480117e-06,\n",
       " 5.991127090432258e-06,\n",
       " 1.2188729095474748e-06,\n",
       " 7.511127090464864e-06,\n",
       " 3.5887290955605167e-07,\n",
       " 1.2488872909555138e-05,\n",
       " 1.3771127090445034e-05,\n",
       " 1.8188872909497e-05,\n",
       " 1.6088729095642407e-06,\n",
       " 9.358872909537297e-06,\n",
       " 8.548872909519556e-06,\n",
       " 2.68112709045365e-06,\n",
       " 2.2888729095393856e-06,\n",
       " 4.231127090470466e-06,\n",
       " 1.5971127090452786e-05,\n",
       " 1.3711127090421105e-05,\n",
       " 6.318872909527595e-06,\n",
       " 2.8872909563215643e-08,\n",
       " 4.888729095986477e-07,\n",
       " 1.2281127090452149e-05,\n",
       " 1.2008872909530233e-05,\n",
       " 4.381127090447023e-06,\n",
       " 7.508872909567366e-06,\n",
       " 4.811270904458986e-07,\n",
       " 1.3488872909583893e-05,\n",
       " 1.2581127090460775e-05,\n",
       " 5.481127090478655e-06,\n",
       " 9.588872909527257e-06,\n",
       " 1.4911270904693907e-06,\n",
       " 5.991127090432258e-06,\n",
       " 5.811127090471491e-06,\n",
       " 8.548872909519556e-06,\n",
       " 5.088729095326094e-07,\n",
       " 3.6311270904532122e-06,\n",
       " 1.740887290951898e-05,\n",
       " 9.06112709048168e-06,\n",
       " 1.3488872909583893e-05,\n",
       " 1.1112709047411684e-07,\n",
       " 4.231127090470466e-06,\n",
       " 6.438872909519944e-06,\n",
       " 1.6868872909525656e-05,\n",
       " 2.1638872909568452e-05,\n",
       " 1.6711270904301578e-06,\n",
       " 3.908872909519356e-06,\n",
       " 1.7511127090419354e-05,\n",
       " 3.908872909519356e-06,\n",
       " 1.1127090415730123e-08,\n",
       " 8.311270904282075e-07,\n",
       " 5.008872909550988e-06,\n",
       " 3.491127090471391e-06,\n",
       " 1.3111270904531125e-06,\n",
       " 5.2888729095701414e-06,\n",
       " 1.3681127090436895e-05,\n",
       " 4.18887290953851e-06,\n",
       " 9.568872909537784e-06,\n",
       " 4.088872909535635e-06,\n",
       " 4.4711270904551625e-06,\n",
       " 3.88872909540261e-07,\n",
       " 4.911127090445611e-06,\n",
       " 9.838872909562202e-06,\n",
       " 1.1611270904765547e-06,\n",
       " 1.7108872909565864e-05,\n",
       " 9.111270904416102e-07,\n",
       " 1.161112709047174e-05,\n",
       " 5.928872909566341e-06,\n",
       " 3.0688729095729173e-06,\n",
       " 5.911127090418855e-06,\n",
       " 2.028872909565216e-06,\n",
       " 8.138872909568828e-06,\n",
       " 1.3171127090427781e-05,\n",
       " 1.3771127090445034e-05,\n",
       " 1.7911270904780174e-06,\n",
       " 1.3888729095690167e-06,\n",
       " 4.441127090470953e-06,\n",
       " 1.0371127090458288e-05,\n",
       " 1.865887290952717e-05,\n",
       " 1.6148872909571566e-05,\n",
       " 5.538872909549575e-06,\n",
       " 1.5018872909555725e-05,\n",
       " 5.811127090471491e-06,\n",
       " 2.2111270904789926e-06,\n",
       " 2.2388872909562263e-05,\n",
       " 8.168872909553038e-06,\n",
       " 7.87112709044191e-06,\n",
       " 9.688872909530133e-06,\n",
       " 1.0488872909608649e-05,\n",
       " 2.2738872909544572e-05,\n",
       " 3.788872909527008e-06,\n",
       " 1.9338872909557825e-05,\n",
       " 3.871127090437909e-06,\n",
       " 7.87112709044191e-06,\n",
       " 4.1088729095251075e-06,\n",
       " 5.98887290959027e-06,\n",
       " 1.158872909523545e-06,\n",
       " 3.491127090471391e-06,\n",
       " 1.4188872909493e-05,\n",
       " 6.438872909519944e-06,\n",
       " 1.1888729095077544e-06,\n",
       " 1.0488872909608649e-05,\n",
       " 1.9711270904387845e-06,\n",
       " 9.05887290952867e-06,\n",
       " 1.2911127090453611e-05,\n",
       " 5.868872909542411e-06,\n",
       " 7.311127090514624e-06,\n",
       " 1.1127090415730123e-08,\n",
       " 1.4288872909551387e-05,\n",
       " 2.7111270904378593e-06,\n",
       " 5.991127090432258e-06,\n",
       " 1.63887290954845e-06,\n",
       " 4.981127090464277e-06,\n",
       " 5.98887290959027e-06,\n",
       " 7.711270904597889e-07,\n",
       " 1.2661127090474178e-05,\n",
       " 2.261127090452675e-06,\n",
       " 4.528872909526083e-06,\n",
       " 1.0388729095311966e-06,\n",
       " 2.3288729095183314e-06,\n",
       " 5.688729095565392e-07,\n",
       " 2.6887290954791254e-07,\n",
       " 6.228872909519456e-06,\n",
       " 3.8188729095667284e-06,\n",
       " 2.18887290953651e-06,\n",
       " 7.658872909543923e-06,\n",
       " 5.928872909566341e-06,\n",
       " 5.718872909565853e-06,\n",
       " 6.351127090464814e-06,\n",
       " 8.758872909520043e-06,\n",
       " 1.9488872909534383e-05,\n",
       " 6.71112709044186e-06,\n",
       " 7.1188729095506e-06,\n",
       " 1.0128872909520581e-05,\n",
       " 3.6688729095346595e-06,\n",
       " 6.588872909552013e-06,\n",
       " 1.6411270904459485e-06,\n",
       " 2.3128872909561338e-05,\n",
       " 3.2888729095681413e-06,\n",
       " 3.6111270904637394e-06,\n",
       " 2.8872909563215643e-08,\n",
       " 3.2887290957184234e-07,\n",
       " 4.788872909555764e-06,\n",
       " 4.891127090456138e-06,\n",
       " 4.18887290953851e-06,\n",
       " 7.448872909543436e-06,\n",
       " 1.7141127090447572e-05,\n",
       " 1.0671127090466914e-05,\n",
       " 1.3011127090456487e-05,\n",
       " 8.228872909521456e-06,\n",
       " 6.138872909566828e-06,\n",
       " 4.4711270904551625e-06,\n",
       " 6.71112709044186e-06,\n",
       " 6.2911270904408845e-06,\n",
       " 8.13112709047159e-06,\n",
       " 7.411270904755796e-07,\n",
       " 3.98887290958827e-06,\n",
       " 7.628872909559714e-06,\n",
       " 1.0088729095469873e-06,\n",
       " 1.5111270904588636e-06,\n",
       " 5.868872909542411e-06,\n",
       " 5.308872909559614e-06,\n",
       " 3.691127090477142e-06,\n",
       " 7.311127090514624e-06,\n",
       " 8.811127090502247e-06,\n",
       " 8.548872909519556e-06,\n",
       " 1.4068872909556163e-05,\n",
       " 1.225112709046794e-05,\n",
       " 1.2071127090451661e-05,\n",
       " 1.968872909541286e-06,\n",
       " 1.63887290954845e-06,\n",
       " 1.1268872909531158e-05,\n",
       " 1.98887290958627e-06,\n",
       " 1.5971127090452786e-05,\n",
       " 2.291127090436884e-06,\n",
       " 2.111127090476117e-06,\n",
       " 4.088872909535635e-06,\n",
       " 1.561112709047574e-05,\n",
       " 1.5511270904378094e-06,\n",
       " 6.231127090472466e-06,\n",
       " 5.3911270904705155e-06,\n",
       " 1.126112709043392e-05,\n",
       " 2.2288872909559387e-05,\n",
       " 7.751127090449561e-06,\n",
       " 3.511127090460864e-06,\n",
       " 2.6887290954791254e-07,\n",
       " 1.6411270904459485e-06,\n",
       " 1.1111270904473614e-06,\n",
       " 3.961127090446048e-06,\n",
       " 9.588872909527257e-06,\n",
       " 1.3288872909578142e-05,\n",
       " 1.7111270904646148e-06,\n",
       " 1.030887290953686e-05,\n",
       " 1.964112709046395e-05,\n",
       " 2.2311270904684655e-06,\n",
       " 2.1488729095575643e-06,\n",
       " 1.0041127090465451e-05,\n",
       " 7.711270904597889e-07,\n",
       " 1.7318872909566352e-05,\n",
       " 2.0708872909558362e-05,\n",
       " 9.868872909546411e-06,\n",
       " 5.311127090512624e-06,\n",
       " 3.251127090431183e-06,\n",
       " 2.9511270904780673e-06,\n",
       " 1.3711270904770423e-06,\n",
       " 4.828872909534709e-06,\n",
       " 6.228872909519456e-06,\n",
       " 1.6888729095221322e-06,\n",
       " 9.511127090466864e-06,\n",
       " 2.9511270904780673e-06,\n",
       " 8.908872909552112e-06,\n",
       " 7.92887290956834e-06,\n",
       " 2.8311270904302077e-06,\n",
       " 1.98887290958627e-06,\n",
       " 2.8911270904541375e-06,\n",
       " 1.633112709042983e-05,\n",
       " 4.228872909572967e-06,\n",
       " 8.04887290956069e-06,\n",
       " 7.06112709047968e-06,\n",
       " 1.0281127090450148e-05,\n",
       " 4.441127090470953e-06,\n",
       " 1.0548872909521556e-05,\n",
       " 7.391127090472516e-06,\n",
       " 1.1768872909545536e-05,\n",
       " 2.2311270904684655e-06,\n",
       " 9.358872909537297e-06,\n",
       " 5.658872909541923e-06,\n",
       " 1.6811127090454736e-05,\n",
       " 5.9611270904480484e-06,\n",
       " 1.0211127090431482e-05,\n",
       " 1.2811127090506247e-05,\n",
       " 6.948872909529058e-06,\n",
       " 9.03112709044196e-06,\n",
       " 1.5111270904588636e-06,\n",
       " 5.0411270904326955e-06,\n",
       " 1.9018872909559725e-05,\n",
       " 5.3911270904705155e-06,\n",
       " 1.0938872909538322e-05,\n",
       " 1.3861127090453174e-05,\n",
       " 5.158872909527545e-06,\n",
       " 2.1088872909580392e-05,\n",
       " 2.6887290954791254e-07,\n",
       " 1.6271127090461412e-05,\n",
       " 1.2428872909531208e-05,\n",
       " 2.9888729095595146e-06,\n",
       " 4.048872909556689e-06,\n",
       " 1.8111270904674903e-06,\n",
       " 1.4158872909564302e-05,\n",
       " 1.5311127090467114e-05,\n",
       " 1.288872909566141e-06,\n",
       " 2.4711270904531624e-06,\n",
       " 1.0511127090440109e-05,\n",
       " 1.0908872909554113e-05,\n",
       " 3.848872909550938e-06,\n",
       " 7.838872909560202e-06,\n",
       " 7.691127090481142e-06,\n",
       " 4.318872909525595e-06,\n",
       " 3.1588729095255452e-06,\n",
       " 3.1111270904493615e-06,\n",
       " 9.151127090434308e-06,\n",
       " 1.2341127090476078e-05,\n",
       " 1.960887290952673e-05,\n",
       " 4.1088729095251075e-06,\n",
       " 1.1488872909581893e-05,\n",
       " 3.388872909571017e-06,\n",
       " 2.9111270904436104e-06,\n",
       " 9.111127090455362e-06,\n",
       " 1.114887290953881e-05,\n",
       " 8.911127090449611e-06,\n",
       " 2.028872909565216e-06,\n",
       " 2.0328872909536333e-05,\n",
       " 4.858872909518919e-06,\n",
       " 7.268872909527158e-06,\n",
       " 7.148872909534809e-06,\n",
       " 5.588872909523257e-06,\n",
       " 5.788872909584519e-06,\n",
       " 7.268872909527158e-06,\n",
       " 1.6031127090476716e-05,\n",
       " 1.6268872909563914e-05,\n",
       " 4.68112709045565e-06,\n",
       " 1.21611270904598e-05,\n",
       " 4.438872909573455e-06,\n",
       " 4.768872909566291e-06,\n",
       " 9.748872909554063e-06,\n",
       " 5.3911270904705155e-06,\n",
       " 9.868872909546411e-06,\n",
       " 1.63887290954845e-06,\n",
       " 1.3231127090451711e-05,\n",
       " 8.988872909565515e-06,\n",
       " 4.088872909535635e-06,\n",
       " 6.788872909557764e-06,\n",
       " 8.908872909552112e-06,\n",
       " 9.511127090466864e-06,\n",
       " 7.181127090472028e-06,\n",
       " 1.966887290955066e-05,\n",
       " 1.0581127090458775e-05,\n",
       " 9.511270904760671e-07,\n",
       " 1.411127090455988e-06,\n",
       " 3.8888729095298835e-06,\n",
       " 1.2908872909556113e-05,\n",
       " 8.088872909539635e-06,\n",
       " 8.908872909552112e-06,\n",
       " 6.611127090438984e-06,\n",
       " 9.628872909561714e-06,\n",
       " 8.438872909521944e-06,\n",
       " 6.2911270904408845e-06,\n",
       " 1.6888729095221322e-06,\n",
       " 2.3811270904450232e-06,\n",
       " 5.888729095460121e-07,\n",
       " 1.1858872909553675e-05,\n",
       " 8.848872909528183e-06,\n",
       " 2.598887290955476e-05,\n",
       " 1.114887290953881e-05,\n",
       " 5.688729095565392e-07,\n",
       " 6.5311270904810925e-06,\n",
       " 1.5171127090429781e-05,\n",
       " 4.891127090456138e-06,\n",
       " 8.018872909520969e-06,\n",
       " 9.181127090474028e-06,\n",
       " 2.9188729095408483e-06,\n",
       " 1.4038872909571953e-05,\n",
       " 1.7548872909556312e-05,\n",
       " 2.3811270904450232e-06,\n",
       " 1.398887290954276e-05,\n",
       " 1.5138872909548073e-05,\n",
       " 6.588729095646784e-07,\n",
       " 9.14887290953681e-06,\n",
       " 3.388872909571017e-06,\n",
       " 2.2311270904684655e-06,\n",
       " 6.888729095488877e-07,\n",
       " 6.111127090480117e-06,\n",
       " 1.3018872909553725e-05,\n",
       " 3.308872909557614e-06,\n",
       " 7.92887290956834e-06,\n",
       " 5.928872909566341e-06,\n",
       " 1.2728872909539835e-05,\n",
       " 1.105887290953067e-05,\n",
       " 8.61127090467928e-07,\n",
       " 9.981127090441522e-06,\n",
       " 5.6311270904552124e-06,\n",
       " 1.5488729095403109e-06,\n",
       " 1.1111270904473614e-06,\n",
       " 2.0111270904177303e-06,\n",
       " 1.3138872909546073e-05,\n",
       " 3.112709046071416e-08,\n",
       " 9.628872909561714e-06,\n",
       " 1.63887290954845e-06,\n",
       " 2.591127090445511e-06,\n",
       " 5.9611270904480484e-06,\n",
       " 8.461127090464426e-06,\n",
       " 2.5888729095480123e-06,\n",
       " 1.3711270904770423e-06,\n",
       " 5.511127090462864e-06,\n",
       " 1.9311127090471114e-05,\n",
       " 2.0988872909577516e-05,\n",
       " 4.318872909525595e-06,\n",
       " 1.2511270904291827e-06,\n",
       " 9.05887290952867e-06,\n",
       " 3.1311270904388344e-06,\n",
       " 6.768872909568291e-06,\n",
       " 1.6871127090478666e-05,\n",
       " 5.5088729095653655e-06,\n",
       " 1.3411270904373218e-06,\n",
       " 1.2511270904291827e-06,\n",
       " 3.1911270904627642e-06,\n",
       " 7.181127090472028e-06,\n",
       " 1.0111127090484118e-05,\n",
       " 1.7588729095407984e-06,\n",
       " 2.358872909558052e-06,\n",
       " 2.4528872909546084e-05,\n",
       " 4.168872909549037e-06,\n",
       " 1.911127090470366e-06,\n",
       " 1.2068872909554162e-05,\n",
       " 4.051127090454187e-06,\n",
       " 1.0088729095469873e-06,\n",
       " 1.6888729095221322e-06,\n",
       " 3.2811270904709033e-06,\n",
       " 4.441127090470953e-06,\n",
       " 2.720887290952323e-05,\n",
       " 5.088729095326094e-07,\n",
       " 1.561887290957298e-05,\n",
       " 2.488872909600648e-06,\n",
       " 7.481127090480655e-06,\n",
       " 3.341127090439322e-06,\n",
       " 3.308872909557614e-06,\n",
       " 7.358872909535297e-06,\n",
       " 8.088872909539635e-06,\n",
       " 1.019112709044201e-05,\n",
       " 5.088729095326094e-07,\n",
       " 1.7888729095250078e-06,\n",
       " 1.5811270904775299e-06,\n",
       " 6.811127090500246e-06,\n",
       " 5.628872909557714e-06,\n",
       " 8.887290953163429e-08,\n",
       " 2.888872909556639e-06,\n",
       " 2.468872909555664e-06,\n",
       " 1.4151127090467064e-05,\n",
       " 1.2908872909556113e-05,\n",
       " 2.0648872909534433e-05,\n",
       " 6.018872909518969e-06,\n",
       " 1.5188729095561015e-06,\n",
       " 8.588872909554013e-06,\n",
       " 6.688872909554888e-06,\n",
       " 9.888729095575144e-07,\n",
       " 2.468872909555664e-06,\n",
       " 1.3311127090465114e-05,\n",
       " 2.0611270904469237e-06,\n",
       " 4.1088729095251075e-06,\n",
       " 1.3288872909578142e-05,\n",
       " 1.398887290954276e-05,\n",
       " 8.71112709044386e-06,\n",
       " 3.6311270904532122e-06,\n",
       " 2.488872909600648e-06,\n",
       " 1.1448872909547436e-05,\n",
       " 6.888872909505128e-06,\n",
       " 8.311270904282075e-07,\n",
       " 1.024887290956844e-05,\n",
       " 4.558872909565803e-06,\n",
       " 1.1112709047411684e-07,\n",
       " 4.211127090480993e-06,\n",
       " 1.123112709044971e-05,\n",
       " 2.9511270904780673e-06,\n",
       " 2.388729095637032e-07,\n",
       " 4.348872909565316e-06,\n",
       " 2.68112709045365e-06,\n",
       " 1.1112709047411684e-07,\n",
       " 3.871127090437909e-06,\n",
       " 5.991127090432258e-06,\n",
       " 3.161127090478555e-06,\n",
       " 9.288872909574142e-06,\n",
       " 9.928872909570341e-06,\n",
       " 2.4112709046120173e-07,\n",
       " 9.411127090463989e-06,\n",
       " 9.028872909544461e-06,\n",
       " 3.8888729095298835e-06,\n",
       " 2.2111270904789926e-06,\n",
       " 1.3171127090427781e-05,\n",
       " 7.151127090432308e-06,\n",
       " 8.811127090502247e-06,\n",
       " 5.511127090462864e-06,\n",
       " 2.388729095637032e-07,\n",
       " 2.028872909565216e-06,\n",
       " 5.711127090468615e-06,\n",
       " 8.281127090448148e-06,\n",
       " 5.101127090456625e-06,\n",
       " 8.088729095412361e-07,\n",
       " 1.038887290949475e-05,\n",
       " 3.0388729095331968e-06,\n",
       " 2.0288872909557387e-05,\n",
       " 7.538872909551575e-06,\n",
       " 1.0008872909528232e-05,\n",
       " 3.788872909527008e-06,\n",
       " 8.908872909552112e-06,\n",
       " 9.651127090448686e-06,\n",
       " 1.030887290953686e-05,\n",
       " 3.2488729095336843e-06,\n",
       " 3.8888729095298835e-06,\n",
       " 2.688872909550888e-06,\n",
       " 1.2668872909571416e-05,\n",
       " 6.318872909527595e-06,\n",
       " 4.688872909552888e-06,\n",
       " 8.548872909519556e-06,\n",
       " 3.431127090447461e-06,\n",
       " 8.818872909543973e-06,\n",
       " 4.231127090470466e-06,\n",
       " 1.2038872909569953e-05,\n",
       " 4.4711270904551625e-06,\n",
       " 1.411127090455988e-06,\n",
       " 7.088872909510879e-06,\n",
       " 4.231127090470466e-06,\n",
       " 3.7511270904455607e-06,\n",
       " 1.865887290952717e-05,\n",
       " 1.2188729095474748e-06,\n",
       " 7.05887290952667e-06,\n",
       " 1.4658872909523168e-05,\n",
       " 4.318872909525595e-06,\n",
       " 7.751127090449561e-06,\n",
       " 5.9611270904480484e-06,\n",
       " 1.5388872909527507e-05,\n",
       " 6.438872909519944e-06,\n",
       " 1.0711270904684156e-06,\n",
       " 9.891127090433383e-06,\n",
       " 5.128872909543336e-06,\n",
       " 1.538112709043027e-05,\n",
       " 4.291127090438884e-06,\n",
       " 9.928872909570341e-06,\n",
       " 7.411127090461989e-06,\n",
       " 1.2611127090500496e-05,\n",
       " 8.38887290949275e-06,\n",
       " 1.1811127090477491e-05,\n",
       " 4.9188729095428485e-06,\n",
       " 8.668872909567416e-06,\n",
       " 5.888729095460121e-07,\n",
       " 2.771127090461789e-06,\n",
       " 9.861127090449173e-06,\n",
       " 5.871127090439909e-06,\n",
       " 1.856887290951903e-05,\n",
       " 5.568872909533784e-06,\n",
       " 1.0988872909567515e-05,\n",
       " 1.1858872909553675e-05,\n",
       " 6.488872909604648e-06,\n",
       " 1.1828872909569466e-05,\n",
       " 1.3111270904531125e-06,\n",
       " 4.438872909573455e-06,\n",
       " 4.228872909572967e-06,\n",
       " 9.188729095388481e-07,\n",
       " 1.0711270904684156e-06,\n",
       " 2.071112709045586e-05,\n",
       " 7.028872909542461e-06,\n",
       " 7.311127090514624e-06,\n",
       " 3.11127090479868e-07,\n",
       " 4.618872909534222e-06,\n",
       " 1.3258872909538422e-05,\n",
       " 5.8388729095582015e-06,\n",
       " 3.491127090471391e-06,\n",
       " 6.788872909557764e-06,\n",
       " 5.928872909566341e-06,\n",
       " 1.4428872909533208e-05,\n",
       " 6.968872909518531e-06,\n",
       " 1.6088872909547636e-05,\n",
       " 1.6868872909525656e-05,\n",
       " 4.591127090447511e-06,\n",
       " 9.028872909544461e-06,\n",
       " 1.4781127090468527e-05,\n",
       " 7.87112709044191e-06,\n",
       " 1.1127090415730123e-08,\n",
       " 6.5111270904361085e-06,\n",
       " 1.411127090455988e-06,\n",
       " 8.228872909521456e-06,\n",
       " 1.0011127090425731e-05,\n",
       " 8.761127090473053e-06,\n",
       " 1.0068872909552162e-05,\n",
       " 3.2888729095681413e-06,\n",
       " 3.8888729095298835e-06,\n",
       " 9.711127090417104e-06,\n",
       " 1.5018872909555725e-05,\n",
       " 1.120887290956274e-05,\n",
       " 4.051127090454187e-06,\n",
       " 7.238872909542948e-06,\n",
       " 3.1951127090479314e-05,\n",
       " 8.848872909528183e-06,\n",
       " 7.1188729095506e-06,\n",
       " 5.338872909543824e-06,\n",
       " 1.120887290956274e-05,\n",
       " 2.578887290954901e-05,\n",
       " 6.611127090438984e-06,\n",
       " 8.051127090458188e-06,\n",
       " 4.048872909556689e-06,\n",
       " 1.2691127090458387e-05,\n",
       " 3.848872909550938e-06,\n",
       " 1.0588872909556013e-05,\n",
       " 1.4658872909523168e-05,\n",
       " 8.818872909543973e-06,\n",
       " 2.5888729095480123e-06,\n",
       " 1.2158872909562302e-05,\n",
       " 7.388872909519506e-06,\n",
       " 7.588872909525257e-06,\n",
       " 4.68112709045565e-06,\n",
       " 1.2388872909496751e-05,\n",
       " 1.2511270904291827e-06,\n",
       " 1.7288872909582143e-05,\n",
       " 2.118872909573355e-06,\n",
       " 1.5591127090430756e-05,\n",
       " 7.488729095728175e-07,\n",
       " 5.218872909551475e-06,\n",
       " 1.8031127090478716e-05,\n",
       " 1.3488872909583893e-05,\n",
       " 4.828872909534709e-06,\n",
       " 1.5111270904588636e-06,\n",
       " 3.2887290957184234e-07,\n",
       " 2.9188729095408483e-06,\n",
       " 3.5887290955605167e-07,\n",
       " 2.388729095637032e-07,\n",
       " 1.3768872909547536e-05,\n",
       " 5.711127090468615e-06,\n",
       " 1.5188729095561015e-06,\n",
       " 9.688872909530133e-06,\n",
       " 4.861127090471928e-06,\n",
       " 1.1948872909561814e-05,\n",
       " 1.0488872909608649e-05,\n",
       " 1.5488872909530382e-05,\n",
       " 9.748872909554063e-06,\n",
       " 7.388872909519506e-06,\n",
       " 5.411270904698284e-07,\n",
       " 1.2128872909522581e-05,\n",
       " 1.4248872909572441e-05,\n",
       " 5.211127090454237e-06,\n",
       " 2.531127090477092e-06,\n",
       " 1.0128872909520581e-05,\n",
       " 5.088872909508879e-06,\n",
       " 4.2588729095571765e-06,\n",
       " 1.1738872909561326e-05,\n",
       " 1.0411127090437233e-05,\n",
       " 2.531127090477092e-06,\n",
       " 3.5188729095581017e-06,\n",
       " 6.688872909554888e-06,\n",
       " 4.1411270904623265e-06,\n",
       " 2.2888729095393856e-06,\n",
       " 9.268872909529158e-06,\n",
       " 1.644887290952468e-05,\n",
       " 7.718872909567853e-06,\n",
       " 1.2288872909549386e-05,\n",
       " 2.5888729095480123e-06,\n",
       " 7.5411270904490735e-06,\n",
       " 3.848872909550938e-06,\n",
       " 1.6148872909571566e-05,\n",
       " 4.511270904616893e-07,\n",
       " 5.128872909543336e-06,\n",
       " 1.0431127090426706e-05,\n",
       " 3.6311270904532122e-06,\n",
       " 1.3138872909546073e-05,\n",
       " 6.788872909557764e-06,\n",
       " 2.094887290954306e-05,\n",
       " 7.268872909527158e-06,\n",
       " 1.3388729095398233e-06,\n",
       " 2.1188872909527756e-05,\n",
       " 7.268872909527158e-06,\n",
       " 7.78887290958652e-06,\n",
       " 3.368872909526033e-06,\n",
       " 4.2588729095571765e-06,\n",
       " 3.63887290955045e-06,\n",
       " 6.591127090449511e-06,\n",
       " 3.7588729095427986e-06,\n",
       " 1.1588872909529258e-05,\n",
       " 1.4131127090477591e-05,\n",
       " 9.511127090466864e-06,\n",
       " 1.398887290954276e-05,\n",
       " 9.541127090451074e-06,\n",
       " 8.211127090429482e-06,\n",
       " 1.3288872909578142e-05,\n",
       " 8.71112709044386e-06,\n",
       " 4.488872909602648e-06,\n",
       " 5.1511270904303075e-06,\n",
       " 6.011127090421731e-06,\n",
       " 1.4068872909556163e-05,\n",
       " 1.3888729095690167e-06,\n",
       " 7.208872909558739e-06,\n",
       " 5.588872909523257e-06,\n",
       " 1.2281127090452149e-05,\n",
       " 1.071112709044586e-05,\n",
       " 4.188729095244703e-07,\n",
       " 1.2758872909524044e-05,\n",
       " 1.4111127090488118e-05,\n",
       " 1.3471127090436408e-05,\n",
       " 1.1388872909523506e-05,\n",
       " 4.1088729095251075e-06,\n",
       " 3.3111270904551127e-06,\n",
       " 2.8588729095724297e-06,\n",
       " 2.792887290953283e-05,\n",
       " 5.2888729095701414e-06,\n",
       " 9.481127090427144e-06,\n",
       " 1.8288872909555387e-05,\n",
       " 4.5888729095500125e-06,\n",
       " 7.1188729095506e-06,\n",
       " 3.4888729095738924e-06,\n",
       " 9.111270904416102e-07,\n",
       " 1.7371127090437533e-05,\n",
       " 9.11270904291328e-08,\n",
       " 1.1411127090465989e-05,\n",
       " 9.741127090456825e-06,\n",
       " 2.121112709047024e-05,\n",
       " 6.381127090449024e-06,\n",
       " 1.6058872909563426e-05,\n",
       " 1.2888872909511129e-05,\n",
       " 1.3888729095690167e-06,\n",
       " 1.1111270904473614e-06,\n",
       " 2.441127090468953e-06,\n",
       " 9.388872909521506e-06,\n",
       " 2.7888729095537634e-06,\n",
       " 1.191127090460764e-06,\n",
       " 4.088872909535635e-06,\n",
       " 2.861127090469928e-06,\n",
       " 1.4808872909555237e-05,\n",
       " 5.888729095460121e-07,\n",
       " 3.5188729095581017e-06,\n",
       " 4.828872909534709e-06,\n",
       " 2.6188729095322216e-06,\n",
       " 1.1238872909546949e-05,\n",
       " 1.7311270904540876e-06,\n",
       " 2.3568872909551786e-05,\n",
       " 3.2887290957184234e-07,\n",
       " 1.1511127090468865e-05,\n",
       " 2.5888729095480123e-06,\n",
       " 1.9311127090471114e-05,\n",
       " 9.111270904416102e-07,\n",
       " 4.291127090438884e-06,\n",
       " 1.2758872909524044e-05,\n",
       " 3.938872909559077e-06,\n",
       " 1.5858872909557675e-05,\n",
       " 8.61127090467928e-07,\n",
       " 5.411127090459988e-06,\n",
       " 6.228872909519456e-06,\n",
       " 1.398887290954276e-05,\n",
       " 5.0411270904326955e-06,\n",
       " 1.488729095555641e-07,\n",
       " 7.511127090464864e-06,\n",
       " 2.2388729095657034e-06,\n",
       " 2.8311270904302077e-06,\n",
       " 1.5688872909480622e-05,\n",
       " 7.091127090463889e-06,\n",
       " 1.0688872909558889e-05,\n",
       " 2.5418872909521717e-05,\n",
       " 1.7908872909533358e-05,\n",
       " 1.4158872909564302e-05,\n",
       " 5.071127090472416e-06,\n",
       " 9.651127090448686e-06,\n",
       " 2.0111270904177303e-06,\n",
       " 9.241127090442447e-06,\n",
       " 9.748872909554063e-06,\n",
       " 4.828872909534709e-06,\n",
       " 1.158872909523545e-06,\n",
       " 4.591127090447511e-06,\n",
       " 1.0458872909568928e-05,\n",
       " 5.361127090430795e-06,\n",
       " 9.888729095575144e-07,\n",
       " 7.05887290952667e-06,\n",
       " 1.7051127090439433e-05,\n",
       " 1.4428872909533208e-05,\n",
       " 9.98887290959427e-06,\n",
       " 1.567112709044416e-05,\n",
       " 1.308872909555614e-06,\n",
       " 3.711127090466615e-06,\n",
       " 1.030887290953686e-05,\n",
       " 4.618872909534222e-06,\n",
       " 1.8888729095278833e-06,\n",
       " 2.7888729095537634e-06,\n",
       " 1.0851127090427681e-05,\n",
       " 4.1411270904623265e-06,\n",
       " 2.861127090469928e-06,\n",
       " 1.0788872909561764e-05,\n",
       " 3.871127090437909e-06,\n",
       " 1.3588872909531258e-05,\n",
       " 1.1238872909546949e-05,\n",
       " 1.7211127090410727e-05,\n",
       " 1.0588872909556013e-05,\n",
       " 5.95887290955055e-06,\n",
       " 1.114887290953881e-05,\n",
       " 1.0288872909547386e-05,\n",
       " 1.1268872909531158e-05,\n",
       " 3.7588729095427986e-06,\n",
       " 4.811270904458986e-07,\n",
       " 1.0431127090426706e-05,\n",
       " 9.05887290952867e-06,\n",
       " 7.568872909535784e-06,\n",
       " 1.6711270904301578e-06,\n",
       " 4.7111270904398594e-06,\n",
       " 1.7138872909550074e-05,\n",
       " 7.631127090457213e-06,\n",
       " 1.2751127090426806e-05,\n",
       " 3.6611270904374216e-06,\n",
       " 2.8872909563215643e-08,\n",
       " 1.1488872909581893e-05,\n",
       " 1.6411270904459485e-06,\n",
       " 1.653887290953282e-05,\n",
       " 6.141127090464327e-06,\n",
       " 1.6688872909509378e-05,\n",
       " 1.2788872909563764e-05,\n",
       " 8.581127090456775e-06,\n",
       " 3.6688729095346595e-06,\n",
       " 1.0688872909558889e-05,\n",
       " 5.038872909535197e-06,\n",
       " 5.2888729095701414e-06,\n",
       " 2.111127090476117e-06,\n",
       " 7.838872909560202e-06,\n",
       " 1.1918872909522094e-05,\n",
       " 1.191127090460764e-06,\n",
       " 1.1112709047411684e-07,\n",
       " 9.508872909569366e-06,\n",
       " 4.4711270904551625e-06,\n",
       " 2.18887290953651e-06,\n",
       " 6.851127090479192e-06,\n",
       " 2.0618872909550223e-05,\n",
       " 1.9511127090421354e-05,\n",
       " 8.548872909519556e-06,\n",
       " 7.111270904358591e-07,\n",
       " 1.4628872909538959e-05,\n",
       " 1.2188872909546511e-05,\n",
       " 8.788872909559764e-06,\n",
       " 2.9111270904436104e-06,\n",
       " 2.8911270904541375e-06,\n",
       " 1.5111270904588636e-06,\n",
       " 1.3651127090452686e-05,\n",
       " 5.331127090446586e-06,\n",
       " 5.628872909557714e-06,\n",
       " 3.98887290958827e-06,\n",
       " 1.1448872909547436e-05,\n",
       " 3.251127090431183e-06,\n",
       " 8.641127090480705e-06,\n",
       " 5.1511270904303075e-06,\n",
       " 8.051127090458188e-06,\n",
       " 4.688872909552888e-06,\n",
       " 5.868872909542411e-06,\n",
       " 2.591127090445511e-06,\n",
       " 2.094887290954306e-05,\n",
       " 8.888872909507128e-06,\n",
       " 2.2111127090440608e-05,\n",
       " 2.2388729095657034e-06,\n",
       " 8.438872909521944e-06,\n",
       " 3.63887290955045e-06,\n",
       " 9.411127090463989e-06,\n",
       " 2.1411270904603263e-06,\n",
       " 2.488872909600648e-06,\n",
       " 4.531127090479092e-06,\n",
       " 1.6988872909573516e-05,\n",
       " 1.138112709048178e-05,\n",
       " 9.238872909544948e-06,\n",
       " 9.511127090466864e-06,\n",
       " 2.5611270904613015e-06,\n",
       " 6.811127090500246e-06,\n",
       " 3.8888729095298835e-06,\n",
       " 5.98887290959027e-06,\n",
       " 2.291127090436884e-06,\n",
       " 5.038872909535197e-06,\n",
       " 7.991127090434258e-06,\n",
       " 2.9511270904780673e-06,\n",
       " 6.438872909519944e-06,\n",
       " 1.071112709044586e-05,\n",
       " 1.561887290957298e-05,\n",
       " 5.3911270904705155e-06,\n",
       " 1.1112709047411684e-07,\n",
       " 2.1411270904603263e-06,\n",
       " 1.021887290952872e-05,\n",
       " 6.5111270904361085e-06,\n",
       " 1.3231127090451711e-05,\n",
       " 7.268872909527158e-06,\n",
       " 3.1911270904627642e-06,\n",
       " 9.448872909545436e-06,\n",
       " 5.8388729095582015e-06,\n",
       " 1.2211127090433482e-05,\n",
       " 7.658872909543923e-06,\n",
       " 4.188729095244703e-07,\n",
       " 6.488872909604648e-06,\n",
       " 4.558872909565803e-06,\n",
       " 1.749112709042988e-05,\n",
       " 2.4111270904292326e-06,\n",
       " 7.571127090433283e-06,\n",
       " 4.291127090438884e-06,\n",
       " 3.0711270904704158e-06,\n",
       " 4.348872909565316e-06,\n",
       " 1.1828872909569466e-05,\n",
       " 7.588872909525257e-06,\n",
       " 1.760887290952473e-05,\n",
       " 1.213112709047559e-05,\n",
       " 5.488872909575893e-06,\n",
       " 2.1411270904603263e-06,\n",
       " 2.6111270904349837e-06,\n",
       " 6.318872909527595e-06,\n",
       " 9.358872909537297e-06,\n",
       " 6.988872909563515e-06,\n",
       " 2.68112709045365e-06,\n",
       " 3.711127090466615e-06,\n",
       " 1.5081127090477153e-05,\n",
       " 2.591127090445511e-06,\n",
       " 2.160887290952873e-05,\n",
       " 6.011127090421731e-06,\n",
       " 5.241127090438447e-06,\n",
       " 6.561127090465302e-06,\n",
       " 9.888872909535884e-06,\n",
       " 4.811270904458986e-07,\n",
       " 1.3888729095690167e-06,\n",
       " 3.0388729095331968e-06,\n",
       " 2.668887290951938e-05,\n",
       " 2.2388729095657034e-06,\n",
       " 1.288872909566141e-06,\n",
       " 1.3081127090475153e-05,\n",
       " 6.968872909518531e-06,\n",
       " 5.571127090431283e-06,\n",
       " 9.888729095575144e-07,\n",
       " 1.288872909566141e-06,\n",
       " 2.111270904769924e-07,\n",
       " 2.0238872909528194e-05,\n",
       " 6.011127090421731e-06,\n",
       " 7.868872909544411e-06,\n",
       " 2.5888729095480123e-06,\n",
       " 9.541127090451074e-06,\n",
       " 1.3258872909538422e-05,\n",
       " 8.788872909559764e-06,\n",
       " 4.5888729095500125e-06,\n",
       " 1.7051127090439433e-05,\n",
       " 1.1111127090457362e-05,\n",
       " 5.9611270904480484e-06,\n",
       " 2.8638872909547697e-05,\n",
       " ...]"
      ]
     },
     "execution_count": 827,
     "metadata": {},
     "output_type": "execute_result"
    }
   ],
   "source": [
    "fin"
   ]
  },
  {
   "cell_type": "code",
   "execution_count": 828,
   "metadata": {},
   "outputs": [],
   "source": [
    "#fin2 = abs(fin-inp_ans)"
   ]
  },
  {
   "cell_type": "code",
   "execution_count": 829,
   "metadata": {},
   "outputs": [],
   "source": [
    "#fin2"
   ]
  },
  {
   "cell_type": "code",
   "execution_count": 830,
   "metadata": {},
   "outputs": [],
   "source": [
    "ind = np.argpartition(fin, 10)[:10]"
   ]
  },
  {
   "cell_type": "code",
   "execution_count": 831,
   "metadata": {},
   "outputs": [
    {
     "data": {
      "text/plain": [
       "array([138, 167, 868,  28, 258, 225, 643, 462, 511, 775])"
      ]
     },
     "execution_count": 831,
     "metadata": {},
     "output_type": "execute_result"
    }
   ],
   "source": [
    "ind"
   ]
  },
  {
   "cell_type": "code",
   "execution_count": null,
   "metadata": {},
   "outputs": [],
   "source": []
  },
  {
   "cell_type": "code",
   "execution_count": null,
   "metadata": {},
   "outputs": [],
   "source": []
  },
  {
   "cell_type": "code",
   "execution_count": 832,
   "metadata": {},
   "outputs": [
    {
     "data": {
      "text/plain": [
       "'/Users/adithya/Documents/MATLAB/project/cbir_dataset/sample/images/00023162_023.png'"
      ]
     },
     "execution_count": 832,
     "metadata": {},
     "output_type": "execute_result"
    }
   ],
   "source": [
    "import io\n",
    "pd.read_csv(io.StringIO(file_paths_train.to_csv(index=False)))\n",
    "file_paths_train['0'][1360]"
   ]
  },
  {
   "cell_type": "code",
   "execution_count": 833,
   "metadata": {},
   "outputs": [],
   "source": [
    "from PIL import Image"
   ]
  },
  {
   "cell_type": "code",
   "execution_count": 834,
   "metadata": {},
   "outputs": [
    {
     "name": "stdout",
     "output_type": "stream",
     "text": [
      "{0: '/Users/adithya/Documents/MATLAB/project/cbir_dataset/sample/images/00019021_002.png', 1: '/Users/adithya/Documents/MATLAB/project/cbir_dataset/sample/images/00025119_006.png', 2: '/Users/adithya/Documents/MATLAB/project/cbir_dataset/sample/images/00014897_001.png', 3: '/Users/adithya/Documents/MATLAB/project/cbir_dataset/sample/images/00003843_000.png', 4: '/Users/adithya/Documents/MATLAB/project/cbir_dataset/sample/images/00008701_049.png', 5: '/Users/adithya/Documents/MATLAB/project/cbir_dataset/sample/images/00013557_016.png', 6: '/Users/adithya/Documents/MATLAB/project/cbir_dataset/sample/images/00000181_017.png', 7: '/Users/adithya/Documents/MATLAB/project/cbir_dataset/sample/images/00013576_005.png', 8: '/Users/adithya/Documents/MATLAB/project/cbir_dataset/sample/images/00019594_003.png', 9: '/Users/adithya/Documents/MATLAB/project/cbir_dataset/sample/images/00009911_005.png'}\n"
     ]
    }
   ],
   "source": [
    "gg_array = {}\n",
    "class_name = {}\n",
    "for num,i in enumerate(ind):\n",
    "    imgk = file_paths['0'][i]\n",
    "    gg_array[num] = imgk\n",
    "    class_name[num] = y[0][i]\n",
    "print(gg_array)"
   ]
  },
  {
   "cell_type": "code",
   "execution_count": 835,
   "metadata": {},
   "outputs": [
    {
     "data": {
      "text/plain": [
       "'Infiltration'"
      ]
     },
     "execution_count": 835,
     "metadata": {},
     "output_type": "execute_result"
    }
   ],
   "source": [
    "y[0][i]"
   ]
  },
  {
   "cell_type": "code",
   "execution_count": 836,
   "metadata": {},
   "outputs": [
    {
     "data": {
      "text/plain": [
       "{0: 'Atelectasis',\n",
       " 1: 'Atelectasis',\n",
       " 2: 'Infiltration',\n",
       " 3: 'Atelectasis',\n",
       " 4: 'Consolidation',\n",
       " 5: 'Cardiomegaly',\n",
       " 6: 'Infiltration',\n",
       " 7: 'Effusion',\n",
       " 8: 'Effusion',\n",
       " 9: 'Infiltration'}"
      ]
     },
     "execution_count": 836,
     "metadata": {},
     "output_type": "execute_result"
    }
   ],
   "source": [
    "class_name"
   ]
  },
  {
   "cell_type": "code",
   "execution_count": 837,
   "metadata": {},
   "outputs": [
    {
     "data": {
      "text/plain": [
       "{0: '/Users/adithya/Documents/MATLAB/project/cbir_dataset/sample/images/00019021_002.png',\n",
       " 1: '/Users/adithya/Documents/MATLAB/project/cbir_dataset/sample/images/00025119_006.png',\n",
       " 2: '/Users/adithya/Documents/MATLAB/project/cbir_dataset/sample/images/00014897_001.png',\n",
       " 3: '/Users/adithya/Documents/MATLAB/project/cbir_dataset/sample/images/00003843_000.png',\n",
       " 4: '/Users/adithya/Documents/MATLAB/project/cbir_dataset/sample/images/00008701_049.png',\n",
       " 5: '/Users/adithya/Documents/MATLAB/project/cbir_dataset/sample/images/00013557_016.png',\n",
       " 6: '/Users/adithya/Documents/MATLAB/project/cbir_dataset/sample/images/00000181_017.png',\n",
       " 7: '/Users/adithya/Documents/MATLAB/project/cbir_dataset/sample/images/00013576_005.png',\n",
       " 8: '/Users/adithya/Documents/MATLAB/project/cbir_dataset/sample/images/00019594_003.png',\n",
       " 9: '/Users/adithya/Documents/MATLAB/project/cbir_dataset/sample/images/00009911_005.png'}"
      ]
     },
     "execution_count": 837,
     "metadata": {},
     "output_type": "execute_result"
    }
   ],
   "source": [
    "gg_array"
   ]
  },
  {
   "cell_type": "code",
   "execution_count": 838,
   "metadata": {},
   "outputs": [
    {
     "data": {
      "image/png": "[encoded data removed]",
      "text/plain": [
       "<matplotlib.figure.Figure at 0xa5d1311d0>"
      ]
     },
     "metadata": {},
     "output_type": "display_data"
    }
   ],
   "source": [
    "fig = plt.figure()\n",
    "plt.gray()\n",
    "plt.subplot(331)\n",
    "kkl = imread(gg_array[0])\n",
    "plt.title(class_name[0])\n",
    "plt.imshow(kkl)\n",
    "plt.subplot(332)\n",
    "kk2 = imread(gg_array[1])\n",
    "plt.title(class_name[1])\n",
    "plt.imshow(kk2)\n",
    "plt.subplot(333)\n",
    "kk3 = imread(gg_array[2])\n",
    "plt.title(class_name[2])\n",
    "plt.imshow(kk3)\n",
    "plt.subplot(334)\n",
    "kk4 = imread(gg_array[3])\n",
    "plt.title(class_name[3])\n",
    "plt.imshow(kk4)\n",
    "plt.subplot(335)\n",
    "kk5 = imread(gg_array[4])\n",
    "plt.title(class_name[4])\n",
    "plt.imshow(kk5)\n",
    "plt.subplot(336)\n",
    "kk6 = imread(gg_array[5])\n",
    "plt.title(class_name[5])\n",
    "plt.imshow(kk6)\n",
    "plt.subplot(337)\n",
    "kk7 = imread(gg_array[6])\n",
    "plt.title(class_name[6])\n",
    "plt.imshow(kk7)\n",
    "plt.subplot(338)\n",
    "kk8 = imread(gg_array[7])\n",
    "plt.title(class_name[7])\n",
    "plt.imshow(kk8)\n",
    "plt.subplot(339)\n",
    "kk9 = imread(gg_array[8])\n",
    "plt.title(class_name[9])\n",
    "plt.imshow(kk9)\n",
    "plt.suptitle('input_image_type: '+str(answer1),y='1.1',color = 'red')\n",
    "plt.tight_layout()\n",
    "plt.show()"
   ]
  },
  {
   "cell_type": "code",
   "execution_count": 839,
   "metadata": {},
   "outputs": [],
   "source": [
    "count = 0\n",
    "for i,num in enumerate(class_name):\n",
    "    if(class_name[i]==answer1):\n",
    "        count = count+1"
   ]
  },
  {
   "cell_type": "code",
   "execution_count": 840,
   "metadata": {},
   "outputs": [
    {
     "data": {
      "text/plain": [
       "3"
      ]
     },
     "execution_count": 840,
     "metadata": {},
     "output_type": "execute_result"
    }
   ],
   "source": [
    "count"
   ]
  },
  {
   "cell_type": "code",
   "execution_count": null,
   "metadata": {},
   "outputs": [],
   "source": []
  }
 ],
 "metadata": {
  "kernelspec": {
   "display_name": "Python 3",
   "language": "python",
   "name": "python3"
  },
  "language_info": {
   "codemirror_mode": {
    "name": "ipython",
    "version": 3
   },
   "file_extension": ".py",
   "mimetype": "text/x-python",
   "name": "python",
   "nbconvert_exporter": "python",
   "pygments_lexer": "ipython3",
   "version": "3.6.3"
  }
 },
 "nbformat": 4,
 "nbformat_minor": 2
}
