{
 "cells": [
  {
   "cell_type": "code",
   "execution_count": 8,
   "metadata": {
    "collapsed": true
   },
   "outputs": [],
   "source": [
    "# Importing the libraries\n",
    "import numpy as np\n",
    "import matplotlib.pyplot as plt\n",
    "import pandas as pd\n",
    "\n",
    "# Importing the dataset\n",
    "dataset_orb = pd.read_csv('X_orb_desc_change.csv',header = None)\n",
    "dataset_lbp = pd.read_csv('X_lbp_desc2_long.csv',header = None)"
   ]
  },
  {
   "cell_type": "code",
   "execution_count": 9,
   "metadata": {},
   "outputs": [
    {
     "data": {
      "text/plain": [
       "(1582, 500)"
      ]
     },
     "execution_count": 9,
     "metadata": {},
     "output_type": "execute_result"
    }
   ],
   "source": [
    "dataset_orb.shape"
   ]
  },
  {
   "cell_type": "code",
   "execution_count": null,
   "metadata": {
    "collapsed": true
   },
   "outputs": [],
   "source": []
  },
  {
   "cell_type": "code",
   "execution_count": 10,
   "metadata": {
    "collapsed": true
   },
   "outputs": [],
   "source": [
    "target = pd.read_csv('y_orb_ouput.csv',header = None)"
   ]
  },
  {
   "cell_type": "code",
   "execution_count": 11,
   "metadata": {
    "collapsed": true
   },
   "outputs": [],
   "source": [
    "X_orb = dataset_orb\n",
    "X_lbp = dataset_lbp\n",
    "y = target\n",
    "\n",
    "# Splitting the dataset into the Training set and Test set\n",
    "from sklearn.cross_validation import train_test_split\n",
    "X_train_orb, X_test_orb, y_train, y_test = train_test_split(X_orb, y, test_size = 0.25, random_state = 0)\n",
    "X_train_lbp, X_test_lbp, y_train, y_test = train_test_split(X_lbp, y, test_size = 0.25, random_state = 0)\n",
    "\n",
    "# Feature Scaling\n",
    "from sklearn.preprocessing import StandardScaler\n",
    "sc = StandardScaler()\n",
    "X_train_orb = sc.fit_transform(X_train_orb)\n",
    "X_test_orb = sc.transform(X_test_orb)\n",
    "X_train_lbp = sc.fit_transform(X_train_lbp)\n",
    "X_test_lbp = sc.transform(X_test_lbp)\n"
   ]
  },
  {
   "cell_type": "code",
   "execution_count": 12,
   "metadata": {
    "collapsed": true
   },
   "outputs": [],
   "source": [
    "X_train = np.hstack((X_train_orb,X_train_lbp))\n",
    "X_test = np.hstack((X_test_orb,X_test_lbp))"
   ]
  },
  {
   "cell_type": "code",
   "execution_count": 13,
   "metadata": {
    "collapsed": true
   },
   "outputs": [],
   "source": [
    "# Applying PCA\n",
    "#from sklearn.decomposition import PCA\n",
    "from sklearn import manifold\n",
    "#pca_orb = PCA()\n",
    "#pca_lbp = PCA()\n",
    "\n",
    "#pca_orb = PCA(n_components = 500)\n",
    "#pca_total = PCA()\n",
    "#pca_orb = LLE(n_components = 500)\n",
    "#pca_lbp = LLE(n_components = 500)\n",
    "lle_orb = manifold.LocallyLinearEmbedding(n_neighbors = 16, n_components=500,\n",
    "                                      method='standard')\n",
    "lle_lbp = manifold.LocallyLinearEmbedding(n_neighbors = 16, n_components=500,\n",
    "                                      method='standard')\n",
    "#pca_total = PCA()\n",
    "X_train_orb = lle_orb.fit_transform(X_train_orb)\n",
    "X_train_lbp = lle_lbp.fit_transform(X_train_lbp)\n",
    "#pca = PCA(n_components = None)\n",
    "#X_train = pca_total.fit_transform(X_train)\n",
    "#X_test = pca_total.transform(X_test)\n",
    "#explained_variance = pca.explained_va"
   ]
  },
  {
   "cell_type": "code",
   "execution_count": null,
   "metadata": {
    "collapsed": true
   },
   "outputs": [],
   "source": []
  },
  {
   "cell_type": "code",
   "execution_count": 14,
   "metadata": {
    "collapsed": true
   },
   "outputs": [],
   "source": [
    "from sklearn.preprocessing import OneHotEncoder\n",
    "from numpy import array\n",
    "from numpy import argmax\n",
    "import numpy\n",
    "from sklearn.preprocessing import LabelEncoder\n",
    "#values = array(y_train)\n",
    "#values = numpy.transpose(values)"
   ]
  },
  {
   "cell_type": "code",
   "execution_count": 15,
   "metadata": {
    "collapsed": true
   },
   "outputs": [],
   "source": [
    "# integer encode\n",
    "label_encoder = LabelEncoder()\n",
    "integer_encoded = label_encoder.fit_transform(y_train.values.ravel())"
   ]
  },
  {
   "cell_type": "code",
   "execution_count": 16,
   "metadata": {},
   "outputs": [
    {
     "name": "stderr",
     "output_type": "stream",
     "text": [
      "/Users/adithya/anaconda3/envs/tensorflow_adithya/lib/python3.6/site-packages/h5py/__init__.py:36: FutureWarning: Conversion of the second argument of issubdtype from `float` to `np.floating` is deprecated. In future, it will be treated as `np.float64 == np.dtype(float).type`.\n",
      "  from ._conv import register_converters as _register_converters\n",
      "Using TensorFlow backend.\n"
     ]
    }
   ],
   "source": [
    "from keras.utils import np_utils\n",
    "categorical_train = np_utils.to_categorical(integer_encoded)"
   ]
  },
  {
   "cell_type": "code",
   "execution_count": 17,
   "metadata": {
    "collapsed": true
   },
   "outputs": [],
   "source": [
    "label_encoder = LabelEncoder()\n",
    "integer_encoded_test = label_encoder.fit_transform(y_test.values.ravel())"
   ]
  },
  {
   "cell_type": "code",
   "execution_count": 18,
   "metadata": {
    "collapsed": true
   },
   "outputs": [],
   "source": [
    "categorical_encoded_test = np_utils.to_categorical(integer_encoded_test)"
   ]
  },
  {
   "cell_type": "code",
   "execution_count": 19,
   "metadata": {
    "collapsed": true
   },
   "outputs": [],
   "source": [
    "import numpy as np\n",
    "import matplotlib.pyplot as plt\n",
    "import pandas as pd"
   ]
  },
  {
   "cell_type": "code",
   "execution_count": 20,
   "metadata": {
    "collapsed": true
   },
   "outputs": [],
   "source": [
    "# encode class values as integers\n",
    "from keras.utils import np_utils\n",
    "encoder = LabelEncoder()\n",
    "encoder.fit(integer_encoded)\n",
    "encoded_Y = encoder.transform(integer_encoded)\n",
    "# convert integers to dummy variables (i.e. one hot encoded)\n",
    "dummy_y = np_utils.to_categorical(encoded_Y)"
   ]
  },
  {
   "cell_type": "code",
   "execution_count": 21,
   "metadata": {
    "collapsed": true
   },
   "outputs": [],
   "source": [
    "from keras.utils import np_utils\n",
    "encoder_test = LabelEncoder()\n",
    "encoder_test.fit(integer_encoded_test)\n",
    "encoded_Y_test = encoder_test.transform(integer_encoded_test)\n",
    "# convert integers to dummy variables (i.e. one hot encoded)\n",
    "dummy_y_test = np_utils.to_categorical(encoded_Y_test)"
   ]
  },
  {
   "cell_type": "code",
   "execution_count": 22,
   "metadata": {},
   "outputs": [
    {
     "data": {
      "text/plain": [
       "array([[0., 0., 0., ..., 0., 0., 0.],\n",
       "       [0., 0., 1., ..., 0., 0., 0.],\n",
       "       [0., 0., 0., ..., 0., 0., 0.],\n",
       "       ...,\n",
       "       [0., 0., 0., ..., 0., 0., 0.],\n",
       "       [0., 0., 1., ..., 0., 0., 0.],\n",
       "       [0., 0., 0., ..., 0., 0., 0.]])"
      ]
     },
     "execution_count": 22,
     "metadata": {},
     "output_type": "execute_result"
    }
   ],
   "source": [
    "dummy_y_test"
   ]
  },
  {
   "cell_type": "code",
   "execution_count": 23,
   "metadata": {},
   "outputs": [
    {
     "data": {
      "text/plain": [
       "array([1., 0., 0., 0., 0., 0., 0., 0., 0., 0., 0., 0., 0., 0.])"
      ]
     },
     "execution_count": 23,
     "metadata": {},
     "output_type": "execute_result"
    }
   ],
   "source": [
    "dummy_y[13]"
   ]
  },
  {
   "cell_type": "code",
   "execution_count": 24,
   "metadata": {},
   "outputs": [
    {
     "data": {
      "text/plain": [
       "array([0., 1., 0., 0., 0., 0., 0., 0., 0., 0., 0., 0., 0., 0.])"
      ]
     },
     "execution_count": 24,
     "metadata": {},
     "output_type": "execute_result"
    }
   ],
   "source": [
    "dummy_y_test[13]"
   ]
  },
  {
   "cell_type": "code",
   "execution_count": 25,
   "metadata": {
    "collapsed": true
   },
   "outputs": [],
   "source": [
    "total = np.hstack((X_train_orb,X_train_lbp))"
   ]
  },
  {
   "cell_type": "code",
   "execution_count": 26,
   "metadata": {},
   "outputs": [
    {
     "data": {
      "text/plain": [
       "(1186, 1000)"
      ]
     },
     "execution_count": 26,
     "metadata": {},
     "output_type": "execute_result"
    }
   ],
   "source": [
    "total.shape"
   ]
  },
  {
   "cell_type": "code",
   "execution_count": 27,
   "metadata": {},
   "outputs": [
    {
     "data": {
      "text/plain": [
       "(1186, 500)"
      ]
     },
     "execution_count": 27,
     "metadata": {},
     "output_type": "execute_result"
    }
   ],
   "source": [
    "X_train_lbp.shape"
   ]
  },
  {
   "cell_type": "code",
   "execution_count": 28,
   "metadata": {},
   "outputs": [
    {
     "data": {
      "text/plain": [
       "(1186, 500)"
      ]
     },
     "execution_count": 28,
     "metadata": {},
     "output_type": "execute_result"
    }
   ],
   "source": [
    "X_train_orb.shape"
   ]
  },
  {
   "cell_type": "code",
   "execution_count": 29,
   "metadata": {},
   "outputs": [
    {
     "data": {
      "text/plain": [
       "(500,)"
      ]
     },
     "execution_count": 29,
     "metadata": {},
     "output_type": "execute_result"
    }
   ],
   "source": [
    "X_train_orb[1].shape"
   ]
  },
  {
   "cell_type": "code",
   "execution_count": null,
   "metadata": {
    "collapsed": true
   },
   "outputs": [],
   "source": []
  },
  {
   "cell_type": "code",
   "execution_count": null,
   "metadata": {
    "collapsed": true
   },
   "outputs": [],
   "source": []
  },
  {
   "cell_type": "code",
   "execution_count": 30,
   "metadata": {},
   "outputs": [
    {
     "name": "stderr",
     "output_type": "stream",
     "text": [
      "/Users/adithya/anaconda3/envs/tensorflow_adithya/lib/python3.6/site-packages/ipykernel_launcher.py:13: UserWarning: Update your `Dense` call to the Keras 2 API: `Dense(activation=\"tanh\", input_dim=1000, units=500, kernel_initializer=\"uniform\")`\n",
      "  del sys.path[0]\n",
      "/Users/adithya/anaconda3/envs/tensorflow_adithya/lib/python3.6/site-packages/ipykernel_launcher.py:17: UserWarning: Update your `Dense` call to the Keras 2 API: `Dense(activation=\"tanh\", units=250, kernel_initializer=\"uniform\")`\n",
      "/Users/adithya/anaconda3/envs/tensorflow_adithya/lib/python3.6/site-packages/ipykernel_launcher.py:21: UserWarning: Update your `Dense` call to the Keras 2 API: `Dense(activation=\"tanh\", units=125, kernel_initializer=\"uniform\")`\n",
      "/Users/adithya/anaconda3/envs/tensorflow_adithya/lib/python3.6/site-packages/ipykernel_launcher.py:25: UserWarning: Update your `Dense` call to the Keras 2 API: `Dense(activation=\"tanh\", units=63, kernel_initializer=\"uniform\")`\n",
      "/Users/adithya/anaconda3/envs/tensorflow_adithya/lib/python3.6/site-packages/ipykernel_launcher.py:29: UserWarning: Update your `Dense` call to the Keras 2 API: `Dense(activation=\"tanh\", units=32, kernel_initializer=\"uniform\")`\n",
      "/Users/adithya/anaconda3/envs/tensorflow_adithya/lib/python3.6/site-packages/ipykernel_launcher.py:33: UserWarning: Update your `Dense` call to the Keras 2 API: `Dense(activation=\"tanh\", units=16, kernel_initializer=\"uniform\")`\n",
      "/Users/adithya/anaconda3/envs/tensorflow_adithya/lib/python3.6/site-packages/ipykernel_launcher.py:37: UserWarning: Update your `Dense` call to the Keras 2 API: `Dense(activation=\"softmax\", units=14, kernel_initializer=\"uniform\")`\n"
     ]
    }
   ],
   "source": [
    "# Part 2 - Now let's make the ANN!\n",
    "\n",
    "# Importing the Keras libraries and packages\n",
    "import keras\n",
    "from keras.models import Sequential\n",
    "from keras.layers import Dense\n",
    "\n",
    "# Initialising the ANN\n",
    "classifier = Sequential()\n",
    "\n",
    "# Adding the input layer and the first hidden layer\n",
    "#classifier.add(Dense(output_dim = 843, init = 'uniform', activation = 'relu', input_dim = 1686))\n",
    "classifier.add(Dense(output_dim = 500, init = 'uniform', activation = 'tanh', input_dim = 1000))\n",
    "\n",
    "# Adding the second hidden layer\n",
    "#classifier.add(Dense(output_dim = 422, init = 'uniform', activation = 'relu'))\n",
    "classifier.add(Dense(output_dim = 250, init = 'uniform', activation = 'tanh'))\n",
    "\n",
    "# Adding the second hidden layer\n",
    "#classifier.add(Dense(output_dim = 211, init = 'uniform', activation = 'relu'))\n",
    "classifier.add(Dense(output_dim = 125, init = 'uniform', activation = 'tanh'))\n",
    "\n",
    "# Adding the second hidden layer\n",
    "#classifier.add(Dense(output_dim = 106, init = 'uniform', activation = 'relu'))\n",
    "classifier.add(Dense(output_dim = 63, init = 'uniform', activation = 'tanh'))\n",
    "\n",
    "# Adding the second hidden layer\n",
    "#classifier.add(Dense(output_dim = 53, init = 'uniform', activation = 'relu'))\n",
    "classifier.add(Dense(output_dim = 32, init = 'uniform', activation = 'tanh'))\n",
    "\n",
    "# Adding the second hidden layer\n",
    "#classifier.add(Dense(output_dim = 27, init = 'uniform', activation = 'relu'))\n",
    "classifier.add(Dense(output_dim = 16, init = 'uniform', activation = 'tanh'))\n",
    "\n",
    "# Adding the output layer\n",
    "#classifier.add(Dense(output_dim = 14, init = 'uniform', activation = 'sigmoid'))\n",
    "classifier.add(Dense(output_dim = 14, init = 'uniform', activation = 'softmax'))\n",
    "\n",
    "# Compiling the ANN\n",
    "#classifier.compile(optimizer = 'adam', loss = 'binary_crossentropy', metrics = ['accuracy'])\n",
    "classifier.compile(optimizer = 'adam', loss = 'categorical_crossentropy', metrics = ['categorical_accuracy'])\n",
    "#classifier.compile(optimizer = 'sgd', loss = 'categorical_crossentropy', metrics = ['categorical_accuracy'])\\\n",
    "#classifier.compile(optimizer = 'sgd', loss = 'categorical_hinge', metrics = ['categorical_accuracy'])"
   ]
  },
  {
   "cell_type": "code",
   "execution_count": null,
   "metadata": {
    "collapsed": true
   },
   "outputs": [],
   "source": []
  },
  {
   "cell_type": "code",
   "execution_count": 31,
   "metadata": {},
   "outputs": [
    {
     "name": "stdout",
     "output_type": "stream",
     "text": [
      "Epoch 1/100\n",
      "1186/1186 [==============================] - ETA: 0s - loss: 2.3451 - categorical_accuracy: 0.31 - 3s 3ms/step - loss: 2.3403 - categorical_accuracy: 0.3111\n",
      "Epoch 2/100\n",
      "1186/1186 [==============================] - 2s 2ms/step - loss: 2.1960 - categorical_accuracy: 0.3179\n",
      "Epoch 3/100\n",
      "1186/1186 [==============================] - 2s 2ms/step - loss: 2.1805 - categorical_accuracy: 0.3196\n",
      "Epoch 4/100\n",
      "1186/1186 [==============================] - 2s 1ms/step - loss: 2.1793 - categorical_accuracy: 0.3196\n",
      "Epoch 5/100\n",
      "1186/1186 [==============================] - 2s 2ms/step - loss: 2.1761 - categorical_accuracy: 0.3196\n",
      "Epoch 6/100\n",
      "1186/1186 [==============================] - 2s 2ms/step - loss: 2.1766 - categorical_accuracy: 0.3196\n",
      "Epoch 7/100\n",
      "1186/1186 [==============================] - 2s 2ms/step - loss: 2.1762 - categorical_accuracy: 0.3187\n",
      "Epoch 8/100\n",
      "1186/1186 [==============================] - 2s 2ms/step - loss: 2.1787 - categorical_accuracy: 0.3179\n",
      "Epoch 9/100\n",
      "1186/1186 [==============================] - 2s 2ms/step - loss: 2.1750 - categorical_accuracy: 0.3179\n",
      "Epoch 10/100\n",
      "1186/1186 [==============================] - 2s 2ms/step - loss: 2.1741 - categorical_accuracy: 0.3187\n",
      "Epoch 11/100\n",
      "1186/1186 [==============================] - 2s 2ms/step - loss: 2.1669 - categorical_accuracy: 0.3187\n",
      "Epoch 12/100\n",
      "1186/1186 [==============================] - 2s 2ms/step - loss: 2.1608 - categorical_accuracy: 0.3204\n",
      "Epoch 13/100\n",
      "1186/1186 [==============================] - 2s 2ms/step - loss: 2.1591 - categorical_accuracy: 0.3204\n",
      "Epoch 14/100\n",
      "1186/1186 [==============================] - 2s 2ms/step - loss: 2.1593 - categorical_accuracy: 0.3221\n",
      "Epoch 15/100\n",
      "1186/1186 [==============================] - 2s 2ms/step - loss: 2.1560 - categorical_accuracy: 0.3212\n",
      "Epoch 16/100\n",
      "1186/1186 [==============================] - 2s 2ms/step - loss: 2.1547 - categorical_accuracy: 0.3204\n",
      "Epoch 17/100\n",
      "1186/1186 [==============================] - 2s 2ms/step - loss: 2.1469 - categorical_accuracy: 0.3212\n",
      "Epoch 18/100\n",
      "1186/1186 [==============================] - 2s 2ms/step - loss: 2.1335 - categorical_accuracy: 0.3221\n",
      "Epoch 19/100\n",
      "1186/1186 [==============================] - 2s 2ms/step - loss: 2.1259 - categorical_accuracy: 0.3212\n",
      "Epoch 20/100\n",
      "1186/1186 [==============================] - 2s 2ms/step - loss: 2.1276 - categorical_accuracy: 0.3229\n",
      "Epoch 21/100\n",
      "1186/1186 [==============================] - 2s 2ms/step - loss: 2.1183 - categorical_accuracy: 0.3280\n",
      "Epoch 22/100\n",
      "1186/1186 [==============================] - 2s 2ms/step - loss: 2.1091 - categorical_accuracy: 0.3297\n",
      "Epoch 23/100\n",
      "1186/1186 [==============================] - 2s 2ms/step - loss: 2.1034 - categorical_accuracy: 0.3297\n",
      "Epoch 24/100\n",
      "1186/1186 [==============================] - 2s 2ms/step - loss: 2.0843 - categorical_accuracy: 0.3305\n",
      "Epoch 25/100\n",
      "1186/1186 [==============================] - 2s 2ms/step - loss: 2.0782 - categorical_accuracy: 0.3322\n",
      "Epoch 26/100\n",
      "1186/1186 [==============================] - 2s 2ms/step - loss: 2.0806 - categorical_accuracy: 0.3280\n",
      "Epoch 27/100\n",
      "1186/1186 [==============================] - 2s 2ms/step - loss: 2.0612 - categorical_accuracy: 0.3339\n",
      "Epoch 28/100\n",
      "1186/1186 [==============================] - 2s 2ms/step - loss: 2.0540 - categorical_accuracy: 0.3347\n",
      "Epoch 29/100\n",
      "1186/1186 [==============================] - 2s 2ms/step - loss: 2.0504 - categorical_accuracy: 0.3339\n",
      "Epoch 30/100\n",
      "1186/1186 [==============================] - 2s 2ms/step - loss: 2.0379 - categorical_accuracy: 0.3347\n",
      "Epoch 31/100\n",
      "1186/1186 [==============================] - 2s 2ms/step - loss: 2.0348 - categorical_accuracy: 0.3356\n",
      "Epoch 32/100\n",
      "1186/1186 [==============================] - 2s 2ms/step - loss: 2.0324 - categorical_accuracy: 0.3347\n",
      "Epoch 33/100\n",
      "1186/1186 [==============================] - 2s 2ms/step - loss: 2.0347 - categorical_accuracy: 0.3347\n",
      "Epoch 34/100\n",
      "1186/1186 [==============================] - 2s 2ms/step - loss: 2.0291 - categorical_accuracy: 0.3347\n",
      "Epoch 35/100\n",
      "1186/1186 [==============================] - 2s 2ms/step - loss: 2.0244 - categorical_accuracy: 0.3331\n",
      "Epoch 36/100\n",
      "1186/1186 [==============================] - 2s 2ms/step - loss: 2.0343 - categorical_accuracy: 0.3305\n",
      "Epoch 37/100\n",
      "1186/1186 [==============================] - 2s 2ms/step - loss: 2.0178 - categorical_accuracy: 0.3347\n",
      "Epoch 38/100\n",
      "1186/1186 [==============================] - 2s 2ms/step - loss: 2.0186 - categorical_accuracy: 0.3339\n",
      "Epoch 39/100\n",
      "1186/1186 [==============================] - 2s 2ms/step - loss: 2.0195 - categorical_accuracy: 0.3381\n",
      "Epoch 40/100\n",
      "1186/1186 [==============================] - 2s 2ms/step - loss: 2.0245 - categorical_accuracy: 0.3364\n",
      "Epoch 41/100\n",
      "1186/1186 [==============================] - 2s 2ms/step - loss: 2.0225 - categorical_accuracy: 0.3381\n",
      "Epoch 42/100\n",
      "1186/1186 [==============================] - 2s 2ms/step - loss: 2.0189 - categorical_accuracy: 0.3381\n",
      "Epoch 43/100\n",
      "1186/1186 [==============================] - 2s 2ms/step - loss: 2.0168 - categorical_accuracy: 0.3381\n",
      "Epoch 44/100\n",
      "1186/1186 [==============================] - 2s 2ms/step - loss: 2.0215 - categorical_accuracy: 0.3381\n",
      "Epoch 45/100\n",
      "1186/1186 [==============================] - 2s 2ms/step - loss: 2.0274 - categorical_accuracy: 0.3364\n",
      "Epoch 46/100\n",
      "1186/1186 [==============================] - 2s 2ms/step - loss: 2.0317 - categorical_accuracy: 0.3347\n",
      "Epoch 47/100\n",
      "1186/1186 [==============================] - 2s 2ms/step - loss: 2.0274 - categorical_accuracy: 0.3339\n",
      "Epoch 48/100\n",
      "1186/1186 [==============================] - 2s 2ms/step - loss: 2.0247 - categorical_accuracy: 0.3373\n",
      "Epoch 49/100\n",
      "1186/1186 [==============================] - 2s 2ms/step - loss: 2.0230 - categorical_accuracy: 0.3381\n",
      "Epoch 50/100\n",
      "1186/1186 [==============================] - 2s 2ms/step - loss: 2.0197 - categorical_accuracy: 0.3381\n",
      "Epoch 51/100\n",
      "1186/1186 [==============================] - 2s 2ms/step - loss: 2.0359 - categorical_accuracy: 0.3347\n",
      "Epoch 52/100\n",
      "1186/1186 [==============================] - 2s 2ms/step - loss: 2.0256 - categorical_accuracy: 0.3381\n",
      "Epoch 53/100\n",
      "1186/1186 [==============================] - 2s 2ms/step - loss: 2.0264 - categorical_accuracy: 0.3373\n",
      "Epoch 54/100\n",
      "1186/1186 [==============================] - 2s 2ms/step - loss: 2.0246 - categorical_accuracy: 0.3390\n",
      "Epoch 55/100\n",
      "1186/1186 [==============================] - 2s 2ms/step - loss: 2.0191 - categorical_accuracy: 0.3347\n",
      "Epoch 56/100\n",
      "1186/1186 [==============================] - 2s 2ms/step - loss: 2.0183 - categorical_accuracy: 0.3390\n",
      "Epoch 57/100\n",
      "1186/1186 [==============================] - 2s 2ms/step - loss: 2.0195 - categorical_accuracy: 0.3390\n",
      "Epoch 58/100\n",
      "1186/1186 [==============================] - 2s 2ms/step - loss: 2.0198 - categorical_accuracy: 0.3390\n",
      "Epoch 59/100\n",
      "1186/1186 [==============================] - 2s 2ms/step - loss: 2.0177 - categorical_accuracy: 0.3390\n",
      "Epoch 60/100\n",
      "1186/1186 [==============================] - 2s 2ms/step - loss: 2.0194 - categorical_accuracy: 0.3390\n",
      "Epoch 61/100\n",
      "1186/1186 [==============================] - 2s 2ms/step - loss: 2.0183 - categorical_accuracy: 0.3390\n",
      "Epoch 62/100\n",
      "1186/1186 [==============================] - 2s 2ms/step - loss: 2.0180 - categorical_accuracy: 0.3390\n",
      "Epoch 63/100\n",
      "1186/1186 [==============================] - 2s 2ms/step - loss: 2.0176 - categorical_accuracy: 0.3390\n",
      "Epoch 64/100\n",
      "1186/1186 [==============================] - 2s 2ms/step - loss: 2.0177 - categorical_accuracy: 0.3390\n",
      "Epoch 65/100\n",
      "1186/1186 [==============================] - 2s 2ms/step - loss: 2.0181 - categorical_accuracy: 0.3390\n",
      "Epoch 66/100\n",
      "1186/1186 [==============================] - 2s 2ms/step - loss: 2.0166 - categorical_accuracy: 0.3347\n",
      "Epoch 67/100\n",
      "1186/1186 [==============================] - 2s 2ms/step - loss: 2.0191 - categorical_accuracy: 0.3381\n",
      "Epoch 68/100\n",
      "1186/1186 [==============================] - 2s 2ms/step - loss: 2.0197 - categorical_accuracy: 0.3381\n",
      "Epoch 69/100\n",
      "1186/1186 [==============================] - 2s 2ms/step - loss: 2.0201 - categorical_accuracy: 0.3381\n",
      "Epoch 70/100\n",
      "1186/1186 [==============================] - 2s 2ms/step - loss: 2.0189 - categorical_accuracy: 0.3381\n",
      "Epoch 71/100\n",
      "1186/1186 [==============================] - 2s 2ms/step - loss: 2.0193 - categorical_accuracy: 0.3373\n",
      "Epoch 72/100\n",
      "1186/1186 [==============================] - 2s 2ms/step - loss: 2.0192 - categorical_accuracy: 0.3381\n",
      "Epoch 73/100\n",
      "1186/1186 [==============================] - 2s 2ms/step - loss: 2.0188 - categorical_accuracy: 0.3381\n",
      "Epoch 74/100\n",
      "1186/1186 [==============================] - 2s 2ms/step - loss: 2.0181 - categorical_accuracy: 0.3381\n",
      "Epoch 75/100\n",
      "1186/1186 [==============================] - 2s 1ms/step - loss: 2.0179 - categorical_accuracy: 0.3381\n",
      "Epoch 76/100\n",
      "1186/1186 [==============================] - 2s 1ms/step - loss: 2.0193 - categorical_accuracy: 0.3381\n",
      "Epoch 77/100\n",
      "1186/1186 [==============================] - 2s 2ms/step - loss: 2.0193 - categorical_accuracy: 0.3373\n",
      "Epoch 78/100\n",
      "1186/1186 [==============================] - 2s 2ms/step - loss: 2.0189 - categorical_accuracy: 0.3381\n",
      "Epoch 79/100\n",
      "1186/1186 [==============================] - 2s 2ms/step - loss: 2.0251 - categorical_accuracy: 0.3381\n",
      "Epoch 80/100\n",
      "1186/1186 [==============================] - 2s 2ms/step - loss: 2.0598 - categorical_accuracy: 0.3339\n",
      "Epoch 81/100\n",
      "1186/1186 [==============================] - 2s 1ms/step - loss: 2.0556 - categorical_accuracy: 0.3347\n",
      "Epoch 82/100\n",
      "1186/1186 [==============================] - 2s 2ms/step - loss: 2.0544 - categorical_accuracy: 0.3356\n",
      "Epoch 83/100\n",
      "1186/1186 [==============================] - 2s 2ms/step - loss: 2.0516 - categorical_accuracy: 0.3347\n",
      "Epoch 84/100\n",
      "1186/1186 [==============================] - 2s 1ms/step - loss: 2.0496 - categorical_accuracy: 0.3347\n",
      "Epoch 85/100\n",
      "1186/1186 [==============================] - 2s 1ms/step - loss: 2.0573 - categorical_accuracy: 0.3331\n",
      "Epoch 86/100\n",
      "1186/1186 [==============================] - 2s 2ms/step - loss: 2.0487 - categorical_accuracy: 0.3347\n",
      "Epoch 87/100\n",
      "1186/1186 [==============================] - 2s 2ms/step - loss: 2.0494 - categorical_accuracy: 0.3347\n",
      "Epoch 88/100\n",
      "1186/1186 [==============================] - 2s 2ms/step - loss: 2.0498 - categorical_accuracy: 0.3347\n",
      "Epoch 89/100\n",
      "1186/1186 [==============================] - 2s 1ms/step - loss: 2.0498 - categorical_accuracy: 0.3347\n",
      "Epoch 90/100\n",
      "1186/1186 [==============================] - 2s 1ms/step - loss: 2.0484 - categorical_accuracy: 0.3347\n",
      "Epoch 91/100\n",
      "1186/1186 [==============================] - 2s 1ms/step - loss: 2.0487 - categorical_accuracy: 0.3347\n",
      "Epoch 92/100\n",
      "1186/1186 [==============================] - 2s 1ms/step - loss: 2.0494 - categorical_accuracy: 0.3347\n",
      "Epoch 93/100\n",
      "1186/1186 [==============================] - 2s 1ms/step - loss: 2.0476 - categorical_accuracy: 0.3322\n",
      "Epoch 94/100\n",
      "1186/1186 [==============================] - 2s 1ms/step - loss: 2.0467 - categorical_accuracy: 0.3347\n",
      "Epoch 95/100\n",
      "1186/1186 [==============================] - 2s 1ms/step - loss: 2.0466 - categorical_accuracy: 0.3347\n",
      "Epoch 96/100\n",
      "1186/1186 [==============================] - 2s 1ms/step - loss: 2.0467 - categorical_accuracy: 0.3347\n",
      "Epoch 97/100\n",
      "1186/1186 [==============================] - 2s 2ms/step - loss: 2.0469 - categorical_accuracy: 0.3347\n",
      "Epoch 98/100\n",
      "1186/1186 [==============================] - 2s 2ms/step - loss: 2.0469 - categorical_accuracy: 0.3347\n",
      "Epoch 99/100\n",
      "1186/1186 [==============================] - 2s 2ms/step - loss: 2.0456 - categorical_accuracy: 0.3339\n",
      "Epoch 100/100\n",
      "1186/1186 [==============================] - 2s 2ms/step - loss: 2.0463 - categorical_accuracy: 0.3347\n"
     ]
    },
    {
     "data": {
      "text/plain": [
       "<keras.callbacks.History at 0xa32124780>"
      ]
     },
     "execution_count": 31,
     "metadata": {},
     "output_type": "execute_result"
    }
   ],
   "source": [
    "# Fitting the ANN to the Training set\n",
    "classifier.fit(total, dummy_y, batch_size = 10, epochs = 100)"
   ]
  },
  {
   "cell_type": "code",
   "execution_count": 41,
   "metadata": {
    "collapsed": true
   },
   "outputs": [],
   "source": [
    "from keras.models import load_model\n",
    "classifier.save('my_model2a_lle.h5')  # creates a HDF5 file 'my_model.h5'"
   ]
  },
  {
   "cell_type": "code",
   "execution_count": 42,
   "metadata": {},
   "outputs": [
    {
     "data": {
      "text/plain": [
       "(1186, 1000)"
      ]
     },
     "execution_count": 42,
     "metadata": {},
     "output_type": "execute_result"
    }
   ],
   "source": [
    "total.shape"
   ]
  },
  {
   "cell_type": "code",
   "execution_count": 43,
   "metadata": {
    "collapsed": true
   },
   "outputs": [],
   "source": [
    "database = classifier.predict(total)"
   ]
  },
  {
   "cell_type": "code",
   "execution_count": 44,
   "metadata": {},
   "outputs": [
    {
     "data": {
      "text/plain": [
       "(1186, 14)"
      ]
     },
     "execution_count": 44,
     "metadata": {},
     "output_type": "execute_result"
    }
   ],
   "source": [
    "database.shape"
   ]
  },
  {
   "cell_type": "code",
   "execution_count": 45,
   "metadata": {
    "collapsed": true
   },
   "outputs": [],
   "source": [
    "import pandas as pd \n",
    "df = pd.DataFrame(database)\n",
    "df.to_csv(\"predicted_lle.csv\")"
   ]
  },
  {
   "cell_type": "code",
   "execution_count": null,
   "metadata": {
    "collapsed": true
   },
   "outputs": [],
   "source": []
  },
  {
   "cell_type": "code",
   "execution_count": null,
   "metadata": {
    "collapsed": true
   },
   "outputs": [],
   "source": []
  },
  {
   "cell_type": "code",
   "execution_count": null,
   "metadata": {
    "collapsed": true
   },
   "outputs": [],
   "source": []
  }
 ],
 "metadata": {
  "kernelspec": {
   "display_name": "Python 3",
   "language": "python",
   "name": "python3"
  },
  "language_info": {
   "codemirror_mode": {
    "name": "ipython",
    "version": 3
   },
   "file_extension": ".py",
   "mimetype": "text/x-python",
   "name": "python",
   "nbconvert_exporter": "python",
   "pygments_lexer": "ipython3",
   "version": "3.6.3"
  }
 },
 "nbformat": 4,
 "nbformat_minor": 2
}
