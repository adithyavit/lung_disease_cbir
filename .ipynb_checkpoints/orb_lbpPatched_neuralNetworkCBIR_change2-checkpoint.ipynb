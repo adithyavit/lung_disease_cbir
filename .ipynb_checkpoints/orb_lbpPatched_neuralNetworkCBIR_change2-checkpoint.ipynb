{
 "cells": [
  {
   "cell_type": "code",
   "execution_count": 19,
   "metadata": {
    "collapsed": true
   },
   "outputs": [],
   "source": [
    "# Importing the libraries\n",
    "import numpy as np\n",
    "import matplotlib.pyplot as plt\n",
    "import pandas as pd\n",
    "\n",
    "# Importing the dataset\n",
    "dataset_orb = pd.read_csv('X_orb_desc_change.csv',header = None)\n",
    "dataset_lbp = pd.read_csv('X_lbp_desc2_long.csv',header = None)"
   ]
  },
  {
   "cell_type": "code",
   "execution_count": 20,
   "metadata": {
    "collapsed": true
   },
   "outputs": [],
   "source": [
    "target = pd.read_csv('y_orb_ouput.csv',header = None)"
   ]
  },
  {
   "cell_type": "code",
   "execution_count": 21,
   "metadata": {
    "collapsed": true
   },
   "outputs": [],
   "source": [
    "X_orb = dataset_orb\n",
    "X_lbp = dataset_lbp\n",
    "y = target\n",
    "\n",
    "# Splitting the dataset into the Training set and Test set\n",
    "from sklearn.cross_validation import train_test_split\n",
    "X_train_orb, X_test_orb, y_train, y_test = train_test_split(X_orb, y, test_size = 0.25, random_state = 0)\n",
    "X_train_lbp, X_test_lbp, y_train, y_test = train_test_split(X_lbp, y, test_size = 0.25, random_state = 0)\n",
    "\n",
    "# Feature Scaling\n",
    "from sklearn.preprocessing import StandardScaler\n",
    "sc = StandardScaler()\n",
    "X_train_orb = sc.fit_transform(X_train_orb)\n",
    "X_test_orb = sc.transform(X_test_orb)\n",
    "X_train_lbp = sc.fit_transform(X_train_lbp)\n",
    "X_test_lbp = sc.transform(X_test_lbp)\n"
   ]
  },
  {
   "cell_type": "code",
   "execution_count": 22,
   "metadata": {
    "collapsed": true
   },
   "outputs": [],
   "source": [
    "# Applying PCA\n",
    "from sklearn.decomposition import PCA\n",
    "pca_orb = PCA(n_components = 500)\n",
    "pca_lbp = PCA(n_components = 500)\n",
    "#pca_total = PCA()\n",
    "#pca = PCA(n_components = None)\n",
    "X_train_orb = pca_orb.fit_transform(X_train_orb)\n",
    "X_train_lbp = pca_lbp.fit_transform(X_train_lbp)\n",
    "#X_test = pca_total.transform(X_test)\n",
    "#explained_variance = pca.explained_va"
   ]
  },
  {
   "cell_type": "code",
   "execution_count": 23,
   "metadata": {
    "collapsed": true
   },
   "outputs": [],
   "source": [
    "X_train = np.hstack((X_train_orb,X_train_lbp))\n",
    "X_test = np.hstack((X_test_orb,X_test_lbp))"
   ]
  },
  {
   "cell_type": "code",
   "execution_count": 24,
   "metadata": {
    "collapsed": true
   },
   "outputs": [],
   "source": [
    "from sklearn.preprocessing import OneHotEncoder\n",
    "from numpy import array\n",
    "from numpy import argmax\n",
    "import numpy\n",
    "from sklearn.preprocessing import LabelEncoder\n",
    "#values = array(y_train)\n",
    "#values = numpy.transpose(values)"
   ]
  },
  {
   "cell_type": "code",
   "execution_count": 25,
   "metadata": {
    "collapsed": true
   },
   "outputs": [],
   "source": [
    "# integer encode\n",
    "label_encoder = LabelEncoder()\n",
    "integer_encoded = label_encoder.fit_transform(y_train.values.ravel())"
   ]
  },
  {
   "cell_type": "code",
   "execution_count": 26,
   "metadata": {
    "collapsed": true
   },
   "outputs": [],
   "source": [
    "from keras.utils import np_utils\n",
    "categorical_train = np_utils.to_categorical(integer_encoded)"
   ]
  },
  {
   "cell_type": "code",
   "execution_count": 27,
   "metadata": {
    "collapsed": true
   },
   "outputs": [],
   "source": [
    "label_encoder = LabelEncoder()\n",
    "integer_encoded_test = label_encoder.fit_transform(y_test.values.ravel())"
   ]
  },
  {
   "cell_type": "code",
   "execution_count": 28,
   "metadata": {
    "collapsed": true
   },
   "outputs": [],
   "source": [
    "categorical_encoded_test = np_utils.to_categorical(integer_encoded_test)"
   ]
  },
  {
   "cell_type": "code",
   "execution_count": 29,
   "metadata": {
    "collapsed": true
   },
   "outputs": [],
   "source": [
    "import numpy as np\n",
    "import matplotlib.pyplot as plt\n",
    "import pandas as pd"
   ]
  },
  {
   "cell_type": "code",
   "execution_count": 30,
   "metadata": {
    "collapsed": true
   },
   "outputs": [],
   "source": [
    "# encode class values as integers\n",
    "from keras.utils import np_utils\n",
    "encoder = LabelEncoder()\n",
    "encoder.fit(integer_encoded)\n",
    "encoded_Y = encoder.transform(integer_encoded)\n",
    "# convert integers to dummy variables (i.e. one hot encoded)\n",
    "dummy_y = np_utils.to_categorical(encoded_Y)"
   ]
  },
  {
   "cell_type": "code",
   "execution_count": 31,
   "metadata": {
    "collapsed": true
   },
   "outputs": [],
   "source": [
    "from keras.utils import np_utils\n",
    "encoder_test = LabelEncoder()\n",
    "encoder_test.fit(integer_encoded_test)\n",
    "encoded_Y_test = encoder_test.transform(integer_encoded_test)\n",
    "# convert integers to dummy variables (i.e. one hot encoded)\n",
    "dummy_y_test = np_utils.to_categorical(encoded_Y_test)"
   ]
  },
  {
   "cell_type": "code",
   "execution_count": 32,
   "metadata": {},
   "outputs": [
    {
     "data": {
      "text/plain": [
       "array([[0., 0., 0., ..., 0., 0., 0.],\n",
       "       [0., 0., 1., ..., 0., 0., 0.],\n",
       "       [0., 0., 0., ..., 0., 0., 0.],\n",
       "       ...,\n",
       "       [0., 0., 0., ..., 0., 0., 0.],\n",
       "       [0., 0., 1., ..., 0., 0., 0.],\n",
       "       [0., 0., 0., ..., 0., 0., 0.]])"
      ]
     },
     "execution_count": 32,
     "metadata": {},
     "output_type": "execute_result"
    }
   ],
   "source": [
    "dummy_y_test"
   ]
  },
  {
   "cell_type": "code",
   "execution_count": 33,
   "metadata": {},
   "outputs": [
    {
     "data": {
      "text/plain": [
       "array([1., 0., 0., 0., 0., 0., 0., 0., 0., 0., 0., 0., 0., 0.])"
      ]
     },
     "execution_count": 33,
     "metadata": {},
     "output_type": "execute_result"
    }
   ],
   "source": [
    "dummy_y[13]"
   ]
  },
  {
   "cell_type": "code",
   "execution_count": 34,
   "metadata": {},
   "outputs": [
    {
     "data": {
      "text/plain": [
       "array([0., 1., 0., 0., 0., 0., 0., 0., 0., 0., 0., 0., 0., 0.])"
      ]
     },
     "execution_count": 34,
     "metadata": {},
     "output_type": "execute_result"
    }
   ],
   "source": [
    "dummy_y_test[13]"
   ]
  },
  {
   "cell_type": "code",
   "execution_count": 35,
   "metadata": {},
   "outputs": [
    {
     "data": {
      "text/plain": [
       "(1186, 1000)"
      ]
     },
     "execution_count": 35,
     "metadata": {},
     "output_type": "execute_result"
    }
   ],
   "source": [
    "X_train.shape"
   ]
  },
  {
   "cell_type": "code",
   "execution_count": 36,
   "metadata": {},
   "outputs": [
    {
     "name": "stderr",
     "output_type": "stream",
     "text": [
      "/Users/adithya/anaconda3/envs/tensorflow_adithya/lib/python3.6/site-packages/ipykernel_launcher.py:13: UserWarning: Update your `Dense` call to the Keras 2 API: `Dense(activation=\"tanh\", input_dim=1000, units=500, kernel_initializer=\"uniform\")`\n",
      "  del sys.path[0]\n",
      "/Users/adithya/anaconda3/envs/tensorflow_adithya/lib/python3.6/site-packages/ipykernel_launcher.py:17: UserWarning: Update your `Dense` call to the Keras 2 API: `Dense(activation=\"tanh\", units=250, kernel_initializer=\"uniform\")`\n",
      "/Users/adithya/anaconda3/envs/tensorflow_adithya/lib/python3.6/site-packages/ipykernel_launcher.py:21: UserWarning: Update your `Dense` call to the Keras 2 API: `Dense(activation=\"tanh\", units=125, kernel_initializer=\"uniform\")`\n",
      "/Users/adithya/anaconda3/envs/tensorflow_adithya/lib/python3.6/site-packages/ipykernel_launcher.py:25: UserWarning: Update your `Dense` call to the Keras 2 API: `Dense(activation=\"tanh\", units=63, kernel_initializer=\"uniform\")`\n",
      "/Users/adithya/anaconda3/envs/tensorflow_adithya/lib/python3.6/site-packages/ipykernel_launcher.py:29: UserWarning: Update your `Dense` call to the Keras 2 API: `Dense(activation=\"tanh\", units=32, kernel_initializer=\"uniform\")`\n",
      "/Users/adithya/anaconda3/envs/tensorflow_adithya/lib/python3.6/site-packages/ipykernel_launcher.py:33: UserWarning: Update your `Dense` call to the Keras 2 API: `Dense(activation=\"tanh\", units=16, kernel_initializer=\"uniform\")`\n",
      "/Users/adithya/anaconda3/envs/tensorflow_adithya/lib/python3.6/site-packages/ipykernel_launcher.py:37: UserWarning: Update your `Dense` call to the Keras 2 API: `Dense(activation=\"softmax\", units=14, kernel_initializer=\"uniform\")`\n"
     ]
    }
   ],
   "source": [
    "# Part 2 - Now let's make the ANN!\n",
    "\n",
    "# Importing the Keras libraries and packages\n",
    "import keras\n",
    "from keras.models import Sequential\n",
    "from keras.layers import Dense\n",
    "\n",
    "# Initialising the ANN\n",
    "classifier = Sequential()\n",
    "\n",
    "# Adding the input layer and the first hidden layer\n",
    "#classifier.add(Dense(output_dim = 843, init = 'uniform', activation = 'relu', input_dim = 1686))\n",
    "classifier.add(Dense(output_dim = 500, init = 'uniform', activation = 'tanh', input_dim = 1000))\n",
    "\n",
    "# Adding the second hidden layer\n",
    "#classifier.add(Dense(output_dim = 422, init = 'uniform', activation = 'relu'))\n",
    "classifier.add(Dense(output_dim = 250, init = 'uniform', activation = 'tanh'))\n",
    "\n",
    "# Adding the second hidden layer\n",
    "#classifier.add(Dense(output_dim = 211, init = 'uniform', activation = 'relu'))\n",
    "classifier.add(Dense(output_dim = 125, init = 'uniform', activation = 'tanh'))\n",
    "\n",
    "# Adding the second hidden layer\n",
    "#classifier.add(Dense(output_dim = 106, init = 'uniform', activation = 'relu'))\n",
    "classifier.add(Dense(output_dim = 63, init = 'uniform', activation = 'tanh'))\n",
    "\n",
    "# Adding the second hidden layer\n",
    "#classifier.add(Dense(output_dim = 53, init = 'uniform', activation = 'relu'))\n",
    "classifier.add(Dense(output_dim = 32, init = 'uniform', activation = 'tanh'))\n",
    "\n",
    "# Adding the second hidden layer\n",
    "#classifier.add(Dense(output_dim = 27, init = 'uniform', activation = 'relu'))\n",
    "classifier.add(Dense(output_dim = 16, init = 'uniform', activation = 'tanh'))\n",
    "\n",
    "# Adding the output layer\n",
    "#classifier.add(Dense(output_dim = 14, init = 'uniform', activation = 'sigmoid'))\n",
    "classifier.add(Dense(output_dim = 14, init = 'uniform', activation = 'softmax'))\n",
    "\n",
    "# Compiling the ANN\n",
    "#classifier.compile(optimizer = 'adam', loss = 'binary_crossentropy', metrics = ['accuracy'])\n",
    "classifier.compile(optimizer = 'adam', loss = 'categorical_crossentropy', metrics = ['categorical_accuracy'])\n",
    "#classifier.compile(optimizer = 'sgd', loss = 'categorical_crossentropy', metrics = ['categorical_accuracy'])\\\n",
    "#classifier.compile(optimizer = 'sgd', loss = 'categorical_hinge', metrics = ['categorical_accuracy'])"
   ]
  },
  {
   "cell_type": "code",
   "execution_count": 37,
   "metadata": {},
   "outputs": [
    {
     "name": "stdout",
     "output_type": "stream",
     "text": [
      "Epoch 1/100\n",
      "1186/1186 [==============================] - 2s 2ms/step - loss: 2.5415 - categorical_accuracy: 0.2538\n",
      "Epoch 2/100\n",
      "1186/1186 [==============================] - 2s 2ms/step - loss: 2.2018 - categorical_accuracy: 0.3137\n",
      "Epoch 3/100\n",
      "1186/1186 [==============================] - 2s 2ms/step - loss: 2.1270 - categorical_accuracy: 0.3162\n",
      "Epoch 4/100\n",
      "1186/1186 [==============================] - 2s 2ms/step - loss: 2.0363 - categorical_accuracy: 0.3246\n",
      "Epoch 5/100\n",
      "1186/1186 [==============================] - 2s 2ms/step - loss: 1.9754 - categorical_accuracy: 0.3314\n",
      "Epoch 6/100\n",
      "1186/1186 [==============================] - 2s 2ms/step - loss: 1.8810 - categorical_accuracy: 0.3533\n",
      "Epoch 7/100\n",
      "1186/1186 [==============================] - 2s 2ms/step - loss: 1.8044 - categorical_accuracy: 0.3803\n",
      "Epoch 8/100\n",
      "1186/1186 [==============================] - 2s 2ms/step - loss: 1.7478 - categorical_accuracy: 0.4216\n",
      "Epoch 9/100\n",
      "1186/1186 [==============================] - 2s 2ms/step - loss: 1.6390 - categorical_accuracy: 0.4511\n",
      "Epoch 10/100\n",
      "1186/1186 [==============================] - 2s 2ms/step - loss: 1.5962 - categorical_accuracy: 0.4713\n",
      "Epoch 11/100\n",
      "1186/1186 [==============================] - 2s 2ms/step - loss: 1.4996 - categorical_accuracy: 0.5101\n",
      "Epoch 12/100\n",
      "1186/1186 [==============================] - 2s 2ms/step - loss: 1.4140 - categorical_accuracy: 0.5219\n",
      "Epoch 13/100\n",
      "1186/1186 [==============================] - 2s 2ms/step - loss: 1.3490 - categorical_accuracy: 0.5270\n",
      "Epoch 14/100\n",
      "1186/1186 [==============================] - 2s 2ms/step - loss: 1.3070 - categorical_accuracy: 0.5497\n",
      "Epoch 15/100\n",
      "1186/1186 [==============================] - 2s 2ms/step - loss: 1.2317 - categorical_accuracy: 0.5877\n",
      "Epoch 16/100\n",
      "1186/1186 [==============================] - 2s 2ms/step - loss: 1.1944 - categorical_accuracy: 0.6071\n",
      "Epoch 17/100\n",
      "1186/1186 [==============================] - 2s 2ms/step - loss: 1.1992 - categorical_accuracy: 0.6121\n",
      "Epoch 18/100\n",
      "1186/1186 [==============================] - 2s 2ms/step - loss: 1.1838 - categorical_accuracy: 0.6079\n",
      "Epoch 19/100\n",
      "1186/1186 [==============================] - 2s 2ms/step - loss: 1.1341 - categorical_accuracy: 0.6358\n",
      "Epoch 20/100\n",
      "1186/1186 [==============================] - 2s 2ms/step - loss: 1.1141 - categorical_accuracy: 0.6433\n",
      "Epoch 21/100\n",
      "1186/1186 [==============================] - 2s 2ms/step - loss: 1.1583 - categorical_accuracy: 0.6231\n",
      "Epoch 22/100\n",
      "1186/1186 [==============================] - 2s 2ms/step - loss: 1.0936 - categorical_accuracy: 0.6391\n",
      "Epoch 23/100\n",
      "1186/1186 [==============================] - 2s 2ms/step - loss: 1.0250 - categorical_accuracy: 0.6838\n",
      "Epoch 24/100\n",
      "1186/1186 [==============================] - 2s 2ms/step - loss: 0.9559 - categorical_accuracy: 0.7074\n",
      "Epoch 25/100\n",
      "1186/1186 [==============================] - 2s 2ms/step - loss: 0.9394 - categorical_accuracy: 0.7167\n",
      "Epoch 26/100\n",
      "1186/1186 [==============================] - 2s 2ms/step - loss: 0.9188 - categorical_accuracy: 0.7167\n",
      "Epoch 27/100\n",
      "1186/1186 [==============================] - 2s 2ms/step - loss: 0.8906 - categorical_accuracy: 0.7285\n",
      "Epoch 28/100\n",
      "1186/1186 [==============================] - 2s 2ms/step - loss: 0.9029 - categorical_accuracy: 0.7167\n",
      "Epoch 29/100\n",
      "1186/1186 [==============================] - 2s 2ms/step - loss: 0.8833 - categorical_accuracy: 0.7285\n",
      "Epoch 30/100\n",
      "1186/1186 [==============================] - 2s 2ms/step - loss: 0.8290 - categorical_accuracy: 0.7546\n",
      "Epoch 31/100\n",
      "1186/1186 [==============================] - 2s 2ms/step - loss: 0.8082 - categorical_accuracy: 0.7580\n",
      "Epoch 32/100\n",
      "1186/1186 [==============================] - 2s 2ms/step - loss: 0.7879 - categorical_accuracy: 0.7648\n",
      "Epoch 33/100\n",
      "1186/1186 [==============================] - 2s 2ms/step - loss: 0.7538 - categorical_accuracy: 0.7757\n",
      "Epoch 34/100\n",
      "1186/1186 [==============================] - 2s 2ms/step - loss: 0.7340 - categorical_accuracy: 0.7816\n",
      "Epoch 35/100\n",
      "1186/1186 [==============================] - 2s 2ms/step - loss: 0.7323 - categorical_accuracy: 0.7816\n",
      "Epoch 36/100\n",
      "1186/1186 [==============================] - 2s 2ms/step - loss: 0.7279 - categorical_accuracy: 0.7808\n",
      "Epoch 37/100\n",
      "1186/1186 [==============================] - 2s 2ms/step - loss: 0.7758 - categorical_accuracy: 0.7639\n",
      "Epoch 38/100\n",
      "1186/1186 [==============================] - 2s 2ms/step - loss: 0.7712 - categorical_accuracy: 0.7622\n",
      "Epoch 39/100\n",
      "1186/1186 [==============================] - 2s 2ms/step - loss: 0.7401 - categorical_accuracy: 0.7723\n",
      "Epoch 40/100\n",
      "1186/1186 [==============================] - 2s 2ms/step - loss: 0.7378 - categorical_accuracy: 0.7791\n",
      "Epoch 41/100\n",
      "1186/1186 [==============================] - 2s 2ms/step - loss: 0.8604 - categorical_accuracy: 0.7369\n",
      "Epoch 42/100\n",
      "1186/1186 [==============================] - 2s 2ms/step - loss: 0.8275 - categorical_accuracy: 0.7420\n",
      "Epoch 43/100\n",
      "1186/1186 [==============================] - 2s 2ms/step - loss: 0.7505 - categorical_accuracy: 0.7732\n",
      "Epoch 44/100\n",
      "1186/1186 [==============================] - 2s 2ms/step - loss: 0.6931 - categorical_accuracy: 0.7858\n",
      "Epoch 45/100\n",
      "1186/1186 [==============================] - 2s 2ms/step - loss: 0.6553 - categorical_accuracy: 0.7960\n",
      "Epoch 46/100\n",
      "1186/1186 [==============================] - 2s 2ms/step - loss: 0.6370 - categorical_accuracy: 0.8027\n",
      "Epoch 47/100\n",
      "1186/1186 [==============================] - 2s 2ms/step - loss: 0.6266 - categorical_accuracy: 0.8035\n",
      "Epoch 48/100\n",
      "1186/1186 [==============================] - 2s 2ms/step - loss: 0.6214 - categorical_accuracy: 0.8094\n",
      "Epoch 49/100\n",
      "1186/1186 [==============================] - 2s 2ms/step - loss: 0.6105 - categorical_accuracy: 0.8120\n",
      "Epoch 50/100\n",
      "1186/1186 [==============================] - 2s 2ms/step - loss: 0.6191 - categorical_accuracy: 0.8078\n",
      "Epoch 51/100\n",
      "1186/1186 [==============================] - 2s 2ms/step - loss: 0.6172 - categorical_accuracy: 0.8078\n",
      "Epoch 52/100\n",
      "1186/1186 [==============================] - 2s 2ms/step - loss: 0.8126 - categorical_accuracy: 0.7445\n",
      "Epoch 53/100\n",
      "1186/1186 [==============================] - 2s 2ms/step - loss: 0.7453 - categorical_accuracy: 0.7707\n",
      "Epoch 54/100\n",
      "1186/1186 [==============================] - 2s 2ms/step - loss: 0.6939 - categorical_accuracy: 0.7867\n",
      "Epoch 55/100\n",
      "1186/1186 [==============================] - 2s 2ms/step - loss: 0.7026 - categorical_accuracy: 0.7901\n",
      "Epoch 56/100\n",
      "1186/1186 [==============================] - 2s 2ms/step - loss: 0.6336 - categorical_accuracy: 0.8061\n",
      "Epoch 57/100\n",
      "1186/1186 [==============================] - 2s 2ms/step - loss: 0.6100 - categorical_accuracy: 0.8128\n",
      "Epoch 58/100\n",
      "1186/1186 [==============================] - 2s 2ms/step - loss: 0.6172 - categorical_accuracy: 0.8086\n",
      "Epoch 59/100\n",
      "1186/1186 [==============================] - 2s 2ms/step - loss: 0.6610 - categorical_accuracy: 0.7968\n",
      "Epoch 60/100\n",
      "1186/1186 [==============================] - 2s 2ms/step - loss: 0.6333 - categorical_accuracy: 0.8027\n",
      "Epoch 61/100\n",
      "1186/1186 [==============================] - 2s 2ms/step - loss: 0.5898 - categorical_accuracy: 0.8204\n",
      "Epoch 62/100\n",
      "1186/1186 [==============================] - 2s 2ms/step - loss: 0.5874 - categorical_accuracy: 0.8246\n",
      "Epoch 63/100\n",
      "1186/1186 [==============================] - 2s 2ms/step - loss: 0.5818 - categorical_accuracy: 0.8221\n",
      "Epoch 64/100\n",
      "1186/1186 [==============================] - 2s 2ms/step - loss: 0.5923 - categorical_accuracy: 0.8196\n",
      "Epoch 65/100\n",
      "1186/1186 [==============================] - 2s 2ms/step - loss: 0.6045 - categorical_accuracy: 0.8153\n",
      "Epoch 66/100\n",
      "1186/1186 [==============================] - 2s 2ms/step - loss: 0.7987 - categorical_accuracy: 0.7513\n",
      "Epoch 67/100\n",
      "1186/1186 [==============================] - 2s 2ms/step - loss: 0.8270 - categorical_accuracy: 0.7504\n",
      "Epoch 68/100\n",
      "1186/1186 [==============================] - 2s 2ms/step - loss: 0.6964 - categorical_accuracy: 0.7799\n",
      "Epoch 69/100\n",
      "1186/1186 [==============================] - 2s 2ms/step - loss: 0.6559 - categorical_accuracy: 0.7960\n",
      "Epoch 70/100\n",
      "1186/1186 [==============================] - 2s 2ms/step - loss: 0.6429 - categorical_accuracy: 0.8052\n",
      "Epoch 71/100\n",
      "1186/1186 [==============================] - 2s 2ms/step - loss: 0.6223 - categorical_accuracy: 0.8120\n",
      "Epoch 72/100\n",
      "1186/1186 [==============================] - 2s 2ms/step - loss: 0.6158 - categorical_accuracy: 0.8137\n",
      "Epoch 73/100\n",
      "1186/1186 [==============================] - 2s 2ms/step - loss: 0.5999 - categorical_accuracy: 0.8145\n",
      "Epoch 74/100\n",
      "1186/1186 [==============================] - 2s 2ms/step - loss: 0.5883 - categorical_accuracy: 0.8179\n",
      "Epoch 75/100\n",
      "1186/1186 [==============================] - 2s 2ms/step - loss: 0.5921 - categorical_accuracy: 0.8162\n",
      "Epoch 76/100\n",
      "1186/1186 [==============================] - 2s 2ms/step - loss: 0.5785 - categorical_accuracy: 0.8196\n",
      "Epoch 77/100\n",
      "1186/1186 [==============================] - 2s 2ms/step - loss: 0.5716 - categorical_accuracy: 0.8187\n",
      "Epoch 78/100\n",
      "1186/1186 [==============================] - 2s 2ms/step - loss: 0.5660 - categorical_accuracy: 0.8204\n",
      "Epoch 79/100\n",
      "1186/1186 [==============================] - 2s 2ms/step - loss: 0.5577 - categorical_accuracy: 0.8221\n",
      "Epoch 80/100\n",
      "1186/1186 [==============================] - 2s 2ms/step - loss: 0.5559 - categorical_accuracy: 0.8221\n",
      "Epoch 81/100\n",
      "1186/1186 [==============================] - 2s 2ms/step - loss: 0.5479 - categorical_accuracy: 0.8229\n",
      "Epoch 82/100\n",
      "1186/1186 [==============================] - 2s 2ms/step - loss: 0.5444 - categorical_accuracy: 0.8229\n",
      "Epoch 83/100\n",
      "1186/1186 [==============================] - 2s 2ms/step - loss: 0.5436 - categorical_accuracy: 0.8238\n",
      "Epoch 84/100\n",
      "1186/1186 [==============================] - 2s 2ms/step - loss: 0.5389 - categorical_accuracy: 0.8331\n",
      "Epoch 85/100\n",
      "1186/1186 [==============================] - 2s 2ms/step - loss: 0.5351 - categorical_accuracy: 0.8381\n",
      "Epoch 86/100\n",
      "1186/1186 [==============================] - 2s 2ms/step - loss: 0.5249 - categorical_accuracy: 0.8390\n",
      "Epoch 87/100\n",
      "1186/1186 [==============================] - 2s 2ms/step - loss: 0.5165 - categorical_accuracy: 0.8398\n",
      "Epoch 88/100\n",
      "1186/1186 [==============================] - 2s 2ms/step - loss: 0.5170 - categorical_accuracy: 0.8398\n",
      "Epoch 89/100\n",
      "1186/1186 [==============================] - 2s 2ms/step - loss: 0.5682 - categorical_accuracy: 0.8196\n",
      "Epoch 90/100\n",
      "1186/1186 [==============================] - 2s 2ms/step - loss: 0.8688 - categorical_accuracy: 0.7378\n",
      "Epoch 91/100\n",
      "1186/1186 [==============================] - 2s 2ms/step - loss: 0.8786 - categorical_accuracy: 0.7285\n",
      "Epoch 92/100\n",
      "1186/1186 [==============================] - 2s 2ms/step - loss: 0.7372 - categorical_accuracy: 0.7833\n",
      "Epoch 93/100\n",
      "1186/1186 [==============================] - 2s 2ms/step - loss: 0.7016 - categorical_accuracy: 0.7808\n",
      "Epoch 94/100\n",
      "1186/1186 [==============================] - 2s 2ms/step - loss: 0.6275 - categorical_accuracy: 0.8019\n",
      "Epoch 95/100\n",
      "1186/1186 [==============================] - 2s 2ms/step - loss: 0.5857 - categorical_accuracy: 0.8212\n",
      "Epoch 96/100\n",
      "1186/1186 [==============================] - 2s 2ms/step - loss: 0.5547 - categorical_accuracy: 0.8305\n",
      "Epoch 97/100\n",
      "1186/1186 [==============================] - 2s 2ms/step - loss: 0.5325 - categorical_accuracy: 0.8381\n",
      "Epoch 98/100\n",
      "1186/1186 [==============================] - 2s 2ms/step - loss: 0.5294 - categorical_accuracy: 0.8381\n",
      "Epoch 99/100\n",
      "1186/1186 [==============================] - 2s 2ms/step - loss: 0.5197 - categorical_accuracy: 0.8406\n",
      "Epoch 100/100\n",
      "1186/1186 [==============================] - 2s 2ms/step - loss: 0.5172 - categorical_accuracy: 0.8406\n"
     ]
    },
    {
     "data": {
      "text/plain": [
       "<keras.callbacks.History at 0x104141ef0>"
      ]
     },
     "execution_count": 37,
     "metadata": {},
     "output_type": "execute_result"
    }
   ],
   "source": [
    "# Fitting the ANN to the Training set\n",
    "classifier.fit(X_train, dummy_y, batch_size = 10, epochs = 100)"
   ]
  },
  {
   "cell_type": "code",
   "execution_count": 38,
   "metadata": {
    "collapsed": true
   },
   "outputs": [],
   "source": [
    "from keras.models import load_model\n",
    "classifier.save('my_model2.h5')  # creates a HDF5 file 'my_model.h5'"
   ]
  },
  {
   "cell_type": "code",
   "execution_count": 40,
   "metadata": {
    "collapsed": true
   },
   "outputs": [],
   "source": [
    "database = classifier.predict(X_train)"
   ]
  },
  {
   "cell_type": "code",
   "execution_count": 41,
   "metadata": {
    "collapsed": true
   },
   "outputs": [],
   "source": [
    "import pandas as pd \n",
    "df = pd.DataFrame(database)\n",
    "df.to_csv(\"predicted_pca.csv\")"
   ]
  },
  {
   "cell_type": "code",
   "execution_count": null,
   "metadata": {
    "collapsed": true
   },
   "outputs": [],
   "source": []
  }
 ],
 "metadata": {
  "kernelspec": {
   "display_name": "Python 3",
   "language": "python",
   "name": "python3"
  },
  "language_info": {
   "codemirror_mode": {
    "name": "ipython",
    "version": 3
   },
   "file_extension": ".py",
   "mimetype": "text/x-python",
   "name": "python",
   "nbconvert_exporter": "python",
   "pygments_lexer": "ipython3",
   "version": "3.6.3"
  }
 },
 "nbformat": 4,
 "nbformat_minor": 2
}
