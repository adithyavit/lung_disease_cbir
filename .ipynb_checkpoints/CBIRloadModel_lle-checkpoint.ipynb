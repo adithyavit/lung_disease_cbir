{
 "cells": [
  {
   "cell_type": "code",
   "execution_count": null,
   "metadata": {
    "collapsed": true
   },
   "outputs": [],
   "source": []
  },
  {
   "cell_type": "code",
   "execution_count": 92,
   "metadata": {
    "collapsed": true
   },
   "outputs": [],
   "source": [
    "# Importing the libraries\n",
    "import numpy as np\n",
    "import matplotlib.pyplot as plt\n",
    "import pandas as pd\n",
    "\n",
    "# Importing the dataset\n",
    "dataset_orb = pd.read_csv('X_orb_desc_change.csv',header = None)\n",
    "dataset_lbp = pd.read_csv('X_lbp_desc2_long.csv',header = None)"
   ]
  },
  {
   "cell_type": "code",
   "execution_count": 93,
   "metadata": {},
   "outputs": [
    {
     "data": {
      "text/plain": [
       "(1582, 500)"
      ]
     },
     "execution_count": 93,
     "metadata": {},
     "output_type": "execute_result"
    }
   ],
   "source": [
    "dataset_orb.shape"
   ]
  },
  {
   "cell_type": "code",
   "execution_count": 94,
   "metadata": {},
   "outputs": [
    {
     "data": {
      "text/plain": [
       "(1582, 1770)"
      ]
     },
     "execution_count": 94,
     "metadata": {},
     "output_type": "execute_result"
    }
   ],
   "source": [
    "dataset_lbp.shape"
   ]
  },
  {
   "cell_type": "code",
   "execution_count": 95,
   "metadata": {
    "collapsed": true
   },
   "outputs": [],
   "source": [
    "target = pd.read_csv('y_orb_ouput.csv',header = None)"
   ]
  },
  {
   "cell_type": "code",
   "execution_count": 96,
   "metadata": {
    "collapsed": true
   },
   "outputs": [],
   "source": [
    "file_paths = pd.read_csv('X_image_path_lbp2_long.csv')"
   ]
  },
  {
   "cell_type": "code",
   "execution_count": 97,
   "metadata": {},
   "outputs": [
    {
     "data": {
      "text/plain": [
       "(1582, 2)"
      ]
     },
     "execution_count": 97,
     "metadata": {},
     "output_type": "execute_result"
    }
   ],
   "source": [
    "file_paths.shape"
   ]
  },
  {
   "cell_type": "code",
   "execution_count": 98,
   "metadata": {},
   "outputs": [
    {
     "data": {
      "text/plain": [
       "'/Users/adithya/Documents/MATLAB/project/cbir_dataset/sample/images/00000030_001.png'"
      ]
     },
     "execution_count": 98,
     "metadata": {},
     "output_type": "execute_result"
    }
   ],
   "source": [
    "file_paths['0'][0]"
   ]
  },
  {
   "cell_type": "code",
   "execution_count": 99,
   "metadata": {
    "collapsed": true
   },
   "outputs": [],
   "source": [
    "X_orb = dataset_orb\n",
    "X_lbp = dataset_lbp\n",
    "y = target\n",
    "\n",
    "# Splitting the dataset into the Training set and Test set\n",
    "from sklearn.cross_validation import train_test_split\n",
    "X_train_orb, X_test_orb, y_train, y_test = train_test_split(X_orb, y, test_size = 0.25, random_state = 0)\n",
    "X_train_lbp, X_test_lbp, y_train, y_test = train_test_split(X_lbp, y, test_size = 0.25, random_state = 0)\n",
    "\n",
    "# Feature Scaling\n",
    "from sklearn.preprocessing import StandardScaler\n",
    "sc = StandardScaler()\n",
    "X_train_orb = sc.fit_transform(X_train_orb)\n",
    "X_test_orb = sc.transform(X_test_orb)\n",
    "X_train_lbp = sc.fit_transform(X_train_lbp)\n",
    "X_test_lbp = sc.transform(X_test_lbp)"
   ]
  },
  {
   "cell_type": "code",
   "execution_count": 100,
   "metadata": {
    "collapsed": true
   },
   "outputs": [],
   "source": [
    "file_paths_train, file_paths_test = train_test_split(file_paths, test_size = 0.25, random_state = 0)"
   ]
  },
  {
   "cell_type": "code",
   "execution_count": 101,
   "metadata": {},
   "outputs": [
    {
     "data": {
      "text/plain": [
       "(1186, 2)"
      ]
     },
     "execution_count": 101,
     "metadata": {},
     "output_type": "execute_result"
    }
   ],
   "source": [
    "file_paths_train.shape"
   ]
  },
  {
   "cell_type": "code",
   "execution_count": 102,
   "metadata": {
    "collapsed": true
   },
   "outputs": [],
   "source": [
    "X_train = np.hstack((X_train_orb,X_train_lbp))\n",
    "X_test = np.hstack((X_test_orb,X_test_lbp))"
   ]
  },
  {
   "cell_type": "code",
   "execution_count": 103,
   "metadata": {
    "collapsed": true
   },
   "outputs": [],
   "source": [
    "# Applying LLE\n",
    "#from sklearn.decomposition import PCA\n",
    "from sklearn import manifold\n",
    "lle_orb = manifold.LocallyLinearEmbedding(n_neighbors = 16, n_components=500,\n",
    "                                      method='standard')\n",
    "lle_lbp = manifold.LocallyLinearEmbedding(n_neighbors = 16, n_components=500,\n",
    "                                      method='standard')\n",
    "#pca_orb = PCA(n_components = 500)\n",
    "#pca_lbp = PCA(n_components = 500)\n",
    "#pca_total = PCA()\n",
    "X_train_orb = lle_orb.fit_transform(X_train_orb)\n",
    "X_train_lbp = lle_lbp.fit_transform(X_train_lbp)\n",
    "#pca = PCA(n_components = None)\n",
    "#X_train = pca_total.fit_transform(X_train)\n",
    "#X_test = pca_total.transform(X_test)\n",
    "#explained_variance = pca.explained_va"
   ]
  },
  {
   "cell_type": "code",
   "execution_count": 104,
   "metadata": {
    "collapsed": true
   },
   "outputs": [],
   "source": [
    "from sklearn.preprocessing import OneHotEncoder\n",
    "from numpy import array\n",
    "from numpy import argmax\n",
    "import numpy\n",
    "from sklearn.preprocessing import LabelEncoder\n",
    "label_encoder = LabelEncoder()\n",
    "integer_encoded = label_encoder.fit_transform(y_train.values.ravel())"
   ]
  },
  {
   "cell_type": "code",
   "execution_count": 105,
   "metadata": {
    "collapsed": true
   },
   "outputs": [],
   "source": [
    "from keras.utils import np_utils\n",
    "categorical_train = np_utils.to_categorical(integer_encoded)"
   ]
  },
  {
   "cell_type": "code",
   "execution_count": 106,
   "metadata": {
    "collapsed": true
   },
   "outputs": [],
   "source": [
    "label_encoder = LabelEncoder()\n",
    "integer_encoded_test = label_encoder.fit_transform(y_test.values.ravel())"
   ]
  },
  {
   "cell_type": "code",
   "execution_count": 107,
   "metadata": {
    "collapsed": true
   },
   "outputs": [],
   "source": [
    "categorical_encoded_test = np_utils.to_categorical(integer_encoded_test)"
   ]
  },
  {
   "cell_type": "code",
   "execution_count": 108,
   "metadata": {
    "collapsed": true
   },
   "outputs": [],
   "source": [
    "# encode class values as integers\n",
    "from keras.utils import np_utils\n",
    "encoder = LabelEncoder()\n",
    "encoder.fit(integer_encoded)\n",
    "encoded_Y = encoder.transform(integer_encoded)\n",
    "# convert integers to dummy variables (i.e. one hot encoded)\n",
    "dummy_y = np_utils.to_categorical(encoded_Y)"
   ]
  },
  {
   "cell_type": "code",
   "execution_count": 109,
   "metadata": {
    "collapsed": true
   },
   "outputs": [],
   "source": [
    "from keras.utils import np_utils\n",
    "encoder_test = LabelEncoder()\n",
    "encoder_test.fit(integer_encoded_test)\n",
    "encoded_Y_test = encoder_test.transform(integer_encoded_test)\n",
    "# convert integers to dummy variables (i.e. one hot encoded)\n",
    "dummy_y_test = np_utils.to_categorical(encoded_Y_test)"
   ]
  },
  {
   "cell_type": "code",
   "execution_count": 110,
   "metadata": {
    "collapsed": true
   },
   "outputs": [],
   "source": [
    "from keras.models import load_model\n",
    "model = load_model('my_model2a_lle.h5')"
   ]
  },
  {
   "cell_type": "code",
   "execution_count": 114,
   "metadata": {
    "collapsed": true
   },
   "outputs": [],
   "source": [
    "import opencv\n",
    "# To performing path manipulations \n",
    "import os\n",
    "# Local Binary Pattern function\n",
    "from skimage.feature import local_binary_pattern\n",
    "# To calculate a normalized histogram \n",
    "from scipy.stats import itemfreq\n",
    "\n",
    "from sklearn.preprocessing import normalize\n",
    "# Utility package -- use pip install cvutils to install\n",
    "import cvutils\n",
    "# To read class from file\n",
    "import csv\n",
    "import scipy\n",
    "import cv2"
   ]
  },
  {
   "cell_type": "code",
   "execution_count": 115,
   "metadata": {
    "collapsed": true
   },
   "outputs": [],
   "source": [
    "rows = 1024\n",
    "columns = 1024\n",
    "r4 = int(rows/4)\n",
    "c4 = int(columns/4)\n",
    "r3 = int(rows/3)\n",
    "c3 = int(columns/3)\n",
    "r2 = int(rows/2)\n",
    "c2 = int(columns/2)\n",
    "r1 = rows\n",
    "c1 = columns\n",
    "import numpy as np\n",
    "from skimage.io import imread\n",
    "input_image = 'images/00025464_000.png'\n",
    "im = imread(input_image)\n",
    "if(im.shape == (1024,1024)):\n",
    "    im_gray = im\n",
    "else:\n",
    "    im_gray = cv2.cvtColor(im, cv2.COLOR_BGR2GRAY)\n",
    "    \n",
    "image111 = im_gray\n",
    "image221=im_gray[0:r2,0:c2]\n",
    "image222=im_gray[0:r2,c2+0:2*c2]\n",
    "image223=im_gray[r2+0:2*r2,0:c2]\n",
    "image224=im_gray[r2+0:2*r2,c2+0:2*c2]\n",
    "image331 = im_gray[0:r3, 0:c3]\n",
    "image332 = im_gray[0:r3, c3+0:2*c3]\n",
    "image333 = im_gray[0:r3, 2*c3+0:3*c3+1]\n",
    "image334 = im_gray[r3+0:2*r3, 0:c3]\n",
    "image335 = im_gray[r3+0:2*r3, c3+0:2*c3]\n",
    "image336 = im_gray[r3+0:2*r3, 2*c3+0:3*c3+1]\n",
    "image337 = im_gray[2*r3+0:3*r3+1, 0:c3]\n",
    "image338 = im_gray[2*r3+0:3*r3+1, c3+0:2*c3]\n",
    "image339 = im_gray[2*r3+0:3*r3+1, 2*c3+0:3*c3+1]\n",
    "image441 = im_gray[0:r4, 0:c4]\n",
    "image442 = im_gray[0:r4, c4+0:2*c4]\n",
    "image443 = im_gray[0:r4, 2*c4+0:3*c4]\n",
    "image444 = im_gray[0:r4, 3*c4+0:4*c4]\n",
    "image445 = im_gray[r4+0:2*r4, 0:c4]\n",
    "image446 = im_gray[r4+0:2*r4, c4+0:2*c4]\n",
    "image447 = im_gray[r4+0:2*r4, 2*c4+0:3*c4]\n",
    "image448 = im_gray[r4+0:2*r4, 3*c4+0:4*c4]\n",
    "image449 = im_gray[2*r4+0:3*r4, 0:c4]\n",
    "image4410 = im_gray[2*r4+0:3*r4, c4+0:2*c4]\n",
    "image4411 = im_gray[2*r4+0:3*r4, 2*c4+0:3*c4]\n",
    "image4412 = im_gray[2*r4+0:3*r4, 3*c4+0:4*c4]\n",
    "image4413 = im_gray[3*r4+0:4*r4, 0:c4]\n",
    "image4414 = im_gray[3*r4+0:4*r4, c4+0:2*c4]\n",
    "image4415 = im_gray[3*r4+0:4*r4, 2*c4+0:3*c4]\n",
    "image4416 = im_gray[3*r4+0:4*r4, 3*c4+0:4*c4]\n",
    "\n",
    "lbp_image111=local_binary_pattern(image111,8,1,method='nri_uniform')\n",
    "histogram111=scipy.stats.itemfreq(lbp_image111)\n",
    "lbp_image221=local_binary_pattern(image221,8,1,method='nri_uniform')\n",
    "histogram221=scipy.stats.itemfreq(lbp_image221)\n",
    "lbp_image222=local_binary_pattern(image222,8,1,method='nri_uniform')\n",
    "histogram222=scipy.stats.itemfreq(lbp_image222)\n",
    "lbp_image223=local_binary_pattern(image223,8,1,method='nri_uniform')\n",
    "histogram223=scipy.stats.itemfreq(lbp_image223)\n",
    "lbp_image224=local_binary_pattern(image224,8,1,method='nri_uniform')\n",
    "histogram224=scipy.stats.itemfreq(lbp_image224)\n",
    "lbp_image331=local_binary_pattern(image331,8,1,method='nri_uniform')\n",
    "histogram331=scipy.stats.itemfreq(lbp_image331)\n",
    "lbp_image332=local_binary_pattern(image332,8,1,method='nri_uniform')\n",
    "histogram332=scipy.stats.itemfreq(lbp_image332)\n",
    "lbp_image333=local_binary_pattern(image333,8,1,method='nri_uniform')\n",
    "histogram333=scipy.stats.itemfreq(lbp_image333)\n",
    "lbp_image334=local_binary_pattern(image334,8,1,method='nri_uniform')\n",
    "histogram334=scipy.stats.itemfreq(lbp_image334)\n",
    "lbp_image335=local_binary_pattern(image335,8,1,method='nri_uniform')\n",
    "histogram335=scipy.stats.itemfreq(lbp_image335)\n",
    "lbp_image336=local_binary_pattern(image336,8,1,method='nri_uniform')\n",
    "histogram336=scipy.stats.itemfreq(lbp_image336)\n",
    "lbp_image337=local_binary_pattern(image337,8,1,method='nri_uniform')\n",
    "histogram337=scipy.stats.itemfreq(lbp_image337)\n",
    "lbp_image338=local_binary_pattern(image338,8,1,method='nri_uniform')\n",
    "histogram338=scipy.stats.itemfreq(lbp_image338)\n",
    "lbp_image339=local_binary_pattern(image339,8,1,method='nri_uniform')\n",
    "histogram339=scipy.stats.itemfreq(lbp_image339)\n",
    "lbp_image441=local_binary_pattern(image441,8,1,method='nri_uniform')\n",
    "histogram441=scipy.stats.itemfreq(lbp_image441)\n",
    "lbp_image442=local_binary_pattern(image442,8,1,method='nri_uniform')\n",
    "histogram442=scipy.stats.itemfreq(lbp_image442)\n",
    "lbp_image443=local_binary_pattern(image443,8,1,method='nri_uniform')\n",
    "histogram443=scipy.stats.itemfreq(lbp_image443)\n",
    "lbp_image444=local_binary_pattern(image444,8,1,method='nri_uniform')\n",
    "histogram444=scipy.stats.itemfreq(lbp_image444)\n",
    "lbp_image445=local_binary_pattern(image445,8,1,method='nri_uniform')\n",
    "histogram445=scipy.stats.itemfreq(lbp_image445)\n",
    "lbp_image446=local_binary_pattern(image446,8,1,method='nri_uniform')\n",
    "histogram446=scipy.stats.itemfreq(lbp_image446)\n",
    "lbp_image447=local_binary_pattern(image447,8,1,method='nri_uniform')\n",
    "histogram447=scipy.stats.itemfreq(lbp_image447)\n",
    "lbp_image448=local_binary_pattern(image448,8,1,method='nri_uniform')\n",
    "histogram448=scipy.stats.itemfreq(lbp_image448)\n",
    "lbp_image449=local_binary_pattern(image449,8,1,method='nri_uniform')\n",
    "histogram449=scipy.stats.itemfreq(lbp_image449)\n",
    "lbp_image4410=local_binary_pattern(image4410,8,1,method='nri_uniform')\n",
    "histogram4410=scipy.stats.itemfreq(lbp_image4410)\n",
    "lbp_image4411=local_binary_pattern(image4411,8,1,method='nri_uniform')\n",
    "histogram4411=scipy.stats.itemfreq(lbp_image4411)\n",
    "lbp_image4412=local_binary_pattern(image4412,8,1,method='nri_uniform')\n",
    "histogram4412=scipy.stats.itemfreq(lbp_image4412)\n",
    "lbp_image4413=local_binary_pattern(image4413,8,1,method='nri_uniform')\n",
    "histogram4413=scipy.stats.itemfreq(lbp_image4413)\n",
    "lbp_image4414=local_binary_pattern(image4414,8,1,method='nri_uniform')\n",
    "histogram4414=scipy.stats.itemfreq(lbp_image4414)\n",
    "lbp_image4415=local_binary_pattern(image4415,8,1,method='nri_uniform')\n",
    "histogram4415=scipy.stats.itemfreq(lbp_image4415)\n",
    "lbp_image4416=local_binary_pattern(image4416,8,1,method='nri_uniform')\n",
    "histogram4416=scipy.stats.itemfreq(lbp_image4416)\n",
    "histogram = np.vstack((histogram111,histogram221,histogram222,histogram223,histogram224,histogram331,histogram332,histogram333,histogram334,histogram335,histogram336,histogram337,histogram338,histogram339,histogram441,histogram442,histogram443,histogram444,histogram445,histogram446,histogram447,histogram448,histogram449,histogram4410,histogram4411,histogram4412,histogram4413,histogram4414,histogram4415,histogram4416))\n",
    "hist = histogram[:, 1]/sum(histogram[:, 1])"
   ]
  },
  {
   "cell_type": "code",
   "execution_count": 116,
   "metadata": {
    "collapsed": true
   },
   "outputs": [],
   "source": [
    "# Initiate STAR detector\n",
    "orb = cv2.ORB_create()\n",
    "# find the keypoints with ORB\n",
    "kp = orb.detect(im_gray,None)\n",
    "# compute the descriptors with ORB\n",
    "kp, x = orb.compute(im_gray, kp)#here x is the descriptor\n",
    "x2 = x.ravel()\n",
    "# Normalize the histogram\n",
    "x3 = x[:, 1]/sum(x[:, 1])\n",
    "\n",
    "hist = hist.reshape(-1,1)\n"
   ]
  },
  {
   "cell_type": "code",
   "execution_count": 117,
   "metadata": {},
   "outputs": [
    {
     "data": {
      "text/plain": [
       "(204,)"
      ]
     },
     "execution_count": 117,
     "metadata": {},
     "output_type": "execute_result"
    }
   ],
   "source": [
    "x3.shape"
   ]
  },
  {
   "cell_type": "code",
   "execution_count": 118,
   "metadata": {
    "collapsed": true
   },
   "outputs": [],
   "source": [
    "N = 500-(x3.shape)[0]\n",
    "x3= np.pad(x3, (0, N), 'constant')\n",
    "x3 = x3.reshape(-1,1)"
   ]
  },
  {
   "cell_type": "code",
   "execution_count": 119,
   "metadata": {},
   "outputs": [
    {
     "data": {
      "text/plain": [
       "(500, 1)"
      ]
     },
     "execution_count": 119,
     "metadata": {},
     "output_type": "execute_result"
    }
   ],
   "source": [
    "x3.shape"
   ]
  },
  {
   "cell_type": "code",
   "execution_count": 120,
   "metadata": {},
   "outputs": [
    {
     "data": {
      "text/plain": [
       "(1770, 1)"
      ]
     },
     "execution_count": 120,
     "metadata": {},
     "output_type": "execute_result"
    }
   ],
   "source": [
    "hist.shape"
   ]
  },
  {
   "cell_type": "code",
   "execution_count": 121,
   "metadata": {
    "collapsed": true
   },
   "outputs": [],
   "source": [
    "x3 = x3.T\n",
    "hist = hist.T"
   ]
  },
  {
   "cell_type": "code",
   "execution_count": 122,
   "metadata": {
    "collapsed": true
   },
   "outputs": [],
   "source": [
    "input_image_orb = lle_orb.transform(x3)\n",
    "input_image_lbp = lle_lbp.transform(hist)"
   ]
  },
  {
   "cell_type": "code",
   "execution_count": 123,
   "metadata": {},
   "outputs": [
    {
     "data": {
      "text/plain": [
       "(1, 500)"
      ]
     },
     "execution_count": 123,
     "metadata": {},
     "output_type": "execute_result"
    }
   ],
   "source": [
    "input_image_orb.shape"
   ]
  },
  {
   "cell_type": "code",
   "execution_count": 124,
   "metadata": {},
   "outputs": [
    {
     "data": {
      "text/plain": [
       "(1, 500)"
      ]
     },
     "execution_count": 124,
     "metadata": {},
     "output_type": "execute_result"
    }
   ],
   "source": [
    "input_image_lbp.shape"
   ]
  },
  {
   "cell_type": "code",
   "execution_count": 129,
   "metadata": {
    "collapsed": true
   },
   "outputs": [],
   "source": [
    "total = np.hstack((input_image_orb,input_image_lbp))"
   ]
  },
  {
   "cell_type": "code",
   "execution_count": 130,
   "metadata": {},
   "outputs": [
    {
     "data": {
      "text/plain": [
       "(1, 1000)"
      ]
     },
     "execution_count": 130,
     "metadata": {},
     "output_type": "execute_result"
    }
   ],
   "source": [
    "total.shape"
   ]
  },
  {
   "cell_type": "code",
   "execution_count": 131,
   "metadata": {
    "collapsed": true
   },
   "outputs": [],
   "source": [
    "new_pred = model.predict(total)"
   ]
  },
  {
   "cell_type": "code",
   "execution_count": 132,
   "metadata": {},
   "outputs": [
    {
     "data": {
      "text/plain": [
       "array([[0.13809866, 0.02014059, 0.02862502, 0.0213576 , 0.12814921,\n",
       "        0.01179492, 0.01677737, 0.00110217, 0.33712146, 0.06057963,\n",
       "        0.11977926, 0.02672552, 0.00407677, 0.08567192]], dtype=float32)"
      ]
     },
     "execution_count": 132,
     "metadata": {},
     "output_type": "execute_result"
    }
   ],
   "source": [
    "new_pred"
   ]
  },
  {
   "cell_type": "code",
   "execution_count": 133,
   "metadata": {
    "collapsed": true
   },
   "outputs": [],
   "source": [
    "import numpy as np\n",
    "arg = np.argmax(new_pred)"
   ]
  },
  {
   "cell_type": "code",
   "execution_count": 134,
   "metadata": {},
   "outputs": [
    {
     "data": {
      "text/plain": [
       "8"
      ]
     },
     "execution_count": 134,
     "metadata": {},
     "output_type": "execute_result"
    }
   ],
   "source": [
    "arg"
   ]
  },
  {
   "cell_type": "code",
   "execution_count": 135,
   "metadata": {
    "collapsed": true
   },
   "outputs": [],
   "source": [
    "inp_ans = new_pred[0][arg]"
   ]
  },
  {
   "cell_type": "code",
   "execution_count": 136,
   "metadata": {},
   "outputs": [
    {
     "data": {
      "text/plain": [
       "0.33712146"
      ]
     },
     "execution_count": 136,
     "metadata": {},
     "output_type": "execute_result"
    }
   ],
   "source": [
    "inp_ans"
   ]
  },
  {
   "cell_type": "code",
   "execution_count": 137,
   "metadata": {
    "collapsed": true
   },
   "outputs": [],
   "source": [
    "predicted = pd.read_csv('predicted_lle.csv')"
   ]
  },
  {
   "cell_type": "code",
   "execution_count": 138,
   "metadata": {},
   "outputs": [
    {
     "data": {
      "text/plain": [
       "(1186, 15)"
      ]
     },
     "execution_count": 138,
     "metadata": {},
     "output_type": "execute_result"
    }
   ],
   "source": [
    "predicted.shape"
   ]
  },
  {
   "cell_type": "code",
   "execution_count": 139,
   "metadata": {
    "collapsed": true
   },
   "outputs": [],
   "source": [
    "fin = []\n",
    "for i in range(0,1186):\n",
    "    ans = predicted[str(np.argmax(new_pred))][i]\n",
    "    fin.append(abs(inp_ans-ans))"
   ]
  },
  {
   "cell_type": "code",
   "execution_count": 140,
   "metadata": {},
   "outputs": [
    {
     "data": {
      "text/plain": [
       "[2.6861495971974847e-08,\n",
       " 5.686149595618417e-08,\n",
       " 5.686149595618417e-08,\n",
       " 1.7686149594853262e-07,\n",
       " 5.686149595618417e-08,\n",
       " 5.686149595618417e-08,\n",
       " 5.686149595618417e-08,\n",
       " 5.686149595618417e-08,\n",
       " 5.686149595618417e-08,\n",
       " 0.32204406486149595,\n",
       " 5.686149595618417e-08,\n",
       " 5.686149595618417e-08,\n",
       " 5.686149595618417e-08,\n",
       " 5.686149595618417e-08,\n",
       " 5.686149595618417e-08,\n",
       " 5.686149595618417e-08,\n",
       " 5.686149595618417e-08,\n",
       " 5.686149595618417e-08,\n",
       " 2.6861495971974847e-08,\n",
       " 5.686149595618417e-08,\n",
       " 5.686149595618417e-08,\n",
       " 5.686149595618417e-08,\n",
       " 5.686149595618417e-08,\n",
       " 5.686149595618417e-08,\n",
       " 5.686149595618417e-08,\n",
       " 0.322044177861496,\n",
       " 5.686149595618417e-08,\n",
       " 5.686149595618417e-08,\n",
       " 5.686149595618417e-08,\n",
       " 5.686149595618417e-08,\n",
       " 5.686149595618417e-08,\n",
       " 5.686149595618417e-08,\n",
       " 5.686149595618417e-08,\n",
       " 5.686149595618417e-08,\n",
       " 5.686149595618417e-08,\n",
       " 5.686149595618417e-08,\n",
       " 0.322044190861496,\n",
       " 5.686149595618417e-08,\n",
       " 2.568614959619353e-07,\n",
       " 5.686149595618417e-08,\n",
       " 5.56861495970562e-07,\n",
       " 5.686149595618417e-08,\n",
       " 5.686149595618417e-08,\n",
       " 5.686149595618417e-08,\n",
       " 5.686149595618417e-08,\n",
       " 5.686149595618417e-08,\n",
       " 5.686149595618417e-08,\n",
       " 5.686149595618417e-08,\n",
       " 5.686149595618417e-08,\n",
       " 5.686149595618417e-08,\n",
       " 5.686149595618417e-08,\n",
       " 5.686149595618417e-08,\n",
       " 5.686149595618417e-08,\n",
       " 5.686149595618417e-08,\n",
       " 5.686149595618417e-08,\n",
       " 3.1385040122344776e-09,\n",
       " 5.686149595618417e-08,\n",
       " 5.686149595618417e-08,\n",
       " 5.686149595618417e-08,\n",
       " 5.686149595618417e-08,\n",
       " 5.686149595618417e-08,\n",
       " 3.868614959490202e-07,\n",
       " 5.686149595618417e-08,\n",
       " 5.686149595618417e-08,\n",
       " 5.686149595618417e-08,\n",
       " 5.686149595618417e-08,\n",
       " 5.686149595618417e-08,\n",
       " 5.006861495959747e-06,\n",
       " 5.686149595618417e-08,\n",
       " 5.686149595618417e-08,\n",
       " 5.686149595618417e-08,\n",
       " 5.686149595618417e-08,\n",
       " 1.7686149594853262e-07,\n",
       " 0.322044122861496,\n",
       " 5.686149595618417e-08,\n",
       " 1.1686149598011397e-07,\n",
       " 5.686149595618417e-08,\n",
       " 5.686149595618417e-08,\n",
       " 5.686149595618417e-08,\n",
       " 5.686149595618417e-08,\n",
       " 5.686149595618417e-08,\n",
       " 5.686149595618417e-08,\n",
       " 5.686149595618417e-08,\n",
       " 5.686149595618417e-08,\n",
       " 5.686149595618417e-08,\n",
       " 0.322044190861496,\n",
       " 5.686149595618417e-08,\n",
       " 5.686149595618417e-08,\n",
       " 5.686149595618417e-08,\n",
       " 5.686149595618417e-08,\n",
       " 5.686149595618417e-08,\n",
       " 5.686149595618417e-08,\n",
       " 0.32204418586149597,\n",
       " 5.686149595618417e-08,\n",
       " 0.32204417986149597,\n",
       " 1.7686149594853262e-07,\n",
       " 5.686149595618417e-08,\n",
       " 3.868614959490202e-07,\n",
       " 5.686149595618417e-08,\n",
       " 5.686149595618417e-08,\n",
       " 5.686149595618417e-08,\n",
       " 5.686149595618417e-08,\n",
       " 5.686149595618417e-08,\n",
       " 5.686149595618417e-08,\n",
       " 5.686149595618417e-08,\n",
       " 5.686149595618417e-08,\n",
       " 5.686149595618417e-08,\n",
       " 1.1686149598011397e-07,\n",
       " 5.686149595618417e-08,\n",
       " 5.686149595618417e-08,\n",
       " 5.686149595618417e-08,\n",
       " 5.686149595618417e-08,\n",
       " 5.686149595618417e-08,\n",
       " 5.686149595618417e-08,\n",
       " 5.686149595618417e-08,\n",
       " 2.6861495971974847e-08,\n",
       " 0.32204419786149596,\n",
       " 5.686149595618417e-08,\n",
       " 5.686149595618417e-08,\n",
       " 0.32204418186149597,\n",
       " 5.686149595618417e-08,\n",
       " 5.686149595618417e-08,\n",
       " 5.686149595618417e-08,\n",
       " 0.322043590861496,\n",
       " 5.686149595618417e-08,\n",
       " 5.686149595618417e-08,\n",
       " 5.686149595618417e-08,\n",
       " 5.686149595618417e-08,\n",
       " 5.686149595618417e-08,\n",
       " 5.686149595618417e-08,\n",
       " 5.686149595618417e-08,\n",
       " 5.686149595618417e-08,\n",
       " 1.1686149598011397e-07,\n",
       " 5.686149595618417e-08,\n",
       " 5.686149595618417e-08,\n",
       " 5.686149595618417e-08,\n",
       " 5.686149595618417e-08,\n",
       " 5.686149595618417e-08,\n",
       " 5.686149595618417e-08,\n",
       " 2.6861495971974847e-08,\n",
       " 5.686149595618417e-08,\n",
       " 0.322044190861496,\n",
       " 0.322044098861496,\n",
       " 0.322044190861496,\n",
       " 5.686149595618417e-08,\n",
       " 5.686149595618417e-08,\n",
       " 5.686149595618417e-08,\n",
       " 5.686149595618417e-08,\n",
       " 5.686149595618417e-08,\n",
       " 5.686149595618417e-08,\n",
       " 5.686149595618417e-08,\n",
       " 0.32204419786149596,\n",
       " 5.686149595618417e-08,\n",
       " 0.322044190861496,\n",
       " 5.686149595618417e-08,\n",
       " 1.106861495958622e-06,\n",
       " 5.686149595618417e-08,\n",
       " 6.868614959576469e-07,\n",
       " 5.686149595618417e-08,\n",
       " 5.686149595618417e-08,\n",
       " 5.686149595618417e-08,\n",
       " 5.686149595618417e-08,\n",
       " 5.686149595618417e-08,\n",
       " 0.32204419786149596,\n",
       " 5.686149595618417e-08,\n",
       " 5.686149595618417e-08,\n",
       " 5.686149595618417e-08,\n",
       " 5.686149595618417e-08,\n",
       " 5.686149595618417e-08,\n",
       " 5.686149595618417e-08,\n",
       " 5.686149595618417e-08,\n",
       " 5.686149595618417e-08,\n",
       " 5.686149595618417e-08,\n",
       " 1.1686149598011397e-07,\n",
       " 5.686149595618417e-08,\n",
       " 5.686149595618417e-08,\n",
       " 5.686149595618417e-08,\n",
       " 5.686149595618417e-08,\n",
       " 5.686149595618417e-08,\n",
       " 1.7686149594853262e-07,\n",
       " 5.686149595618417e-08,\n",
       " 5.686149595618417e-08,\n",
       " 2.6861495971974847e-08,\n",
       " 0.322044186861496,\n",
       " 5.686149595618417e-08,\n",
       " 5.686149595618417e-08,\n",
       " 5.686149595618417e-08,\n",
       " 5.686149595618417e-08,\n",
       " 5.686149595618417e-08,\n",
       " 1.1686149598011397e-07,\n",
       " 0.32204416286149595,\n",
       " 5.686149595618417e-08,\n",
       " 5.686149595618417e-08,\n",
       " 5.686149595618417e-08,\n",
       " 5.686149595618417e-08,\n",
       " 5.686149595618417e-08,\n",
       " 0.322044084861496,\n",
       " 2.6861495971974847e-08,\n",
       " 5.686149595618417e-08,\n",
       " 5.686149595618417e-08,\n",
       " 5.686149595618417e-08,\n",
       " 0.322044161861496,\n",
       " 1.1686149598011397e-07,\n",
       " 5.686149595618417e-08,\n",
       " 5.686149595618417e-08,\n",
       " 1.9068614959816266e-06,\n",
       " 5.686149595618417e-08,\n",
       " 5.686149595618417e-08,\n",
       " 5.686149595618417e-08,\n",
       " 5.686149595618417e-08,\n",
       " 5.686149595618417e-08,\n",
       " 5.686149595618417e-08,\n",
       " 0.32204418186149597,\n",
       " 5.686149595618417e-08,\n",
       " 1.7686149594853262e-07,\n",
       " 5.686149595618417e-08,\n",
       " 5.686149595618417e-08,\n",
       " 5.686149595618417e-08,\n",
       " 2.6861495971974847e-08,\n",
       " 5.686149595618417e-08,\n",
       " 5.686149595618417e-08,\n",
       " 5.686149595618417e-08,\n",
       " 5.686149595618417e-08,\n",
       " 5.686149595618417e-08,\n",
       " 5.686149595618417e-08,\n",
       " 5.686149595618417e-08,\n",
       " 0.322043968861496,\n",
       " 5.686149595618417e-08,\n",
       " 5.686149595618417e-08,\n",
       " 5.686149595618417e-08,\n",
       " 5.686149595618417e-08,\n",
       " 5.686149595618417e-08,\n",
       " 5.686149595618417e-08,\n",
       " 5.686149595618417e-08,\n",
       " 5.686149595618417e-08,\n",
       " 5.686149595618417e-08,\n",
       " 5.686149595618417e-08,\n",
       " 5.686149595618417e-08,\n",
       " 5.686149595618417e-08,\n",
       " 5.686149595618417e-08,\n",
       " 0.322044147861496,\n",
       " 5.686149595618417e-08,\n",
       " 5.686149595618417e-08,\n",
       " 5.686149595618417e-08,\n",
       " 5.686149595618417e-08,\n",
       " 5.686149595618417e-08,\n",
       " 0.32204418586149597,\n",
       " 5.686149595618417e-08,\n",
       " 5.686149595618417e-08,\n",
       " 5.686149595618417e-08,\n",
       " 5.686149595618417e-08,\n",
       " 5.686149595618417e-08,\n",
       " 0.322044143861496,\n",
       " 5.686149595618417e-08,\n",
       " 0.32204403486149596,\n",
       " 5.686149595618417e-08,\n",
       " 5.686149595618417e-08,\n",
       " 5.686149595618417e-08,\n",
       " 0.32204359386149595,\n",
       " 5.686149595618417e-08,\n",
       " 3.868614959490202e-07,\n",
       " 5.686149595618417e-08,\n",
       " 5.686149595618417e-08,\n",
       " 0.322044188861496,\n",
       " 5.686149595618417e-08,\n",
       " 5.686149595618417e-08,\n",
       " 0.322007045861496,\n",
       " 5.686149595618417e-08,\n",
       " 5.686149595618417e-08,\n",
       " 5.686149595618417e-08,\n",
       " 5.686149595618417e-08,\n",
       " 5.686149595618417e-08,\n",
       " 5.686149595618417e-08,\n",
       " 5.686149595618417e-08,\n",
       " 5.686149595618417e-08,\n",
       " 0.322043776861496,\n",
       " 5.686149595618417e-08,\n",
       " 5.686149595618417e-08,\n",
       " 5.686149595618417e-08,\n",
       " 5.686149595618417e-08,\n",
       " 5.686149595618417e-08,\n",
       " 5.686149595618417e-08,\n",
       " 5.686149595618417e-08,\n",
       " 0.32204418186149597,\n",
       " 5.686149595618417e-08,\n",
       " 5.686149595618417e-08,\n",
       " 5.686149595618417e-08,\n",
       " 6.568614959734376e-07,\n",
       " 5.686149595618417e-08,\n",
       " 5.686149595618417e-08,\n",
       " 5.686149595618417e-08,\n",
       " 5.686149595618417e-08,\n",
       " 5.686149595618417e-08,\n",
       " 5.686149595618417e-08,\n",
       " 0.322043762861496,\n",
       " 5.686149595618417e-08,\n",
       " 0.322044112861496,\n",
       " 5.686149595618417e-08,\n",
       " 1.7686149594853262e-07,\n",
       " 2.568614959619353e-07,\n",
       " 2.6861495971974847e-08,\n",
       " 2.6861495971974847e-08,\n",
       " 5.686149595618417e-08,\n",
       " 5.686149595618417e-08,\n",
       " 0.32204418586149597,\n",
       " 5.686149595618417e-08,\n",
       " 0.322044186861496,\n",
       " 5.686149595618417e-08,\n",
       " 0.322044145861496,\n",
       " 5.686149595618417e-08,\n",
       " 5.686149595618417e-08,\n",
       " 3.2686149598060155e-07,\n",
       " 5.686149595618417e-08,\n",
       " 5.686149595618417e-08,\n",
       " 2.6861495971974847e-08,\n",
       " 5.686149595618417e-08,\n",
       " 5.686149595618417e-08,\n",
       " 5.686149595618417e-08,\n",
       " 5.686149595618417e-08,\n",
       " 5.686149595618417e-08,\n",
       " 5.686149595618417e-08,\n",
       " 5.686149595618417e-08,\n",
       " 1.3756861495961559e-05,\n",
       " 5.686149595618417e-08,\n",
       " 5.686149595618417e-08,\n",
       " 5.686149595618417e-08,\n",
       " 5.686149595618417e-08,\n",
       " 1.1686149598011397e-07,\n",
       " 5.686149595618417e-08,\n",
       " 0.322044199361496,\n",
       " 5.686149595618417e-08,\n",
       " 5.686149595618417e-08,\n",
       " 5.686149595618417e-08,\n",
       " 5.686149595618417e-08,\n",
       " 0.32204415886149595,\n",
       " 5.686149595618417e-08,\n",
       " 5.686149595618417e-08,\n",
       " 5.686149595618417e-08,\n",
       " 5.686149595618417e-08,\n",
       " 5.686149595618417e-08,\n",
       " 5.686149595618417e-08,\n",
       " 5.686149595618417e-08,\n",
       " 5.686149595618417e-08,\n",
       " 5.686149595618417e-08,\n",
       " 5.686149595618417e-08,\n",
       " 5.686149595618417e-08,\n",
       " 0.322043249361496,\n",
       " 5.686149595618417e-08,\n",
       " 5.686149595618417e-08,\n",
       " 5.686149595618417e-08,\n",
       " 1.7686149594853262e-07,\n",
       " 5.686149595618417e-08,\n",
       " 5.686149595618417e-08,\n",
       " 1.2256861495973936e-05,\n",
       " 0.32203821386149595,\n",
       " 0.32204418586149597,\n",
       " 5.686149595618417e-08,\n",
       " 0.322044090861496,\n",
       " 5.686149595618417e-08,\n",
       " 5.686149595618417e-08,\n",
       " 5.686149595618417e-08,\n",
       " 0.32204419386149596,\n",
       " 5.686149595618417e-08,\n",
       " 5.686149595618417e-08,\n",
       " 5.686149595618417e-08,\n",
       " 5.686149595618417e-08,\n",
       " 5.686149595618417e-08,\n",
       " 5.686149595618417e-08,\n",
       " 5.686149595618417e-08,\n",
       " 5.686149595618417e-08,\n",
       " 5.686149595618417e-08,\n",
       " 5.686149595618417e-08,\n",
       " 5.686149595618417e-08,\n",
       " 5.686149595618417e-08,\n",
       " 5.686149595618417e-08,\n",
       " 5.686149595618417e-08,\n",
       " 5.686149595618417e-08,\n",
       " 5.686149595618417e-08,\n",
       " 5.686149595618417e-08,\n",
       " 5.686149595618417e-08,\n",
       " 5.686149595618417e-08,\n",
       " 5.686149595618417e-08,\n",
       " 5.686149595618417e-08,\n",
       " 1.1686149598011397e-07,\n",
       " 5.686149595618417e-08,\n",
       " 5.686149595618417e-08,\n",
       " 1.3568614959935665e-06,\n",
       " 5.686149595618417e-08,\n",
       " 5.686149595618417e-08,\n",
       " 5.686149595618417e-08,\n",
       " 5.686149595618417e-08,\n",
       " 5.686149595618417e-08,\n",
       " 5.686149595618417e-08,\n",
       " 5.686149595618417e-08,\n",
       " 3.1385040122344776e-09,\n",
       " 5.686149595618417e-08,\n",
       " 5.686149595618417e-08,\n",
       " 2.6861495971974847e-08,\n",
       " 1.1686149598011397e-07,\n",
       " 5.686149595618417e-08,\n",
       " 5.686149595618417e-08,\n",
       " 5.686149595618417e-08,\n",
       " 5.686149595618417e-08,\n",
       " 5.686149595618417e-08,\n",
       " 5.686149595618417e-08,\n",
       " 2.6861495971974847e-08,\n",
       " 5.686149595618417e-08,\n",
       " 8.686149599590465e-08,\n",
       " 5.686149595618417e-08,\n",
       " 5.686149595618417e-08,\n",
       " 5.686149595618417e-08,\n",
       " 5.686149595618417e-08,\n",
       " 5.686149595618417e-08,\n",
       " 5.686149595618417e-08,\n",
       " 5.686149595618417e-08,\n",
       " 5.686149595618417e-08,\n",
       " 5.686149595618417e-08,\n",
       " 5.686149595618417e-08,\n",
       " 5.686149595618417e-08,\n",
       " 5.686149595618417e-08,\n",
       " 5.686149595618417e-08,\n",
       " 5.686149595618417e-08,\n",
       " 5.686149595618417e-08,\n",
       " 5.686149595618417e-08,\n",
       " 5.686149595618417e-08,\n",
       " 5.686149595618417e-08,\n",
       " 5.686149595618417e-08,\n",
       " 5.686149595618417e-08,\n",
       " 5.686149595618417e-08,\n",
       " 0.32204337786149595,\n",
       " 5.686149595618417e-08,\n",
       " 5.686149595618417e-08,\n",
       " 5.686149595618417e-08,\n",
       " 5.686149595618417e-08,\n",
       " 5.686149595618417e-08,\n",
       " 1.7686149594853262e-07,\n",
       " 2.6861495971974847e-08,\n",
       " 5.686149595618417e-08,\n",
       " 5.686149595618417e-08,\n",
       " 5.686149595618417e-08,\n",
       " 5.686149595618417e-08,\n",
       " 5.686149595618417e-08,\n",
       " 5.686149595618417e-08,\n",
       " 5.686149595618417e-08,\n",
       " 5.686149595618417e-08,\n",
       " 5.686149595618417e-08,\n",
       " 5.686149595618417e-08,\n",
       " 5.686149595618417e-08,\n",
       " 5.686149595618417e-08,\n",
       " 5.686149595618417e-08,\n",
       " 0.322044184861496,\n",
       " 0.32204415486149596,\n",
       " 2.6861495971974847e-08,\n",
       " 5.686149595618417e-08,\n",
       " 5.686149595618417e-08,\n",
       " 5.686149595618417e-08,\n",
       " 5.686149595618417e-08,\n",
       " 5.686149595618417e-08,\n",
       " 5.686149595618417e-08,\n",
       " 5.686149595618417e-08,\n",
       " 1.1686149598011397e-07,\n",
       " 5.686149595618417e-08,\n",
       " 5.686149595618417e-08,\n",
       " 5.686149595618417e-08,\n",
       " 0.322044175861496,\n",
       " 0.32204144636149595,\n",
       " 0.32204418586149597,\n",
       " 5.686149595618417e-08,\n",
       " 5.686149595618417e-08,\n",
       " 5.686149595618417e-08,\n",
       " 5.686149595618417e-08,\n",
       " 0.322044175861496,\n",
       " 5.686149595618417e-08,\n",
       " 5.686149595618417e-08,\n",
       " 5.686149595618417e-08,\n",
       " 5.686149595618417e-08,\n",
       " 5.686149595618417e-08,\n",
       " 5.686149595618417e-08,\n",
       " 0.32204393286149596,\n",
       " 5.686149595618417e-08,\n",
       " 5.686149595618417e-08,\n",
       " 5.686149595618417e-08,\n",
       " 5.686149595618417e-08,\n",
       " 5.686149595618417e-08,\n",
       " 5.686149595618417e-08,\n",
       " 5.686149595618417e-08,\n",
       " 5.686149595618417e-08,\n",
       " 5.686149595618417e-08,\n",
       " 6.868614959576469e-07,\n",
       " 2.6861495971974847e-08,\n",
       " 5.686149595618417e-08,\n",
       " 5.686149595618417e-08,\n",
       " 5.686149595618417e-08,\n",
       " 0.32204417986149597,\n",
       " 5.686149595618417e-08,\n",
       " 0.322044175861496,\n",
       " 5.686149595618417e-08,\n",
       " 5.686149595618417e-08,\n",
       " 5.686149595618417e-08,\n",
       " 3.1385040122344776e-09,\n",
       " 5.686149595618417e-08,\n",
       " 6.268614959892282e-07,\n",
       " 5.686149595618417e-08,\n",
       " 5.686149595618417e-08,\n",
       " 5.686149595618417e-08,\n",
       " 5.686149595618417e-08,\n",
       " 1.1686149598011397e-07,\n",
       " 5.686149595618417e-08,\n",
       " 5.686149595618417e-08,\n",
       " 5.686149595618417e-08,\n",
       " 5.686149595618417e-08,\n",
       " 5.686149595618417e-08,\n",
       " 5.686149595618417e-08,\n",
       " 5.686149595618417e-08,\n",
       " 5.686149595618417e-08,\n",
       " 0.32204419386149596,\n",
       " 5.686149595618417e-08,\n",
       " 5.686149595618417e-08,\n",
       " 5.686149595618417e-08,\n",
       " 5.686149595618417e-08,\n",
       " 5.686149595618417e-08,\n",
       " 0.32204419386149596,\n",
       " 5.686149595618417e-08,\n",
       " 2.6861495971974847e-08,\n",
       " 2.6861495971974847e-08,\n",
       " 6.868614959576469e-07,\n",
       " 0.32204419386149596,\n",
       " 5.686149595618417e-08,\n",
       " 5.686149595618417e-08,\n",
       " 5.686149595618417e-08,\n",
       " 5.686149595618417e-08,\n",
       " 5.686149595618417e-08,\n",
       " 0.322040924861496,\n",
       " 5.686149595618417e-08,\n",
       " 5.686149595618417e-08,\n",
       " 5.686149595618417e-08,\n",
       " 5.686149595618417e-08,\n",
       " 5.686149595618417e-08,\n",
       " 5.686149595618417e-08,\n",
       " 5.686149595618417e-08,\n",
       " 5.686149595618417e-08,\n",
       " 0.322044199361496,\n",
       " 5.686149595618417e-08,\n",
       " 5.686149595618417e-08,\n",
       " 5.686149595618417e-08,\n",
       " 5.686149595618417e-08,\n",
       " 5.686149595618417e-08,\n",
       " 5.686149595618417e-08,\n",
       " 5.686149595618417e-08,\n",
       " 0.32204418586149597,\n",
       " 5.686149595618417e-08,\n",
       " 0.32204419386149596,\n",
       " 5.686149595618417e-08,\n",
       " 5.686149595618417e-08,\n",
       " 0.322044186861496,\n",
       " 0.322043044861496,\n",
       " 5.686149595618417e-08,\n",
       " 5.686149595618417e-08,\n",
       " 5.686149595618417e-08,\n",
       " 5.686149595618417e-08,\n",
       " 5.686149595618417e-08,\n",
       " 5.686149595618417e-08,\n",
       " 5.686149595618417e-08,\n",
       " 1.1686149598011397e-07,\n",
       " 2.6861495971974847e-08,\n",
       " 5.686149595618417e-08,\n",
       " 5.686149595618417e-08,\n",
       " 5.686149595618417e-08,\n",
       " 5.686149595618417e-08,\n",
       " 5.686149595618417e-08,\n",
       " 5.686149595618417e-08,\n",
       " 5.686149595618417e-08,\n",
       " 5.686149595618417e-08,\n",
       " 8.568614959791887e-07,\n",
       " 5.686149595618417e-08,\n",
       " 5.686149595618417e-08,\n",
       " 5.686149595618417e-08,\n",
       " 5.686149595618417e-08,\n",
       " 5.686149595618417e-08,\n",
       " 5.686149595618417e-08,\n",
       " 5.686149595618417e-08,\n",
       " 5.686149595618417e-08,\n",
       " 5.686149595618417e-08,\n",
       " 5.686149595618417e-08,\n",
       " 0.322044199361496,\n",
       " 5.686149595618417e-08,\n",
       " 2.6861495971974847e-08,\n",
       " 5.686149595618417e-08,\n",
       " 5.686149595618417e-08,\n",
       " 5.686149595618417e-08,\n",
       " 3.1385040122344776e-09,\n",
       " 0.32204410186149596,\n",
       " 5.686149595618417e-08,\n",
       " 5.686149595618417e-08,\n",
       " 5.686149595618417e-08,\n",
       " 5.686149595618417e-08,\n",
       " 5.686149595618417e-08,\n",
       " 5.686149595618417e-08,\n",
       " 5.686149595618417e-08,\n",
       " 5.686149595618417e-08,\n",
       " 5.686149595618417e-08,\n",
       " 5.686149595618417e-08,\n",
       " 5.686149595618417e-08,\n",
       " 5.686149595618417e-08,\n",
       " 5.686149595618417e-08,\n",
       " 5.686149595618417e-08,\n",
       " 5.686149595618417e-08,\n",
       " 5.686149595618417e-08,\n",
       " 0.322044186861496,\n",
       " 0.32204417286149595,\n",
       " 5.686149595618417e-08,\n",
       " 5.686149595618417e-08,\n",
       " 5.686149595618417e-08,\n",
       " 5.686149595618417e-08,\n",
       " 2.6861495971974847e-08,\n",
       " 3.1385040122344776e-09,\n",
       " 5.686149595618417e-08,\n",
       " 5.686149595618417e-08,\n",
       " 5.686149595618417e-08,\n",
       " 5.686149595618417e-08,\n",
       " 0.322044184861496,\n",
       " 5.686149595618417e-08,\n",
       " 5.686149595618417e-08,\n",
       " 0.322044204861496,\n",
       " 1.1686149598011397e-07,\n",
       " 5.686149595618417e-08,\n",
       " 5.686149595618417e-08,\n",
       " 5.686149595618417e-08,\n",
       " 5.686149595618417e-08,\n",
       " 5.686149595618417e-08,\n",
       " 5.686149595618417e-08,\n",
       " 5.686149595618417e-08,\n",
       " 5.686149595618417e-08,\n",
       " 5.686149595618417e-08,\n",
       " 0.32204410786149595,\n",
       " 5.686149595618417e-08,\n",
       " 5.686149595618417e-08,\n",
       " 5.686149595618417e-08,\n",
       " 5.686149595618417e-08,\n",
       " 2.568614959619353e-07,\n",
       " 4.5686149596768644e-07,\n",
       " 5.686149595618417e-08,\n",
       " 5.686149595618417e-08,\n",
       " 5.686149595618417e-08,\n",
       " 5.686149595618417e-08,\n",
       " 5.686149595618417e-08,\n",
       " 5.686149595618417e-08,\n",
       " 5.686149595618417e-08,\n",
       " 5.686149595618417e-08,\n",
       " 5.686149595618417e-08,\n",
       " 5.686149595618417e-08,\n",
       " 5.686149595618417e-08,\n",
       " 5.686149595618417e-08,\n",
       " 5.686149595618417e-08,\n",
       " 5.686149595618417e-08,\n",
       " 5.686149595618417e-08,\n",
       " 5.686149595618417e-08,\n",
       " 5.686149595618417e-08,\n",
       " 5.686149595618417e-08,\n",
       " 5.686149595618417e-08,\n",
       " 5.686149595618417e-08,\n",
       " 3.1385040122344776e-09,\n",
       " 5.686149595618417e-08,\n",
       " 5.686149595618417e-08,\n",
       " 5.686149595618417e-08,\n",
       " 5.686149595618417e-08,\n",
       " 5.686149595618417e-08,\n",
       " 5.686149595618417e-08,\n",
       " 5.686149595618417e-08,\n",
       " 0.32204417986149597,\n",
       " 5.686149595618417e-08,\n",
       " 5.686149595618417e-08,\n",
       " 5.686149595618417e-08,\n",
       " 2.6861495971974847e-08,\n",
       " 5.686149595618417e-08,\n",
       " 5.686149595618417e-08,\n",
       " 5.686149595618417e-08,\n",
       " 5.686149595618417e-08,\n",
       " 5.686149595618417e-08,\n",
       " 5.686149595618417e-08,\n",
       " 0.32204418986149597,\n",
       " 5.686149595618417e-08,\n",
       " 5.686149595618417e-08,\n",
       " 5.686149595618417e-08,\n",
       " 5.686149595618417e-08,\n",
       " 5.686149595618417e-08,\n",
       " 5.686149595618417e-08,\n",
       " 0.322042008861496,\n",
       " 5.686149595618417e-08,\n",
       " 5.686149595618417e-08,\n",
       " 5.686149595618417e-08,\n",
       " 5.686149595618417e-08,\n",
       " 5.686149595618417e-08,\n",
       " 5.686149595618417e-08,\n",
       " 5.686149595618417e-08,\n",
       " 5.686149595618417e-08,\n",
       " 5.686149595618417e-08,\n",
       " 0.32204419386149596,\n",
       " 5.686149595618417e-08,\n",
       " 5.686149595618417e-08,\n",
       " 1.1686149598011397e-07,\n",
       " 0.322044171861496,\n",
       " 5.686149595618417e-08,\n",
       " 0.322044159861496,\n",
       " 2.6861495971974847e-08,\n",
       " 1.1686149598011397e-07,\n",
       " 5.686149595618417e-08,\n",
       " 5.686149595618417e-08,\n",
       " 7.76861495965786e-07,\n",
       " 5.686149595618417e-08,\n",
       " 2.6861495971974847e-08,\n",
       " 0.32204391886149597,\n",
       " 5.686149595618417e-08,\n",
       " 0.32204339486149597,\n",
       " 5.686149595618417e-08,\n",
       " 5.686149595618417e-08,\n",
       " 5.686149595618417e-08,\n",
       " 5.686149595618417e-08,\n",
       " 5.686149595618417e-08,\n",
       " 5.686149595618417e-08,\n",
       " 5.686149595618417e-08,\n",
       " 5.686149595618417e-08,\n",
       " 5.686149595618417e-08,\n",
       " 5.686149595618417e-08,\n",
       " 5.686149595618417e-08,\n",
       " 5.686149595618417e-08,\n",
       " 0.32204419786149596,\n",
       " 2.6861495971974847e-08,\n",
       " 5.686149595618417e-08,\n",
       " 0.322043955861496,\n",
       " 5.686149595618417e-08,\n",
       " 5.686149595618417e-08,\n",
       " 5.686149595618417e-08,\n",
       " 5.686149595618417e-08,\n",
       " 5.686149595618417e-08,\n",
       " 5.686149595618417e-08,\n",
       " 5.686149595618417e-08,\n",
       " 5.686149595618417e-08,\n",
       " 5.686149595618417e-08,\n",
       " 5.686149595618417e-08,\n",
       " 5.686149595618417e-08,\n",
       " 5.686149595618417e-08,\n",
       " 5.686149595618417e-08,\n",
       " 5.686149595618417e-08,\n",
       " 5.686149595618417e-08,\n",
       " 5.686149595618417e-08,\n",
       " 5.686149595618417e-08,\n",
       " 5.686149595618417e-08,\n",
       " 0.32204419386149596,\n",
       " 5.686149595618417e-08,\n",
       " 5.686149595618417e-08,\n",
       " 5.686149595618417e-08,\n",
       " 5.686149595618417e-08,\n",
       " 5.686149595618417e-08,\n",
       " 5.686149595618417e-08,\n",
       " 0.322043136861496,\n",
       " 5.686149595618417e-08,\n",
       " 5.686149595618417e-08,\n",
       " 5.686149595618417e-08,\n",
       " 5.686149595618417e-08,\n",
       " 1.1686149598011397e-07,\n",
       " 5.686149595618417e-08,\n",
       " 5.686149595618417e-08,\n",
       " 5.686149595618417e-08,\n",
       " 1.2268614959509705e-06,\n",
       " 0.32204184486149595,\n",
       " 5.686149595618417e-08,\n",
       " 5.686149595618417e-08,\n",
       " 5.686149595618417e-08,\n",
       " 5.686149595618417e-08,\n",
       " 0.322044199361496,\n",
       " 5.686149595618417e-08,\n",
       " 5.686149595618417e-08,\n",
       " 0.32204419386149596,\n",
       " 0.32204419786149596,\n",
       " 5.686149595618417e-08,\n",
       " 0.32204419786149596,\n",
       " 5.686149595618417e-08,\n",
       " 5.686149595618417e-08,\n",
       " 5.686149595618417e-08,\n",
       " 0.32204419386149596,\n",
       " 5.686149595618417e-08,\n",
       " 5.686149595618417e-08,\n",
       " 5.686149595618417e-08,\n",
       " 5.686149595618417e-08,\n",
       " 0.32204419386149596,\n",
       " 5.686149595618417e-08,\n",
       " 5.686149595618417e-08,\n",
       " 0.322044049361496,\n",
       " 5.686149595618417e-08,\n",
       " 5.686149595618417e-08,\n",
       " 5.686149595618417e-08,\n",
       " 5.686149595618417e-08,\n",
       " 5.686149595618417e-08,\n",
       " 5.686149595618417e-08,\n",
       " 1.1686149598011397e-07,\n",
       " 5.686149595618417e-08,\n",
       " 5.686149595618417e-08,\n",
       " 5.686149595618417e-08,\n",
       " 5.686149595618417e-08,\n",
       " 5.686149595618417e-08,\n",
       " 5.686149595618417e-08,\n",
       " 5.686149595618417e-08,\n",
       " 5.686149595618417e-08,\n",
       " 5.686149595618417e-08,\n",
       " 5.686149595618417e-08,\n",
       " 5.686149595618417e-08,\n",
       " 5.686149595618417e-08,\n",
       " 5.686149595618417e-08,\n",
       " 0.32204415486149596,\n",
       " 8.686149599590465e-08,\n",
       " 5.686149595618417e-08,\n",
       " 5.686149595618417e-08,\n",
       " 5.686149595618417e-08,\n",
       " 5.686149595618417e-08,\n",
       " 5.686149595618417e-08,\n",
       " 1.5168614959648608e-06,\n",
       " 5.686149595618417e-08,\n",
       " 5.686149595618417e-08,\n",
       " 5.686149595618417e-08,\n",
       " 5.686149595618417e-08,\n",
       " 5.686149595618417e-08,\n",
       " 5.686149595618417e-08,\n",
       " 5.686149595618417e-08,\n",
       " 5.686149595618417e-08,\n",
       " 5.686149595618417e-08,\n",
       " 3.1385040122344776e-09,\n",
       " 5.686149595618417e-08,\n",
       " 5.686149595618417e-08,\n",
       " 5.686149595618417e-08,\n",
       " 5.686149595618417e-08,\n",
       " 5.686149595618417e-08,\n",
       " 5.686149595618417e-08,\n",
       " 5.686149595618417e-08,\n",
       " 2.6861495971974847e-08,\n",
       " 5.686149595618417e-08,\n",
       " 5.686149595618417e-08,\n",
       " 0.32204417286149595,\n",
       " 5.686149595618417e-08,\n",
       " 5.686149595618417e-08,\n",
       " 5.686149595618417e-08,\n",
       " 5.686149595618417e-08,\n",
       " 5.686149595618417e-08,\n",
       " 5.686149595618417e-08,\n",
       " 5.686149595618417e-08,\n",
       " 5.686149595618417e-08,\n",
       " 5.686149595618417e-08,\n",
       " 5.686149595618417e-08,\n",
       " 5.686149595618417e-08,\n",
       " 5.686149595618417e-08,\n",
       " 2.6861495971974847e-08,\n",
       " 5.686149595618417e-08,\n",
       " 1.1686149598011397e-07,\n",
       " 5.686149595618417e-08,\n",
       " 1.9968614959897657e-06,\n",
       " 0.322044147861496,\n",
       " 5.686149595618417e-08,\n",
       " 5.686149595618417e-08,\n",
       " 5.686149595618417e-08,\n",
       " 5.686149595618417e-08,\n",
       " 5.686149595618417e-08,\n",
       " 5.686149595618417e-08,\n",
       " 5.686149595618417e-08,\n",
       " 5.686149595618417e-08,\n",
       " 5.686149595618417e-08,\n",
       " 5.686149595618417e-08,\n",
       " 5.686149595618417e-08,\n",
       " 5.686149595618417e-08,\n",
       " 5.686149595618417e-08,\n",
       " 5.686149595618417e-08,\n",
       " 5.686149595618417e-08,\n",
       " 2.6861495971974847e-08,\n",
       " 0.322044200861496,\n",
       " 5.686149595618417e-08,\n",
       " 5.686149595618417e-08,\n",
       " 5.686149595618417e-08,\n",
       " 5.686149595618417e-08,\n",
       " 5.686149595618417e-08,\n",
       " 5.686149595618417e-08,\n",
       " 5.686149595618417e-08,\n",
       " 5.686149595618417e-08,\n",
       " 5.686149595618417e-08,\n",
       " 5.686149595618417e-08,\n",
       " 5.686149595618417e-08,\n",
       " 0.32204419386149596,\n",
       " 5.686149595618417e-08,\n",
       " 5.686149595618417e-08,\n",
       " 2.6861495971974847e-08,\n",
       " 5.686149595618417e-08,\n",
       " 5.686149595618417e-08,\n",
       " 0.322044200861496,\n",
       " 5.686149595618417e-08,\n",
       " 2.6861495971974847e-08,\n",
       " 5.686149595618417e-08,\n",
       " 5.686149595618417e-08,\n",
       " 5.686149595618417e-08,\n",
       " 5.686149595618417e-08,\n",
       " 5.686149595618417e-08,\n",
       " 5.686149595618417e-08,\n",
       " 5.686149595618417e-08,\n",
       " 5.686149595618417e-08,\n",
       " 7.95686149596131e-06,\n",
       " 5.686149595618417e-08,\n",
       " 5.686149595618417e-08,\n",
       " 5.686149595618417e-08,\n",
       " 5.686149595618417e-08,\n",
       " 5.686149595618417e-08,\n",
       " 5.686149595618417e-08,\n",
       " 5.686149595618417e-08,\n",
       " 5.686149595618417e-08,\n",
       " 5.686149595618417e-08,\n",
       " 5.686149595618417e-08,\n",
       " 5.686149595618417e-08,\n",
       " 0.322044175861496,\n",
       " 0.322044190861496,\n",
       " 5.686149595618417e-08,\n",
       " 5.686149595618417e-08,\n",
       " 5.686149595618417e-08,\n",
       " 5.686149595618417e-08,\n",
       " 5.686149595618417e-08,\n",
       " 5.686149595618417e-08,\n",
       " 4.768614959571593e-07,\n",
       " 5.686149595618417e-08,\n",
       " 5.686149595618417e-08,\n",
       " 5.686149595618417e-08,\n",
       " 5.686149595618417e-08,\n",
       " 5.686149595618417e-08,\n",
       " 5.686149595618417e-08,\n",
       " 5.686149595618417e-08,\n",
       " 5.686149595618417e-08,\n",
       " 5.686149595618417e-08,\n",
       " 0.32204419386149596,\n",
       " 5.686149595618417e-08,\n",
       " 5.686149595618417e-08,\n",
       " 5.686149595618417e-08,\n",
       " 0.32204419386149596,\n",
       " 5.686149595618417e-08,\n",
       " 1.1686149598011397e-07,\n",
       " 5.686149595618417e-08,\n",
       " 5.686149595618417e-08,\n",
       " 5.686149595618417e-08,\n",
       " 5.686149595618417e-08,\n",
       " 5.686149595618417e-08,\n",
       " 5.686149595618417e-08,\n",
       " 5.686149595618417e-08,\n",
       " 5.686149595618417e-08,\n",
       " 5.686149595618417e-08,\n",
       " 5.686149595618417e-08,\n",
       " 5.686149595618417e-08,\n",
       " 5.686149595618417e-08,\n",
       " 5.686149595618417e-08,\n",
       " 1.1686149598011397e-07,\n",
       " 5.686149595618417e-08,\n",
       " 5.686149595618417e-08,\n",
       " 5.686149595618417e-08,\n",
       " 3.1385040122344776e-09,\n",
       " 5.686149595618417e-08,\n",
       " 5.686149595618417e-08,\n",
       " 0.322044186861496,\n",
       " 0.322044177861496,\n",
       " 5.686149595618417e-08,\n",
       " 5.686149595618417e-08,\n",
       " 5.686149595618417e-08,\n",
       " 0.32204415486149596,\n",
       " 5.686149595618417e-08,\n",
       " 5.686149595618417e-08,\n",
       " 5.686149595618417e-08,\n",
       " 5.686149595618417e-08,\n",
       " 5.686149595618417e-08,\n",
       " 5.686149595618417e-08,\n",
       " 5.686149595618417e-08,\n",
       " 5.686149595618417e-08,\n",
       " 1.7686149594853262e-07,\n",
       " 5.686149595618417e-08,\n",
       " 2.6861495971974847e-08,\n",
       " 0.32203155786149595,\n",
       " 5.686149595618417e-08,\n",
       " 5.686149595618417e-08,\n",
       " 5.686149595618417e-08,\n",
       " 5.686149595618417e-08,\n",
       " 0.322044190861496,\n",
       " 5.686149595618417e-08,\n",
       " 5.686149595618417e-08,\n",
       " 5.686149595618417e-08,\n",
       " 0.32204387786149596,\n",
       " 1.1686149598011397e-07,\n",
       " 5.686149595618417e-08,\n",
       " 5.686149595618417e-08,\n",
       " 0.322043403861496,\n",
       " 0.322044199361496,\n",
       " 5.686149595618417e-08,\n",
       " 0.32204418386149597,\n",
       " 5.686149595618417e-08,\n",
       " 2.6861495971974847e-08,\n",
       " 5.686149595618417e-08,\n",
       " 5.686149595618417e-08,\n",
       " 2.6861495971974847e-08,\n",
       " 5.686149595618417e-08,\n",
       " 2.968614959963922e-07,\n",
       " 5.686149595618417e-08,\n",
       " ...]"
      ]
     },
     "execution_count": 140,
     "metadata": {},
     "output_type": "execute_result"
    }
   ],
   "source": [
    "fin"
   ]
  },
  {
   "cell_type": "code",
   "execution_count": null,
   "metadata": {
    "collapsed": true
   },
   "outputs": [],
   "source": []
  },
  {
   "cell_type": "code",
   "execution_count": 141,
   "metadata": {
    "collapsed": true
   },
   "outputs": [],
   "source": [
    "ind = np.argpartition(fin, -10)[-10:]"
   ]
  },
  {
   "cell_type": "code",
   "execution_count": 142,
   "metadata": {},
   "outputs": [
    {
     "data": {
      "text/plain": [
       "5.686149595618417e-08"
      ]
     },
     "execution_count": 142,
     "metadata": {},
     "output_type": "execute_result"
    }
   ],
   "source": [
    "fin[89]"
   ]
  },
  {
   "cell_type": "code",
   "execution_count": 143,
   "metadata": {},
   "outputs": [
    {
     "data": {
      "text/plain": [
       "5.686149595618417e-08"
      ]
     },
     "execution_count": 143,
     "metadata": {},
     "output_type": "execute_result"
    }
   ],
   "source": [
    "fin[295]"
   ]
  },
  {
   "cell_type": "code",
   "execution_count": 144,
   "metadata": {},
   "outputs": [
    {
     "data": {
      "text/plain": [
       "0.322044175861496"
      ]
     },
     "execution_count": 144,
     "metadata": {},
     "output_type": "execute_result"
    }
   ],
   "source": [
    "fin[495]"
   ]
  },
  {
   "cell_type": "code",
   "execution_count": 145,
   "metadata": {},
   "outputs": [
    {
     "data": {
      "text/plain": [
       "array([1134,  989,  116,  584,  890,  770,  623,  329,  541,  872])"
      ]
     },
     "execution_count": 145,
     "metadata": {},
     "output_type": "execute_result"
    }
   ],
   "source": [
    "ind"
   ]
  },
  {
   "cell_type": "code",
   "execution_count": 146,
   "metadata": {},
   "outputs": [
    {
     "data": {
      "text/plain": [
       "'/Users/adithya/Documents/MATLAB/project/cbir_dataset/sample/images/00023162_023.png'"
      ]
     },
     "execution_count": 146,
     "metadata": {},
     "output_type": "execute_result"
    }
   ],
   "source": [
    "import io\n",
    "pd.read_csv(io.StringIO(file_paths_train.to_csv(index=False)))\n",
    "file_paths_train['0'][1360]"
   ]
  },
  {
   "cell_type": "code",
   "execution_count": 147,
   "metadata": {
    "collapsed": true
   },
   "outputs": [],
   "source": [
    "from PIL import Image"
   ]
  },
  {
   "cell_type": "code",
   "execution_count": 148,
   "metadata": {},
   "outputs": [
    {
     "name": "stdout",
     "output_type": "stream",
     "text": [
      "/Users/adithya/Documents/MATLAB/project/cbir_dataset/sample/images/00029867_000.png\n",
      "/Users/adithya/Documents/MATLAB/project/cbir_dataset/sample/images/00021006_018.png\n",
      "/Users/adithya/Documents/MATLAB/project/cbir_dataset/sample/images/00016332_002.png\n",
      "/Users/adithya/Documents/MATLAB/project/cbir_dataset/sample/images/00017747_002.png\n",
      "/Users/adithya/Documents/MATLAB/project/cbir_dataset/sample/images/00016291_055.png\n",
      "/Users/adithya/Documents/MATLAB/project/cbir_dataset/sample/images/00009551_010.png\n",
      "/Users/adithya/Documents/MATLAB/project/cbir_dataset/sample/images/00011700_001.png\n",
      "/Users/adithya/Documents/MATLAB/project/cbir_dataset/sample/images/00013447_010.png\n",
      "/Users/adithya/Documents/MATLAB/project/cbir_dataset/sample/images/00027420_002.png\n",
      "/Users/adithya/Documents/MATLAB/project/cbir_dataset/sample/images/00015146_001.png\n"
     ]
    }
   ],
   "source": [
    "gg_array = {}\n",
    "for num,i in enumerate(ind):\n",
    "    #print(file_paths['0'][i:i+1])\n",
    "    imgk = file_paths['0'][i:i+1]\n",
    "    imgm = imgk.values[0:]\n",
    "    gg = str(imgm[0])\n",
    "    gg_array[num] = gg\n",
    "    print(gg)"
   ]
  },
  {
   "cell_type": "code",
   "execution_count": 149,
   "metadata": {},
   "outputs": [
    {
     "data": {
      "text/plain": [
       "{0: '/Users/adithya/Documents/MATLAB/project/cbir_dataset/sample/images/00029867_000.png',\n",
       " 1: '/Users/adithya/Documents/MATLAB/project/cbir_dataset/sample/images/00021006_018.png',\n",
       " 2: '/Users/adithya/Documents/MATLAB/project/cbir_dataset/sample/images/00016332_002.png',\n",
       " 3: '/Users/adithya/Documents/MATLAB/project/cbir_dataset/sample/images/00017747_002.png',\n",
       " 4: '/Users/adithya/Documents/MATLAB/project/cbir_dataset/sample/images/00016291_055.png',\n",
       " 5: '/Users/adithya/Documents/MATLAB/project/cbir_dataset/sample/images/00009551_010.png',\n",
       " 6: '/Users/adithya/Documents/MATLAB/project/cbir_dataset/sample/images/00011700_001.png',\n",
       " 7: '/Users/adithya/Documents/MATLAB/project/cbir_dataset/sample/images/00013447_010.png',\n",
       " 8: '/Users/adithya/Documents/MATLAB/project/cbir_dataset/sample/images/00027420_002.png',\n",
       " 9: '/Users/adithya/Documents/MATLAB/project/cbir_dataset/sample/images/00015146_001.png'}"
      ]
     },
     "execution_count": 149,
     "metadata": {},
     "output_type": "execute_result"
    }
   ],
   "source": [
    "gg_array"
   ]
  },
  {
   "cell_type": "code",
   "execution_count": 150,
   "metadata": {},
   "outputs": [
    {
     "data": {
      "image/png": "[encoded data removed]",
      "text/plain": [
       "<matplotlib.figure.Figure at 0x10497bfd0>"
      ]
     },
     "metadata": {},
     "output_type": "display_data"
    }
   ],
   "source": [
    "fig = plt.figure()\n",
    "plt.gray()\n",
    "plt.subplot(331)\n",
    "kkl = imread(gg_array[0])\n",
    "plt.imshow(kkl)\n",
    "plt.subplot(332)\n",
    "kk2 = imread(gg_array[1])\n",
    "plt.imshow(kk2)\n",
    "plt.subplot(333)\n",
    "kk3 = imread(gg_array[2])\n",
    "plt.imshow(kk3)\n",
    "plt.subplot(334)\n",
    "kk4 = imread(gg_array[3])\n",
    "plt.imshow(kk4)\n",
    "plt.subplot(335)\n",
    "kk5 = imread(gg_array[4])\n",
    "plt.imshow(kk5)\n",
    "plt.subplot(336)\n",
    "kk6 = imread(gg_array[5])\n",
    "plt.imshow(kk6)\n",
    "plt.subplot(337)\n",
    "kk7 = imread(gg_array[6])\n",
    "plt.imshow(kk7)\n",
    "plt.subplot(338)\n",
    "kk8 = imread(gg_array[7])\n",
    "plt.imshow(kk8)\n",
    "plt.subplot(339)\n",
    "kk9 = imread(gg_array[8])\n",
    "plt.imshow(kk9)\n",
    "plt.show()"
   ]
  },
  {
   "cell_type": "code",
   "execution_count": null,
   "metadata": {
    "collapsed": true
   },
   "outputs": [],
   "source": []
  }
 ],
 "metadata": {
  "kernelspec": {
   "display_name": "Python 3",
   "language": "python",
   "name": "python3"
  },
  "language_info": {
   "codemirror_mode": {
    "name": "ipython",
    "version": 3
   },
   "file_extension": ".py",
   "mimetype": "text/x-python",
   "name": "python",
   "nbconvert_exporter": "python",
   "pygments_lexer": "ipython3",
   "version": "3.6.3"
  }
 },
 "nbformat": 4,
 "nbformat_minor": 2
}
