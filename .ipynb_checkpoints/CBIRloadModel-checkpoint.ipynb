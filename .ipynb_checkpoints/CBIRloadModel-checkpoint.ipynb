{
 "cells": [
  {
   "cell_type": "code",
   "execution_count": null,
   "metadata": {
    "collapsed": true
   },
   "outputs": [],
   "source": []
  },
  {
   "cell_type": "code",
   "execution_count": 322,
   "metadata": {
    "collapsed": true
   },
   "outputs": [],
   "source": [
    "# Importing the libraries\n",
    "import numpy as np\n",
    "import matplotlib.pyplot as plt\n",
    "import pandas as pd\n",
    "\n",
    "# Importing the dataset\n",
    "dataset_orb = pd.read_csv('X_orb_desc_change.csv',header = None)\n",
    "dataset_lbp = pd.read_csv('X_lbp_desc2_long.csv',header = None)"
   ]
  },
  {
   "cell_type": "code",
   "execution_count": 323,
   "metadata": {},
   "outputs": [
    {
     "data": {
      "text/plain": [
       "(1582, 500)"
      ]
     },
     "execution_count": 323,
     "metadata": {},
     "output_type": "execute_result"
    }
   ],
   "source": [
    "dataset_orb.shape"
   ]
  },
  {
   "cell_type": "code",
   "execution_count": 324,
   "metadata": {},
   "outputs": [
    {
     "data": {
      "text/plain": [
       "(1582, 1770)"
      ]
     },
     "execution_count": 324,
     "metadata": {},
     "output_type": "execute_result"
    }
   ],
   "source": [
    "dataset_lbp.shape"
   ]
  },
  {
   "cell_type": "code",
   "execution_count": 325,
   "metadata": {
    "collapsed": true
   },
   "outputs": [],
   "source": [
    "target = pd.read_csv('y_orb_ouput.csv',header = None)"
   ]
  },
  {
   "cell_type": "code",
   "execution_count": 326,
   "metadata": {
    "collapsed": true
   },
   "outputs": [],
   "source": [
    "file_paths = pd.read_csv('X_image_path_lbp2_long.csv')"
   ]
  },
  {
   "cell_type": "code",
   "execution_count": 327,
   "metadata": {},
   "outputs": [
    {
     "data": {
      "text/plain": [
       "(1582, 2)"
      ]
     },
     "execution_count": 327,
     "metadata": {},
     "output_type": "execute_result"
    }
   ],
   "source": [
    "file_paths.shape"
   ]
  },
  {
   "cell_type": "code",
   "execution_count": 328,
   "metadata": {},
   "outputs": [
    {
     "data": {
      "text/plain": [
       "'/Users/adithya/Documents/MATLAB/project/cbir_dataset/sample/images/00000030_001.png'"
      ]
     },
     "execution_count": 328,
     "metadata": {},
     "output_type": "execute_result"
    }
   ],
   "source": [
    "file_paths['0'][0]"
   ]
  },
  {
   "cell_type": "code",
   "execution_count": 329,
   "metadata": {
    "collapsed": true
   },
   "outputs": [],
   "source": [
    "X_orb = dataset_orb\n",
    "X_lbp = dataset_lbp\n",
    "y = target\n",
    "\n",
    "# Splitting the dataset into the Training set and Test set\n",
    "from sklearn.cross_validation import train_test_split\n",
    "X_train_orb, X_test_orb, y_train, y_test = train_test_split(X_orb, y, test_size = 0.25, random_state = 0)\n",
    "X_train_lbp, X_test_lbp, y_train, y_test = train_test_split(X_lbp, y, test_size = 0.25, random_state = 0)\n",
    "\n",
    "# Feature Scaling\n",
    "from sklearn.preprocessing import StandardScaler\n",
    "sc = StandardScaler()\n",
    "X_train_orb = sc.fit_transform(X_train_orb)\n",
    "X_test_orb = sc.transform(X_test_orb)\n",
    "X_train_lbp = sc.fit_transform(X_train_lbp)\n",
    "X_test_lbp = sc.transform(X_test_lbp)"
   ]
  },
  {
   "cell_type": "code",
   "execution_count": 330,
   "metadata": {
    "collapsed": true
   },
   "outputs": [],
   "source": [
    "file_paths_train, file_paths_test = train_test_split(file_paths, test_size = 0.25, random_state = 0)"
   ]
  },
  {
   "cell_type": "code",
   "execution_count": 331,
   "metadata": {},
   "outputs": [
    {
     "data": {
      "text/plain": [
       "(1186, 2)"
      ]
     },
     "execution_count": 331,
     "metadata": {},
     "output_type": "execute_result"
    }
   ],
   "source": [
    "file_paths_train.shape"
   ]
  },
  {
   "cell_type": "code",
   "execution_count": 332,
   "metadata": {
    "collapsed": true
   },
   "outputs": [],
   "source": [
    "X_train = np.hstack((X_train_orb,X_train_lbp))\n",
    "X_test = np.hstack((X_test_orb,X_test_lbp))"
   ]
  },
  {
   "cell_type": "code",
   "execution_count": 333,
   "metadata": {
    "collapsed": true
   },
   "outputs": [],
   "source": [
    "# Applying LLE\n",
    "from sklearn.decomposition import PCA\n",
    "#from sklearn import manifold\n",
    "\n",
    "pca_orb = PCA(n_components = 500)\n",
    "pca_lbp = PCA(n_components = 500)\n",
    "#pca_total = PCA()\n",
    "X_train_orb = pca_orb.fit_transform(X_train_orb)\n",
    "X_train_lbp = pca_lbp.fit_transform(X_train_lbp)\n",
    "#pca = PCA(n_components = None)\n",
    "#X_train = pca_total.fit_transform(X_train)\n",
    "#X_test = pca_total.transform(X_test)\n",
    "#explained_variance = pca.explained_va"
   ]
  },
  {
   "cell_type": "code",
   "execution_count": 334,
   "metadata": {
    "collapsed": true
   },
   "outputs": [],
   "source": [
    "from sklearn.preprocessing import OneHotEncoder\n",
    "from numpy import array\n",
    "from numpy import argmax\n",
    "import numpy\n",
    "from sklearn.preprocessing import LabelEncoder\n",
    "label_encoder = LabelEncoder()\n",
    "integer_encoded = label_encoder.fit_transform(y_train.values.ravel())"
   ]
  },
  {
   "cell_type": "code",
   "execution_count": 335,
   "metadata": {
    "collapsed": true
   },
   "outputs": [],
   "source": [
    "from keras.utils import np_utils\n",
    "categorical_train = np_utils.to_categorical(integer_encoded)"
   ]
  },
  {
   "cell_type": "code",
   "execution_count": 336,
   "metadata": {
    "collapsed": true
   },
   "outputs": [],
   "source": [
    "label_encoder = LabelEncoder()\n",
    "integer_encoded_test = label_encoder.fit_transform(y_test.values.ravel())"
   ]
  },
  {
   "cell_type": "code",
   "execution_count": 337,
   "metadata": {
    "collapsed": true
   },
   "outputs": [],
   "source": [
    "categorical_encoded_test = np_utils.to_categorical(integer_encoded_test)"
   ]
  },
  {
   "cell_type": "code",
   "execution_count": 338,
   "metadata": {
    "collapsed": true
   },
   "outputs": [],
   "source": [
    "# encode class values as integers\n",
    "from keras.utils import np_utils\n",
    "encoder = LabelEncoder()\n",
    "encoder.fit(integer_encoded)\n",
    "encoded_Y = encoder.transform(integer_encoded)\n",
    "# convert integers to dummy variables (i.e. one hot encoded)\n",
    "dummy_y = np_utils.to_categorical(encoded_Y)"
   ]
  },
  {
   "cell_type": "code",
   "execution_count": 339,
   "metadata": {
    "collapsed": true
   },
   "outputs": [],
   "source": [
    "from keras.utils import np_utils\n",
    "encoder_test = LabelEncoder()\n",
    "encoder_test.fit(integer_encoded_test)\n",
    "encoded_Y_test = encoder_test.transform(integer_encoded_test)\n",
    "# convert integers to dummy variables (i.e. one hot encoded)\n",
    "dummy_y_test = np_utils.to_categorical(encoded_Y_test)"
   ]
  },
  {
   "cell_type": "code",
   "execution_count": 340,
   "metadata": {
    "collapsed": true
   },
   "outputs": [],
   "source": [
    "from keras.models import load_model\n",
    "model = load_model('my_model2.h5')"
   ]
  },
  {
   "cell_type": "code",
   "execution_count": 344,
   "metadata": {
    "collapsed": true
   },
   "outputs": [],
   "source": [
    "import opencv\n",
    "# To performing path manipulations \n",
    "import os\n",
    "# Local Binary Pattern function\n",
    "from skimage.feature import local_binary_pattern\n",
    "# To calculate a normalized histogram \n",
    "from scipy.stats import itemfreq\n",
    "\n",
    "from sklearn.preprocessing import normalize\n",
    "# Utility package -- use pip install cvutils to install\n",
    "import cvutils\n",
    "# To read class from file\n",
    "import csv\n",
    "import scipy\n",
    "import cv2"
   ]
  },
  {
   "cell_type": "code",
   "execution_count": 345,
   "metadata": {
    "collapsed": true
   },
   "outputs": [],
   "source": [
    "rows = 1024\n",
    "columns = 1024\n",
    "r4 = int(rows/4)\n",
    "c4 = int(columns/4)\n",
    "r3 = int(rows/3)\n",
    "c3 = int(columns/3)\n",
    "r2 = int(rows/2)\n",
    "c2 = int(columns/2)\n",
    "r1 = rows\n",
    "c1 = columns\n",
    "import numpy as np\n",
    "from skimage.io import imread\n",
    "input_image = '/Users/adithya/Documents/MATLAB/project/cbir_dataset/sample/images/00025464_000.png'\n",
    "im = imread(input_image)\n",
    "if(im.shape == (1024,1024)):\n",
    "    im_gray = im\n",
    "else:\n",
    "    im_gray = cv2.cvtColor(im, cv2.COLOR_BGR2GRAY)\n",
    "    \n",
    "image111 = im_gray\n",
    "image221=im_gray[0:r2,0:c2]\n",
    "image222=im_gray[0:r2,c2+0:2*c2]\n",
    "image223=im_gray[r2+0:2*r2,0:c2]\n",
    "image224=im_gray[r2+0:2*r2,c2+0:2*c2]\n",
    "image331 = im_gray[0:r3, 0:c3]\n",
    "image332 = im_gray[0:r3, c3+0:2*c3]\n",
    "image333 = im_gray[0:r3, 2*c3+0:3*c3+1]\n",
    "image334 = im_gray[r3+0:2*r3, 0:c3]\n",
    "image335 = im_gray[r3+0:2*r3, c3+0:2*c3]\n",
    "image336 = im_gray[r3+0:2*r3, 2*c3+0:3*c3+1]\n",
    "image337 = im_gray[2*r3+0:3*r3+1, 0:c3]\n",
    "image338 = im_gray[2*r3+0:3*r3+1, c3+0:2*c3]\n",
    "image339 = im_gray[2*r3+0:3*r3+1, 2*c3+0:3*c3+1]\n",
    "image441 = im_gray[0:r4, 0:c4]\n",
    "image442 = im_gray[0:r4, c4+0:2*c4]\n",
    "image443 = im_gray[0:r4, 2*c4+0:3*c4]\n",
    "image444 = im_gray[0:r4, 3*c4+0:4*c4]\n",
    "image445 = im_gray[r4+0:2*r4, 0:c4]\n",
    "image446 = im_gray[r4+0:2*r4, c4+0:2*c4]\n",
    "image447 = im_gray[r4+0:2*r4, 2*c4+0:3*c4]\n",
    "image448 = im_gray[r4+0:2*r4, 3*c4+0:4*c4]\n",
    "image449 = im_gray[2*r4+0:3*r4, 0:c4]\n",
    "image4410 = im_gray[2*r4+0:3*r4, c4+0:2*c4]\n",
    "image4411 = im_gray[2*r4+0:3*r4, 2*c4+0:3*c4]\n",
    "image4412 = im_gray[2*r4+0:3*r4, 3*c4+0:4*c4]\n",
    "image4413 = im_gray[3*r4+0:4*r4, 0:c4]\n",
    "image4414 = im_gray[3*r4+0:4*r4, c4+0:2*c4]\n",
    "image4415 = im_gray[3*r4+0:4*r4, 2*c4+0:3*c4]\n",
    "image4416 = im_gray[3*r4+0:4*r4, 3*c4+0:4*c4]\n",
    "\n",
    "lbp_image111=local_binary_pattern(image111,8,1,method='nri_uniform')\n",
    "histogram111=scipy.stats.itemfreq(lbp_image111)\n",
    "lbp_image221=local_binary_pattern(image221,8,1,method='nri_uniform')\n",
    "histogram221=scipy.stats.itemfreq(lbp_image221)\n",
    "lbp_image222=local_binary_pattern(image222,8,1,method='nri_uniform')\n",
    "histogram222=scipy.stats.itemfreq(lbp_image222)\n",
    "lbp_image223=local_binary_pattern(image223,8,1,method='nri_uniform')\n",
    "histogram223=scipy.stats.itemfreq(lbp_image223)\n",
    "lbp_image224=local_binary_pattern(image224,8,1,method='nri_uniform')\n",
    "histogram224=scipy.stats.itemfreq(lbp_image224)\n",
    "lbp_image331=local_binary_pattern(image331,8,1,method='nri_uniform')\n",
    "histogram331=scipy.stats.itemfreq(lbp_image331)\n",
    "lbp_image332=local_binary_pattern(image332,8,1,method='nri_uniform')\n",
    "histogram332=scipy.stats.itemfreq(lbp_image332)\n",
    "lbp_image333=local_binary_pattern(image333,8,1,method='nri_uniform')\n",
    "histogram333=scipy.stats.itemfreq(lbp_image333)\n",
    "lbp_image334=local_binary_pattern(image334,8,1,method='nri_uniform')\n",
    "histogram334=scipy.stats.itemfreq(lbp_image334)\n",
    "lbp_image335=local_binary_pattern(image335,8,1,method='nri_uniform')\n",
    "histogram335=scipy.stats.itemfreq(lbp_image335)\n",
    "lbp_image336=local_binary_pattern(image336,8,1,method='nri_uniform')\n",
    "histogram336=scipy.stats.itemfreq(lbp_image336)\n",
    "lbp_image337=local_binary_pattern(image337,8,1,method='nri_uniform')\n",
    "histogram337=scipy.stats.itemfreq(lbp_image337)\n",
    "lbp_image338=local_binary_pattern(image338,8,1,method='nri_uniform')\n",
    "histogram338=scipy.stats.itemfreq(lbp_image338)\n",
    "lbp_image339=local_binary_pattern(image339,8,1,method='nri_uniform')\n",
    "histogram339=scipy.stats.itemfreq(lbp_image339)\n",
    "lbp_image441=local_binary_pattern(image441,8,1,method='nri_uniform')\n",
    "histogram441=scipy.stats.itemfreq(lbp_image441)\n",
    "lbp_image442=local_binary_pattern(image442,8,1,method='nri_uniform')\n",
    "histogram442=scipy.stats.itemfreq(lbp_image442)\n",
    "lbp_image443=local_binary_pattern(image443,8,1,method='nri_uniform')\n",
    "histogram443=scipy.stats.itemfreq(lbp_image443)\n",
    "lbp_image444=local_binary_pattern(image444,8,1,method='nri_uniform')\n",
    "histogram444=scipy.stats.itemfreq(lbp_image444)\n",
    "lbp_image445=local_binary_pattern(image445,8,1,method='nri_uniform')\n",
    "histogram445=scipy.stats.itemfreq(lbp_image445)\n",
    "lbp_image446=local_binary_pattern(image446,8,1,method='nri_uniform')\n",
    "histogram446=scipy.stats.itemfreq(lbp_image446)\n",
    "lbp_image447=local_binary_pattern(image447,8,1,method='nri_uniform')\n",
    "histogram447=scipy.stats.itemfreq(lbp_image447)\n",
    "lbp_image448=local_binary_pattern(image448,8,1,method='nri_uniform')\n",
    "histogram448=scipy.stats.itemfreq(lbp_image448)\n",
    "lbp_image449=local_binary_pattern(image449,8,1,method='nri_uniform')\n",
    "histogram449=scipy.stats.itemfreq(lbp_image449)\n",
    "lbp_image4410=local_binary_pattern(image4410,8,1,method='nri_uniform')\n",
    "histogram4410=scipy.stats.itemfreq(lbp_image4410)\n",
    "lbp_image4411=local_binary_pattern(image4411,8,1,method='nri_uniform')\n",
    "histogram4411=scipy.stats.itemfreq(lbp_image4411)\n",
    "lbp_image4412=local_binary_pattern(image4412,8,1,method='nri_uniform')\n",
    "histogram4412=scipy.stats.itemfreq(lbp_image4412)\n",
    "lbp_image4413=local_binary_pattern(image4413,8,1,method='nri_uniform')\n",
    "histogram4413=scipy.stats.itemfreq(lbp_image4413)\n",
    "lbp_image4414=local_binary_pattern(image4414,8,1,method='nri_uniform')\n",
    "histogram4414=scipy.stats.itemfreq(lbp_image4414)\n",
    "lbp_image4415=local_binary_pattern(image4415,8,1,method='nri_uniform')\n",
    "histogram4415=scipy.stats.itemfreq(lbp_image4415)\n",
    "lbp_image4416=local_binary_pattern(image4416,8,1,method='nri_uniform')\n",
    "histogram4416=scipy.stats.itemfreq(lbp_image4416)\n",
    "histogram = np.vstack((histogram111,histogram221,histogram222,histogram223,histogram224,histogram331,histogram332,histogram333,histogram334,histogram335,histogram336,histogram337,histogram338,histogram339,histogram441,histogram442,histogram443,histogram444,histogram445,histogram446,histogram447,histogram448,histogram449,histogram4410,histogram4411,histogram4412,histogram4413,histogram4414,histogram4415,histogram4416))\n",
    "hist = histogram[:, 1]/sum(histogram[:, 1])"
   ]
  },
  {
   "cell_type": "code",
   "execution_count": 346,
   "metadata": {
    "collapsed": true
   },
   "outputs": [],
   "source": [
    "# Initiate STAR detector\n",
    "orb = cv2.ORB_create()\n",
    "# find the keypoints with ORB\n",
    "kp = orb.detect(im_gray,None)\n",
    "# compute the descriptors with ORB\n",
    "kp, x = orb.compute(im_gray, kp)#here x is the descriptor\n",
    "x2 = x.ravel()\n",
    "# Normalize the histogram\n",
    "x3 = x[:, 1]/sum(x[:, 1])\n",
    "\n",
    "hist = hist.reshape(-1,1)\n"
   ]
  },
  {
   "cell_type": "code",
   "execution_count": 347,
   "metadata": {},
   "outputs": [
    {
     "data": {
      "text/plain": [
       "(204,)"
      ]
     },
     "execution_count": 347,
     "metadata": {},
     "output_type": "execute_result"
    }
   ],
   "source": [
    "x3.shape"
   ]
  },
  {
   "cell_type": "code",
   "execution_count": 348,
   "metadata": {
    "collapsed": true
   },
   "outputs": [],
   "source": [
    "N = 500-(x3.shape)[0]\n",
    "x3= np.pad(x3, (0, N), 'constant')\n",
    "x3 = x3.reshape(-1,1)"
   ]
  },
  {
   "cell_type": "code",
   "execution_count": 349,
   "metadata": {},
   "outputs": [
    {
     "data": {
      "text/plain": [
       "(500, 1)"
      ]
     },
     "execution_count": 349,
     "metadata": {},
     "output_type": "execute_result"
    }
   ],
   "source": [
    "x3.shape"
   ]
  },
  {
   "cell_type": "code",
   "execution_count": 350,
   "metadata": {},
   "outputs": [
    {
     "data": {
      "text/plain": [
       "(1770, 1)"
      ]
     },
     "execution_count": 350,
     "metadata": {},
     "output_type": "execute_result"
    }
   ],
   "source": [
    "hist.shape"
   ]
  },
  {
   "cell_type": "code",
   "execution_count": 351,
   "metadata": {
    "collapsed": true
   },
   "outputs": [],
   "source": [
    "x3 = x3.T\n",
    "hist = hist.T"
   ]
  },
  {
   "cell_type": "code",
   "execution_count": 352,
   "metadata": {
    "collapsed": true
   },
   "outputs": [],
   "source": [
    "input_image_orb = pca_orb.transform(x3)\n",
    "input_image_lbp = pca_lbp.transform(hist)"
   ]
  },
  {
   "cell_type": "code",
   "execution_count": 353,
   "metadata": {},
   "outputs": [
    {
     "data": {
      "text/plain": [
       "(1, 500)"
      ]
     },
     "execution_count": 353,
     "metadata": {},
     "output_type": "execute_result"
    }
   ],
   "source": [
    "input_image_orb.shape"
   ]
  },
  {
   "cell_type": "code",
   "execution_count": 354,
   "metadata": {},
   "outputs": [
    {
     "data": {
      "text/plain": [
       "(1, 500)"
      ]
     },
     "execution_count": 354,
     "metadata": {},
     "output_type": "execute_result"
    }
   ],
   "source": [
    "input_image_lbp.shape"
   ]
  },
  {
   "cell_type": "code",
   "execution_count": 359,
   "metadata": {
    "collapsed": true
   },
   "outputs": [],
   "source": [
    "total = np.hstack((input_image_orb,input_image_lbp))"
   ]
  },
  {
   "cell_type": "code",
   "execution_count": 360,
   "metadata": {},
   "outputs": [
    {
     "data": {
      "text/plain": [
       "(1, 1000)"
      ]
     },
     "execution_count": 360,
     "metadata": {},
     "output_type": "execute_result"
    }
   ],
   "source": [
    "total.shape"
   ]
  },
  {
   "cell_type": "code",
   "execution_count": 361,
   "metadata": {
    "collapsed": true
   },
   "outputs": [],
   "source": [
    "new_pred = model.predict(total)"
   ]
  },
  {
   "cell_type": "code",
   "execution_count": 362,
   "metadata": {},
   "outputs": [
    {
     "data": {
      "text/plain": [
       "array([[4.9123513e-03, 3.6905283e-05, 1.2635287e-05, 1.8688532e-05,\n",
       "        1.0386871e-02, 1.4966739e-04, 1.3723167e-05, 2.4089977e-04,\n",
       "        9.6913099e-01, 3.9363909e-03, 5.0911400e-03, 7.2955870e-04,\n",
       "        2.3849714e-05, 5.3163026e-03]], dtype=float32)"
      ]
     },
     "execution_count": 362,
     "metadata": {},
     "output_type": "execute_result"
    }
   ],
   "source": [
    "new_pred"
   ]
  },
  {
   "cell_type": "code",
   "execution_count": 363,
   "metadata": {
    "collapsed": true
   },
   "outputs": [],
   "source": [
    "import numpy as np\n",
    "arg = np.argmax(new_pred)"
   ]
  },
  {
   "cell_type": "code",
   "execution_count": 364,
   "metadata": {},
   "outputs": [
    {
     "data": {
      "text/plain": [
       "8"
      ]
     },
     "execution_count": 364,
     "metadata": {},
     "output_type": "execute_result"
    }
   ],
   "source": [
    "arg"
   ]
  },
  {
   "cell_type": "code",
   "execution_count": 365,
   "metadata": {
    "collapsed": true
   },
   "outputs": [],
   "source": [
    "inp_ans = new_pred[0][arg]"
   ]
  },
  {
   "cell_type": "code",
   "execution_count": 366,
   "metadata": {},
   "outputs": [
    {
     "data": {
      "text/plain": [
       "0.969131"
      ]
     },
     "execution_count": 366,
     "metadata": {},
     "output_type": "execute_result"
    }
   ],
   "source": [
    "inp_ans"
   ]
  },
  {
   "cell_type": "code",
   "execution_count": 367,
   "metadata": {
    "collapsed": true
   },
   "outputs": [],
   "source": [
    "predicted = pd.read_csv('predicted_pca.csv')"
   ]
  },
  {
   "cell_type": "code",
   "execution_count": 368,
   "metadata": {},
   "outputs": [
    {
     "data": {
      "text/plain": [
       "(1186, 15)"
      ]
     },
     "execution_count": 368,
     "metadata": {},
     "output_type": "execute_result"
    }
   ],
   "source": [
    "predicted.shape"
   ]
  },
  {
   "cell_type": "code",
   "execution_count": 369,
   "metadata": {
    "collapsed": true
   },
   "outputs": [],
   "source": [
    "fin = []\n",
    "for i in range(0,1186):\n",
    "    ans = predicted[str(np.argmax(new_pred))][i]\n",
    "    fin.append(abs(inp_ans-ans))"
   ]
  },
  {
   "cell_type": "code",
   "execution_count": 370,
   "metadata": {},
   "outputs": [
    {
     "data": {
      "text/plain": [
       "[0.9664401046894043,\n",
       " 0.00012239288940441018,\n",
       " 1.1322889404308256e-05,\n",
       " 0.9513764998894043,\n",
       " 0.9674324160894043,\n",
       " 0.9674841243894043,\n",
       " 0.9689104132594043,\n",
       " 0.9691243371644043,\n",
       " 0.9664452315894043,\n",
       " 0.9691243863867043,\n",
       " 0.00010619288940438842,\n",
       " 1.1622889404261372e-05,\n",
       " 0.9673809411894043,\n",
       " 0.9689178471894043,\n",
       " 0.00022249288940434653,\n",
       " 0.9673863075894042,\n",
       " 0.9520357998894043,\n",
       " 4.347110595714909e-06,\n",
       " 0.9674200695894043,\n",
       " 3.799288940431467e-05,\n",
       " 0.9498808218894043,\n",
       " 5.367110595733138e-06,\n",
       " 0.9664089630894043,\n",
       " 2.6767110595682375e-05,\n",
       " 0.9689074437494043,\n",
       " 0.9691243548509043,\n",
       " 0.9688896600294042,\n",
       " 0.9686543588194043,\n",
       " 0.9651611048894043,\n",
       " 0.9689183035694043,\n",
       " 0.9513904548894043,\n",
       " 0.9673178682894042,\n",
       " 2.7071105956899544e-06,\n",
       " 4.607110595689079e-06,\n",
       " 0.9674119234894043,\n",
       " 0.9688774618894043,\n",
       " 0.9691243497919043,\n",
       " 0.9597054263894043,\n",
       " 0.9664361564894043,\n",
       " 0.9066308528894043,\n",
       " 9.288940416851688e-08,\n",
       " 5.59288940416014e-06,\n",
       " 0.9691240605098043,\n",
       " 0.9674141874894043,\n",
       " 9.392889404269411e-06,\n",
       " 0.9674377454894043,\n",
       " 0.9651586528894043,\n",
       " 0.9686049730894043,\n",
       " 2.3228894042715e-06,\n",
       " 3.8862889404245315e-05,\n",
       " 0.9515055878894043,\n",
       " 0.9664310270894043,\n",
       " 7.771105956511093e-07,\n",
       " 8.192889404234904e-06,\n",
       " 0.9664049814894043,\n",
       " 0.9674665929894043,\n",
       " 8.692889404304793e-06,\n",
       " 0.9673991640894043,\n",
       " 0.9674820892894043,\n",
       " 0.9688618183694043,\n",
       " 0.9674407451894043,\n",
       " 0.9691243481561043,\n",
       " 0.9674816079894043,\n",
       " 0.9689195334494043,\n",
       " 0.9518431888894043,\n",
       " 0.9670371743894043,\n",
       " 0.9180226588894043,\n",
       " 0.9688667615394043,\n",
       " 0.9664367616894043,\n",
       " 0.9689198895394043,\n",
       " 0.8897376878894043,\n",
       " 0.9664266216894043,\n",
       " 5.5192889404365175e-05,\n",
       " 0.9516556128894043,\n",
       " 0.00012479288940425715,\n",
       " 0.9691243995467043,\n",
       " 5.2792889404407184e-05,\n",
       " 0.9674551691894043,\n",
       " 0.9664352146894043,\n",
       " 6.60711059574659e-06,\n",
       " 1.809288940424203e-05,\n",
       " 0.9674638718894043,\n",
       " 0.9664176883894043,\n",
       " 2.5628894042561967e-06,\n",
       " 0.9689190448594043,\n",
       " 0.9520570148894043,\n",
       " 0.9674044568894044,\n",
       " 0.8895057328894043,\n",
       " 2.1471105956516467e-06,\n",
       " 0.9691243724564043,\n",
       " 0.9689131205494043,\n",
       " 0.00022789288940439079,\n",
       " 0.9516116658894043,\n",
       " 0.9674439712894043,\n",
       " 0.9518808198894043,\n",
       " 0.9651612098894043,\n",
       " 3.8071105956660745e-06,\n",
       " 0.0008041228894043462,\n",
       " 4.299288940434742e-05,\n",
       " 0.9674478051894043,\n",
       " 7.607110595775346e-06,\n",
       " 0.9674610049894043,\n",
       " 3.30711059581823e-06,\n",
       " 5.59288940416014e-06,\n",
       " 5.367110595733138e-06,\n",
       " 2.3228894042715e-06,\n",
       " 0.9651569558894043,\n",
       " 0.9674486408894043,\n",
       " 5.367110595733138e-06,\n",
       " 9.77928894042579e-05,\n",
       " 0.9674524776894043,\n",
       " 0.8743444828894043,\n",
       " 0.9667581775894043,\n",
       " 0.9508281458894043,\n",
       " 0.9511725848894043,\n",
       " 0.9674240664894043,\n",
       " 0.9691243100874043,\n",
       " 1.6928894043255482e-06,\n",
       " 0.9674825486894043,\n",
       " 0.9691243396494043,\n",
       " 0.9661520931894043,\n",
       " 1.499288940431942e-05,\n",
       " 0.9514456728894043,\n",
       " 0.9495317988894043,\n",
       " 0.8913146478894043,\n",
       " 0.9664296368894043,\n",
       " 0.9674726118894043,\n",
       " 4.0928894042835395e-06,\n",
       " 6.107110595676701e-06,\n",
       " 0.9674570069894043,\n",
       " 3.459288940432792e-05,\n",
       " 0.9510436448894043,\n",
       " 0.9674809202894042,\n",
       " 0.8957176928894043,\n",
       " 0.9664070976894042,\n",
       " 0.9674805801894043,\n",
       " 0.9674463502894043,\n",
       " 0.9664366086894043,\n",
       " 0.00014943288940427735,\n",
       " 8.292889404404313e-06,\n",
       " 1.529288940438356e-05,\n",
       " 0.9527286048894043,\n",
       " 0.9691243516581043,\n",
       " 0.9573381978894043,\n",
       " 0.9674800237894043,\n",
       " 0.9674776932894043,\n",
       " 0.9691243711184043,\n",
       " 0.9674205182894043,\n",
       " 0.9664419074894043,\n",
       " 5.367110595733138e-06,\n",
       " 0.9689013978094043,\n",
       " 0.9536228328894043,\n",
       " 9.062889404276575e-06,\n",
       " 0.9012276328894043,\n",
       " 2.0071105957253366e-06,\n",
       " 0.9688768195894043,\n",
       " 0.9664177377894043,\n",
       " 0.9691243041511043,\n",
       " 3.1352889404256956e-05,\n",
       " 0.9691243825814043,\n",
       " 0.9691243645548043,\n",
       " 0.9691243090961043,\n",
       " 4.9928894042539085e-06,\n",
       " 0.9691243567431043,\n",
       " 9.49928894042884e-05,\n",
       " 0.9691240794324043,\n",
       " 3.7928894044414463e-06,\n",
       " 0.9674179493894043,\n",
       " 0.8912448728894042,\n",
       " 0.9686014661894043,\n",
       " 0.9691243776244043,\n",
       " 0.9672287768894043,\n",
       " 0.9674426272894043,\n",
       " 0.9691243447269043,\n",
       " 0.9517261728894043,\n",
       " 3.254288940435224e-05,\n",
       " 0.9689016492094042,\n",
       " 0.9674642453894043,\n",
       " 0.9688747663894043,\n",
       " 7.009288940429403e-05,\n",
       " 0.9673980960894043,\n",
       " 0.9664285531894043,\n",
       " 0.9674138084894043,\n",
       " 0.9519623518894043,\n",
       " 0.9689125772394043,\n",
       " 6.604288940426084e-05,\n",
       " 0.9674596774894043,\n",
       " 0.9673520110894043,\n",
       " 1.2292889404297291e-05,\n",
       " 0.9667337506894043,\n",
       " 0.9685979869894042,\n",
       " 0.9672825981894043,\n",
       " 5.067110595669e-06,\n",
       " 0.9664260772894043,\n",
       " 3.932889404256734e-06,\n",
       " 0.9674502323894043,\n",
       " 0.9674827751894043,\n",
       " 0.9674391826894043,\n",
       " 0.9509557708894043,\n",
       " 0.9664203284894043,\n",
       " 4.307110595846986e-06,\n",
       " 0.9517450028894043,\n",
       " 3.577110595731625e-06,\n",
       " 2.0071105957253366e-06,\n",
       " 0.9674465563894042,\n",
       " 0.9664333322894043,\n",
       " 0.9689074398294043,\n",
       " 0.9689195077894043,\n",
       " 0.9674633362894043,\n",
       " 0.9674816192894043,\n",
       " 0.9673837776894043,\n",
       " 0.9674723329894043,\n",
       " 4.9928894042539085e-06,\n",
       " 4.9428894043357374e-06,\n",
       " 0.9517142008894043,\n",
       " 0.9651360842894043,\n",
       " 0.9688710140894043,\n",
       " 0.9689107045594043,\n",
       " 1.2928894044250683e-06,\n",
       " 0.9689162044194043,\n",
       " 0.9674501894894043,\n",
       " 0.9688955725294043,\n",
       " 6.137110595716422e-06,\n",
       " 0.9664429068894043,\n",
       " 4.607110595689079e-06,\n",
       " 0.9664381676894043,\n",
       " 0.9691243731218043,\n",
       " 0.9688948372394043,\n",
       " 0.9650986168894043,\n",
       " 0.9673909915894043,\n",
       " 0.9689192880494043,\n",
       " 8.53928894042344e-05,\n",
       " 0.9691243940294043,\n",
       " 0.9674581401894043,\n",
       " 1.3652889404247581e-05,\n",
       " 0.9691242733911043,\n",
       " 4.347110595714909e-06,\n",
       " 0.9673121324894043,\n",
       " 1.0192889404292416e-05,\n",
       " 0.9674628156894043,\n",
       " 0.9691242750484043,\n",
       " 0.9674637444894043,\n",
       " 9.269288940427778e-05,\n",
       " 4.039288940438368e-05,\n",
       " 0.9691243571337043,\n",
       " 7.110595667825237e-09,\n",
       " 0.9691243508610043,\n",
       " 0.9674501370894043,\n",
       " 0.9689155736694043,\n",
       " 0.9688997596494043,\n",
       " 0.9518307368894043,\n",
       " 3.692889404161015e-06,\n",
       " 0.9691243694410043,\n",
       " 1.824288940432961e-05,\n",
       " 0.9686168848894043,\n",
       " 5.20711059559531e-06,\n",
       " 0.9674842209894043,\n",
       " 0.9518356628894042,\n",
       " 0.9674616362894043,\n",
       " 6.071105955740563e-07,\n",
       " 0.9689055433294043,\n",
       " 0.9517991508894043,\n",
       " 0.9664077793894043,\n",
       " 0.9667505430894043,\n",
       " 3.042889404336613e-06,\n",
       " 0.9689070928694044,\n",
       " 0.9500711948894043,\n",
       " 0.9650551098894044,\n",
       " 0.9691243837146043,\n",
       " 1.2471105956812778e-06,\n",
       " 8.928894043025437e-07,\n",
       " 0.8912231328894042,\n",
       " 0.9691244075244043,\n",
       " 5.067110595669e-06,\n",
       " 0.9689162313694043,\n",
       " 3.4571105956837656e-06,\n",
       " 0.9674294609894043,\n",
       " 0.9691243962304043,\n",
       " 0.9515490698894042,\n",
       " 0.9674546969894043,\n",
       " 0.9663103532894043,\n",
       " 0.8980633628894042,\n",
       " 0.9689074655294043,\n",
       " 0.9691243743841043,\n",
       " 2.1471105956516467e-06,\n",
       " 0.9664209424894042,\n",
       " 0.9689120077694043,\n",
       " 2.609288940425003e-05,\n",
       " 0.00025183288940433535,\n",
       " 1.3292889404326047e-05,\n",
       " 8.522889404338763e-06,\n",
       " 2.1932889404330247e-05,\n",
       " 0.9691243180218043,\n",
       " 0.9110206398894043,\n",
       " 4.947110595732163e-06,\n",
       " 0.9691243854991043,\n",
       " 0.9691243586108043,\n",
       " 0.000240322889404343,\n",
       " 8.79288940436318e-06,\n",
       " 0.9664162998894043,\n",
       " 0.9674823543894043,\n",
       " 0.9674481944894043,\n",
       " 4.607110595689079e-06,\n",
       " 0.9674312102894043,\n",
       " 0.9691243879634043,\n",
       " 3.839288940432617e-05,\n",
       " 0.9691243267489043,\n",
       " 7.771105956511093e-07,\n",
       " 6.137110595716422e-06,\n",
       " 2.3711059571329685e-07,\n",
       " 0.9689149733994042,\n",
       " 0.00022869288940419175,\n",
       " 1.8928894043312994e-06,\n",
       " 0.9673470848894044,\n",
       " 0.9674625311894043,\n",
       " 0.9689161142694043,\n",
       " 0.9664398294894043,\n",
       " 0.9664344498894043,\n",
       " 0.9674607498894043,\n",
       " 0.9664356318894043,\n",
       " 0.9674077775894043,\n",
       " 4.804288940429835e-05,\n",
       " 0.9505882428894042,\n",
       " 2.6928894041322593e-06,\n",
       " 1.0432889404277113e-05,\n",
       " 0.9514838548894043,\n",
       " 0.9674251512894043,\n",
       " 0.9671939027894043,\n",
       " 0.9674038309894043,\n",
       " 0.9691243586414043,\n",
       " 0.9689098882094043,\n",
       " 0.9651675764894043,\n",
       " 0.00014559288940441117,\n",
       " 2.9071105956957055e-06,\n",
       " 0.9691243360767043,\n",
       " 0.9664182930894043,\n",
       " 0.00011049288940434554,\n",
       " 2.0692889404205772e-05,\n",
       " 0.9666573400894043,\n",
       " 2.0071105957253366e-06,\n",
       " 2.7062889404350088e-05,\n",
       " 0.9674466397894043,\n",
       " 0.9674170640894043,\n",
       " 1.667110595682253e-06,\n",
       " 0.9494994788894043,\n",
       " 0.9515662078894043,\n",
       " 0.9515653778894043,\n",
       " 0.9664432014894043,\n",
       " 0.9689057504294043,\n",
       " 5.364288940434836e-05,\n",
       " 6.892889404253033e-06,\n",
       " 0.9664011995894043,\n",
       " 5.789288940427628e-05,\n",
       " 7.771105956511093e-07,\n",
       " 0.9691242925684043,\n",
       " 0.9691243706457043,\n",
       " 0.9674555564894043,\n",
       " 0.9651248798894043,\n",
       " 6.107110595676701e-06,\n",
       " 3.1792889404247404e-05,\n",
       " 0.9673801462894043,\n",
       " 0.9691243374744043,\n",
       " 0.9688589936094043,\n",
       " 5.328894042699872e-07,\n",
       " 0.9493862278894043,\n",
       " 0.9691243669108043,\n",
       " 5.247110595685278e-06,\n",
       " 0.8899302928894043,\n",
       " 5.247110595685278e-06,\n",
       " 1.8362889404266447e-05,\n",
       " 0.9507914318894043,\n",
       " 0.00011729288940443006,\n",
       " 0.9691243223410043,\n",
       " 0.9689061854694043,\n",
       " 0.9689177991694043,\n",
       " 0.9514681358894043,\n",
       " 0.0002619928894042056,\n",
       " 0.9664116380894043,\n",
       " 7.15711059573465e-06,\n",
       " 7.692889404276038e-06,\n",
       " 0.9674827184894043,\n",
       " 0.9517587698894043,\n",
       " 0.9664144035894043,\n",
       " 0.9516082178894043,\n",
       " 0.9674259122894043,\n",
       " 0.9691243561894043,\n",
       " 0.9674066487894043,\n",
       " 0.9674829812894042,\n",
       " 0.9689060507394043,\n",
       " 2.0022889404280875e-05,\n",
       " 5.3392889404313415e-05,\n",
       " 0.9672537936894043,\n",
       " 0.9663939380894043,\n",
       " 0.9512416388894043,\n",
       " 0.9674644361894043,\n",
       " 0.9674841030894042,\n",
       " 0.9674624740894043,\n",
       " 0.9690088733194043,\n",
       " 0.9672470716894043,\n",
       " 0.9646956761894043,\n",
       " 2.192889404284415e-06,\n",
       " 0.9689171424994043,\n",
       " 0.9689001028294043,\n",
       " 0.9674317866894043,\n",
       " 3.659288940438543e-05,\n",
       " 0.7073189328894043,\n",
       " 0.9515276198894043,\n",
       " 0.9691243743774043,\n",
       " 0.9664284982894042,\n",
       " 1.1862889404246069e-05,\n",
       " 3.4571105956837656e-06,\n",
       " 7.4928894042702865e-06,\n",
       " 0.9673909464894043,\n",
       " 0.9689166158894043,\n",
       " 0.9506993828894043,\n",
       " 0.9664362028894043,\n",
       " 7.267110595732262e-06,\n",
       " 6.592889404188895e-06,\n",
       " 0.9664191652894043,\n",
       " 0.9664190755894043,\n",
       " 0.9685853307594043,\n",
       " 0.9674819206894043,\n",
       " 0.9524172448894043,\n",
       " 1.3671105957291374e-06,\n",
       " 0.9689108727894042,\n",
       " 0.9689112750594043,\n",
       " 0.9508634098894043,\n",
       " 0.9689128811894043,\n",
       " 7.792889404334424e-06,\n",
       " 0.8853395928894043,\n",
       " 5.367110595733138e-06,\n",
       " 2.6928894041322593e-06,\n",
       " 0.9689194268594042,\n",
       " 3.7928894044414463e-06,\n",
       " 0.9691236734964043,\n",
       " 3.8071105956660745e-06,\n",
       " 0.8911492828894043,\n",
       " 0.9689171855294043,\n",
       " 0.9691243836794043,\n",
       " 0.9674358587894043,\n",
       " 0.9664380054894043,\n",
       " 3.15711059573065e-06,\n",
       " 4.771105956979937e-07,\n",
       " 0.9674242460894042,\n",
       " 0.9674409359894043,\n",
       " 0.9663934908894043,\n",
       " 0.00023472288940429298,\n",
       " 0.9669939912894043,\n",
       " 0.9691243803384043,\n",
       " 0.9689182709294043,\n",
       " 0.9691243359974043,\n",
       " 0.9518147798894043,\n",
       " 0.9689185025494043,\n",
       " 0.9670740400894043,\n",
       " 0.9689137057694043,\n",
       " 1.7092889404213274e-05,\n",
       " 0.9689110546794043,\n",
       " 0.9674140998894043,\n",
       " 3.8071105956660745e-06,\n",
       " 5.367110595733138e-06,\n",
       " 0.8901841488894043,\n",
       " 5.024288940425059e-05,\n",
       " 0.9674710192894043,\n",
       " 0.9691243451184043,\n",
       " 0.9515855998894043,\n",
       " 0.9667530122894042,\n",
       " 0.9489302098894044,\n",
       " 0.9691243873984043,\n",
       " 0.9496256448894043,\n",
       " 0.9688880707694043,\n",
       " 1.2292889404297291e-05,\n",
       " 0.9615244194894043,\n",
       " 0.9672507141894043,\n",
       " 4.057110595701019e-06,\n",
       " 0.9689083691794043,\n",
       " 0.9650720054894043,\n",
       " 1.792889404383935e-06,\n",
       " 0.9667019482894043,\n",
       " 0.9667580395894043,\n",
       " 0.9688887830294043,\n",
       " 0.9651751103894043,\n",
       " 0.9673841048894043,\n",
       " 4.057110595701019e-06,\n",
       " 0.9674675892894044,\n",
       " 3.692889404161015e-06,\n",
       " 7.109288940432279e-05,\n",
       " 0.9674609988894043,\n",
       " 0.9512441308894043,\n",
       " 0.9674442235894043,\n",
       " 0.9674461730894043,\n",
       " 0.9671748578894043,\n",
       " 0.9664352668894043,\n",
       " 0.9674224735894043,\n",
       " 0.9691243741064043,\n",
       " 3.30711059581823e-06,\n",
       " 0.9691243901939043,\n",
       " 0.9689069016794043,\n",
       " 0.9691243244497043,\n",
       " 2.807110595637319e-06,\n",
       " 0.9689155051594043,\n",
       " 0.9674858406894042,\n",
       " 0.9674154172894043,\n",
       " 0.9688774729894043,\n",
       " 1.6992889404376932e-05,\n",
       " 4.307110595846986e-06,\n",
       " 4.347110595714909e-06,\n",
       " 4.352889404257709e-06,\n",
       " 0.9687900582494043,\n",
       " 0.9691243824664043,\n",
       " 0.9674320095894043,\n",
       " 0.9670935615894043,\n",
       " 0.9686030839194043,\n",
       " 1.2528894043351002e-06,\n",
       " 0.9689090557794043,\n",
       " 0.00015719288940418963,\n",
       " 0.9691243876209042,\n",
       " 0.9689144929894044,\n",
       " 0.8867493628894043,\n",
       " 0.9673711737894043,\n",
       " 4.057110595701019e-06,\n",
       " 4.4671105956517465e-06,\n",
       " 0.9516632988894043,\n",
       " 0.9547733858894043,\n",
       " 3.725288940426008e-05,\n",
       " 1.3992889404290665e-05,\n",
       " 3.70711059571871e-06,\n",
       " 0.9691243335914043,\n",
       " 1.2928894044250683e-06,\n",
       " 0.9689190868694043,\n",
       " 5.012288940431375e-05,\n",
       " 2.3228894042715e-06,\n",
       " 1.1992889404233154e-05,\n",
       " 0.9691241272371043,\n",
       " 0.0012004328894043015,\n",
       " 0.9664392266894043,\n",
       " 0.9674750580894043,\n",
       " 1.4892889404261034e-05,\n",
       " 0.9519093618894043,\n",
       " 0.9664243256894043,\n",
       " 0.9664270178894043,\n",
       " 4.689288940429304e-05,\n",
       " 0.9691243447074043,\n",
       " 8.192889404234904e-06,\n",
       " 0.9648792488894044,\n",
       " 0.9686163919394043,\n",
       " 0.9691242930266043,\n",
       " 0.9691243767784044,\n",
       " 0.9674755795894043,\n",
       " 2.3711059571329685e-07,\n",
       " 0.9691243717648043,\n",
       " 0.9674681808894043,\n",
       " 0.9512901098894043,\n",
       " 0.9688930587594043,\n",
       " 1.2528894043351002e-06,\n",
       " 0.9668006998894043,\n",
       " 0.9691243640368042,\n",
       " 0.9689184714694044,\n",
       " 0.9674377914894043,\n",
       " 0.9006825728894043,\n",
       " 0.9689099595294043,\n",
       " 0.9688971451494043,\n",
       " 0.9673333699894043,\n",
       " 0.8987671028894043,\n",
       " 0.9664420208894043,\n",
       " 1.9892889404404812e-05,\n",
       " 0.0001179528894043047,\n",
       " 0.9664194162894043,\n",
       " 0.9674054636894043,\n",
       " 0.9658109556894043,\n",
       " 0.9673741266894043,\n",
       " 0.9691240356744043,\n",
       " 6.137110595716422e-06,\n",
       " 0.9691242915564043,\n",
       " 0.9519845058894043,\n",
       " 0.9514066498894043,\n",
       " 0.9674570208894043,\n",
       " 0.9673349181894043,\n",
       " 0.9511157348894043,\n",
       " 0.9689120060394043,\n",
       " 0.9691243537554043,\n",
       " 0.8913971228894043,\n",
       " 0.0003853428894042832,\n",
       " 6.109288940425728e-05,\n",
       " 0.9413967318894043,\n",
       " 0.9544130648894043,\n",
       " 0.9689116900094042,\n",
       " 0.9674451232894044,\n",
       " 0.9691240612378043,\n",
       " 0.9514406628894043,\n",
       " 3.907110595724461e-06,\n",
       " 0.9688356558594043,\n",
       " 0.9674786097894043,\n",
       " 0.9689141240694042,\n",
       " 0.9664327918894043,\n",
       " 0.9688916483294043,\n",
       " 0.8550634628894043,\n",
       " 0.9674011516894043,\n",
       " 0.9689140799894043,\n",
       " 0.9691243748544043,\n",
       " 0.9689113075894042,\n",
       " 0.9689094905894043,\n",
       " 1.9071105956669498e-06,\n",
       " 0.0009135628894042513,\n",
       " 0.00012839288940436067,\n",
       " 0.9674847399894043,\n",
       " 0.9664379763894043,\n",
       " 5.367110595733138e-06,\n",
       " 0.9691243799994043,\n",
       " 0.9536908438894043,\n",
       " 0.9691242538220043,\n",
       " 4.4671105956517465e-06,\n",
       " 0.9513168128894043,\n",
       " 3.4528894042873404e-06,\n",
       " 0.9651083345894043,\n",
       " 5.0722889404331006e-05,\n",
       " 0.8910360328894043,\n",
       " 0.9691241461454043,\n",
       " 0.9674001498894043,\n",
       " 0.9674380825894043,\n",
       " 0.9664212476894043,\n",
       " 0.9691243552704043,\n",
       " 0.9499394108894043,\n",
       " 5.242889404288853e-06,\n",
       " 0.9691243852189043,\n",
       " 0.9674001972894043,\n",
       " 0.9689130733194043,\n",
       " 0.9686138403494043,\n",
       " 0.9518493898894043,\n",
       " 0.9672653139894043,\n",
       " 5.507110595659448e-06,\n",
       " 0.9689082942394043,\n",
       " 6.2628894043070815e-06,\n",
       " 2.48528894043476e-05,\n",
       " 0.9674387045894043,\n",
       " 0.9691243371340043,\n",
       " 0.9651090228894043,\n",
       " 0.9651774898894043,\n",
       " 0.9673310175894043,\n",
       " 0.9685911761894043,\n",
       " 1.3292889404326047e-05,\n",
       " 0.9691243448810043,\n",
       " 0.9672967604894043,\n",
       " 3.839288940432617e-05,\n",
       " 1.4292889404354803e-05,\n",
       " 0.9674416727894043,\n",
       " 5.367110595733138e-06,\n",
       " 0.9689088881094043,\n",
       " 0.9672452893894044,\n",
       " 4.492889404406064e-06,\n",
       " 0.9687276208894043,\n",
       " 0.0001125928894042394,\n",
       " 4.707110595747466e-06,\n",
       " 6.528894043178468e-07,\n",
       " 0.9513133828894043,\n",
       " 0.9673989320894043,\n",
       " 0.9516549888894043,\n",
       " 0.9513378138894043,\n",
       " 0.9664393171894043,\n",
       " 0.9688973661494042,\n",
       " 1.1992889404233154e-05,\n",
       " 0.9674298506894043,\n",
       " 0.9691243555424043,\n",
       " 0.8896732028894043,\n",
       " 7.959288940417864e-05,\n",
       " 1.5528894042882158e-06,\n",
       " 0.9674234368894042,\n",
       " 0.9510204378894043,\n",
       " 2.369288940429204e-05,\n",
       " 5.367110595733138e-06,\n",
       " 0.9691242715089043,\n",
       " 6.528894043178468e-07,\n",
       " 3.692889404161015e-06,\n",
       " 0.9691242616609043,\n",
       " 5.707110595776221e-06,\n",
       " 2.3711059571329685e-07,\n",
       " 1.8928894043312994e-06,\n",
       " 0.9674205588894043,\n",
       " 1.913288940424973e-05,\n",
       " 0.9674851664894043,\n",
       " 0.9691243722286043,\n",
       " 0.9517854098894043,\n",
       " 0.9664049185894042,\n",
       " 0.9691243101570043,\n",
       " 0.9689196790594043,\n",
       " 6.33628894043392e-05,\n",
       " 5.507110595659448e-06,\n",
       " 4.307110595846986e-06,\n",
       " 0.9691243502239043,\n",
       " 0.9674857422894043,\n",
       " 0.9664208672894044,\n",
       " 0.9674482298894043,\n",
       " 0.9689184441094043,\n",
       " 0.8928420328894043,\n",
       " 0.9667479721894043,\n",
       " 0.9664213922894043,\n",
       " 8.192889404234904e-06,\n",
       " 4.4671105956517465e-06,\n",
       " 0.9691243043107043,\n",
       " 5.992889404282664e-06,\n",
       " 0.9647657312894043,\n",
       " 0.9673639728894043,\n",
       " 0.9518632648894043,\n",
       " 1.5992889404348176e-05,\n",
       " 0.9029488028894043,\n",
       " 0.9689015816094043,\n",
       " 1.6892889404318545e-05,\n",
       " 0.9512032788894043,\n",
       " 4.9928894042539085e-06,\n",
       " 0.9674818560894043,\n",
       " 0.9673395836894043,\n",
       " 4.707110595747466e-06,\n",
       " 0.9515917398894043,\n",
       " 7.392889404433944e-06,\n",
       " 0.9674369068894043,\n",
       " 1.4892889404261034e-05,\n",
       " 8.124288940425384e-05,\n",
       " 0.9690967172354042,\n",
       " 4.80711059569483e-06,\n",
       " 0.9664392126894042,\n",
       " 0.8898174988894043,\n",
       " 0.9674472021894043,\n",
       " 0.9651257814894043,\n",
       " 0.9688897858994043,\n",
       " 5.775288940434997e-05,\n",
       " 1.5528894042882158e-06,\n",
       " 0.9674554193894043,\n",
       " 0.9492759998894043,\n",
       " 0.9664260190894043,\n",
       " 4.80711059569483e-06,\n",
       " 0.9691243247807043,\n",
       " 0.9518376288894043,\n",
       " 3.5711059565013414e-07,\n",
       " 0.9512537218894043,\n",
       " 0.9691243627114043,\n",
       " 1.824288940432961e-05,\n",
       " 0.9674369119894043,\n",
       " 2.0228894043183843e-06,\n",
       " 8.95228894043365e-05,\n",
       " 2.8292889404313293e-05,\n",
       " 0.7697960428894043,\n",
       " 1.0852889404278088e-05,\n",
       " 1.1071105956439453e-06,\n",
       " 0.9651520838894043,\n",
       " 0.9664368908894043,\n",
       " 0.9686131585894043,\n",
       " 0.9689189707694043,\n",
       " 0.9691243832772043,\n",
       " 3.7928894044414463e-06,\n",
       " 0.9691242706949043,\n",
       " 0.9674101239894043,\n",
       " 0.9664260961894043,\n",
       " 0.9502484628894043,\n",
       " 0.9510934168894043,\n",
       " 0.9664353818894043,\n",
       " 0.9673672593894043,\n",
       " 0.9691243980551043,\n",
       " 4.592889404242406e-06,\n",
       " 0.9689177435094043,\n",
       " 1.3092889404320296e-05,\n",
       " 0.9514598828894043,\n",
       " 5.3192889404307664e-05,\n",
       " 0.9651220365894043,\n",
       " 0.9689196946694043,\n",
       " 0.9688595359594043,\n",
       " 1.8928894043312994e-06,\n",
       " 0.9674534144894043,\n",
       " 0.9691243791008043,\n",
       " 5.367110595733138e-06,\n",
       " 3.8071105956660745e-06,\n",
       " 0.9664351383894043,\n",
       " 0.9523309168894043,\n",
       " 0.9673271042894043,\n",
       " 0.9674320284894043,\n",
       " 0.9667510098894043,\n",
       " 0.9686196003494043,\n",
       " 0.9663779238894042,\n",
       " 0.9691243381354043,\n",
       " 0.9674233547894043,\n",
       " 0.9688969550794043,\n",
       " 5.247110595685278e-06,\n",
       " 0.9691242951958043,\n",
       " 5.328894042699872e-07,\n",
       " 0.9689170704694043,\n",
       " 0.9674867683894043,\n",
       " 0.9664225293894043,\n",
       " 0.9603770848894043,\n",
       " 0.9689016709594043,\n",
       " 2.892889404360055e-06,\n",
       " 0.9664319096894043,\n",
       " 0.9069546388894043,\n",
       " 1.0592889404303918e-05,\n",
       " 1.4328894043513785e-06,\n",
       " 0.9689168536394043,\n",
       " 3.5711059565013414e-07,\n",
       " 0.9691243885627043,\n",
       " 0.9688647575894043,\n",
       " 0.9674110882894043,\n",
       " 6.57110595714272e-07,\n",
       " 2.439288940436768e-05,\n",
       " 0.9690621172094043,\n",
       " 7.00711059564707e-06,\n",
       " 0.9664324156894043,\n",
       " 0.9674497956894043,\n",
       " 0.9674637704894044,\n",
       " 0.9674089905894043,\n",
       " 0.9689181707394043,\n",
       " 0.9691243588259043,\n",
       " 0.9691243292514043,\n",
       " 0.9506915078894043,\n",
       " 0.9691243532744043,\n",
       " 0.9225657428894043,\n",
       " 0.9691243772234043,\n",
       " 0.9651643135894042,\n",
       " 3.907110595724461e-06,\n",
       " 1.1192889404210149e-05,\n",
       " 0.8918851928894043,\n",
       " 0.8893498178894043,\n",
       " 0.9674184949894042,\n",
       " 0.9673863502894043,\n",
       " 1.0592889404303918e-05,\n",
       " 1.4192889404296416e-05,\n",
       " 0.9664392335894043,\n",
       " 0.8921585028894043,\n",
       " 0.9650360678894043,\n",
       " 0.9674721376894043,\n",
       " 4.80711059569483e-06,\n",
       " 7.632889404307619e-06,\n",
       " 0.9689154214094043,\n",
       " 0.9691243801684043,\n",
       " 0.9688960071094043,\n",
       " 4.607110595689079e-06,\n",
       " 0.9674679074894043,\n",
       " 0.9674037955894043,\n",
       " 0.9673509531894043,\n",
       " 1.029288940423978e-05,\n",
       " 0.9664332868894043,\n",
       " 0.9517998728894043,\n",
       " 0.9515376368894043,\n",
       " 0.9674696017894043,\n",
       " 2.809288940419652e-05,\n",
       " 8.785288940427183e-05,\n",
       " 0.9691243523904043,\n",
       " 6.949288940427678e-05,\n",
       " 5.067110595669e-06,\n",
       " 0.9515651318894043,\n",
       " 4.273288940426223e-05,\n",
       " 0.9691243074481043,\n",
       " 0.9663756703894043,\n",
       " 2.928894043963126e-07,\n",
       " 0.9674691112894043,\n",
       " 0.9674461368894043,\n",
       " 0.9511718968894043,\n",
       " 0.8897057468894043,\n",
       " 0.9674830819894042,\n",
       " 0.00010189288940432029,\n",
       " 0.9553028748894044,\n",
       " 0.00021089288940434603,\n",
       " 0.9691243797414043,\n",
       " 2.0228894043183843e-06,\n",
       " 0.9674856324894043,\n",
       " 0.9673628394894043,\n",
       " 5.122889404352016e-06,\n",
       " 0.9691243841489043,\n",
       " 0.00039189288940433276,\n",
       " 4.8462889404299325e-05,\n",
       " 4.592889404242406e-06,\n",
       " 7.389288940429228e-05,\n",
       " 3.8071105956660745e-06,\n",
       " 5.507110595659448e-06,\n",
       " 4.1771105957488786e-06,\n",
       " 0.9106362278894043,\n",
       " 0.9673538355894042,\n",
       " 0.9512878508894043,\n",
       " 0.9688980019094043,\n",
       " 0.9689178389394043,\n",
       " 1.5071105957664699e-06,\n",
       " 1.3652889404247581e-05,\n",
       " 5.763288940430211e-05,\n",
       " 8.315288940430321e-05,\n",
       " 1.1322889404308256e-05,\n",
       " 0.9650385988894042,\n",
       " 0.9352181258894043,\n",
       " 0.9674634025894043,\n",
       " 0.9691243693151043,\n",
       " 0.9691243579004043,\n",
       " 0.9689064027594043,\n",
       " 0.9689146077694043,\n",
       " 2.3092889404274786e-05,\n",
       " 0.9691243537040043,\n",
       " 0.9664320363894043,\n",
       " 0.9691243848714043,\n",
       " 0.9673812156894043,\n",
       " 0.9674172126894043,\n",
       " 0.9674875550894043,\n",
       " 0.9664378063894042,\n",
       " 0.9689149134894043,\n",
       " 9.928894043609304e-07,\n",
       " 0.9674259727894043,\n",
       " 9.928894043609304e-07,\n",
       " 0.9689162257094043,\n",
       " 2.1162889404346963e-05,\n",
       " 0.9664403886894043,\n",
       " 2.7071105956899544e-06,\n",
       " 7.01928894042414e-05,\n",
       " 0.9674679785894043,\n",
       " 0.9674764695894043,\n",
       " 5.8092889404393055e-05,\n",
       " 0.00020975288940427994,\n",
       " 0.9674604388894043,\n",
       " 0.9651674041894043,\n",
       " 0.9689054825994043,\n",
       " 0.8900910128894043,\n",
       " 0.9674380543894043,\n",
       " 0.9666639342894043,\n",
       " 0.9691243805104043,\n",
       " 0.9664267173894043,\n",
       " 0.9688984894194043,\n",
       " 0.9664142524894043,\n",
       " 5.837110595652284e-06,\n",
       " 0.0003736928894042535,\n",
       " 1.519288940421415e-05,\n",
       " 4.5362889404265694e-05,\n",
       " 0.9691243329504043,\n",
       " 0.9689183655094042,\n",
       " 5.367110595733138e-06,\n",
       " 0.9689188413294043,\n",
       " 0.9664428054894043,\n",
       " 0.9651350713894042,\n",
       " 0.9688940747994043,\n",
       " 0.9689026091094043,\n",
       " 0.9689137527894043,\n",
       " 0.9517911468894042,\n",
       " 0.00023159288940421963,\n",
       " 5.842889404306106e-06,\n",
       " 0.00025860711059577657,\n",
       " 0.9691243569614043,\n",
       " 0.9688975076294043,\n",
       " 3.692889404161015e-06,\n",
       " 0.9661468914894042,\n",
       " 3.0371105956827904e-06,\n",
       " 0.9689166709694043,\n",
       " 5.247110595685278e-06,\n",
       " 0.9674611265894043,\n",
       " 4.352889404257709e-06,\n",
       " 5.367110595733138e-06,\n",
       " 0.9665298724894043,\n",
       " 1.029288940423978e-05,\n",
       " 0.9691243591269043,\n",
       " 0.8912664328894043,\n",
       " 0.8995103988894043,\n",
       " 1.9592889404340674e-05,\n",
       " 2.928894043963126e-07,\n",
       " 3.30711059581823e-06,\n",
       " 0.9691243853540042,\n",
       " 0.9689120165394043,\n",
       " 9.392889404269411e-06,\n",
       " 0.8906539528894043,\n",
       " 4.607110595689079e-06,\n",
       " 0.9691243403226043,\n",
       " 0.9513600228894042,\n",
       " 0.9510210288894043,\n",
       " 1.2528894043351002e-06,\n",
       " 5.4292889404283784e-05,\n",
       " 0.9518102908894043,\n",
       " 0.9517828898894043,\n",
       " 0.9691243090801043,\n",
       " 0.9492710268894043,\n",
       " 0.9691243710477043,\n",
       " 3.504288940425759e-05,\n",
       " 0.9516099028894043,\n",
       " 0.9674331063894043,\n",
       " 3.1352889404256956e-05,\n",
       " 3.928894042326547e-07,\n",
       " 2.9071105956957055e-06,\n",
       " 0.9674811510894042,\n",
       " 0.9691243526144043,\n",
       " 2.7071105956899544e-06,\n",
       " 0.0002769228894042852,\n",
       " 0.9689058829894043,\n",
       " 0.9689195555594043,\n",
       " 0.9691243837524043,\n",
       " 5.367110595733138e-06,\n",
       " 7.292889404375558e-06,\n",
       " 0.9008459228894043,\n",
       " 0.8898569928894043,\n",
       " 0.9689172466294043,\n",
       " 0.9689103800494043,\n",
       " 0.9674167875894043,\n",
       " 0.9667892390894043,\n",
       " 0.9691243874734043,\n",
       " 0.9688953113194043,\n",
       " 0.9519943558894043,\n",
       " 0.9490454198894043,\n",
       " 0.9674579193894043,\n",
       " 0.9691243655297043,\n",
       " 0.9673737008894043,\n",
       " 0.9664103732894043,\n",
       " 0.8891879428894043,\n",
       " 0.9674789725894043,\n",
       " 0.9664207666894042,\n",
       " ...]"
      ]
     },
     "execution_count": 370,
     "metadata": {},
     "output_type": "execute_result"
    }
   ],
   "source": [
    "fin"
   ]
  },
  {
   "cell_type": "code",
   "execution_count": null,
   "metadata": {
    "collapsed": true
   },
   "outputs": [],
   "source": []
  },
  {
   "cell_type": "code",
   "execution_count": 371,
   "metadata": {
    "collapsed": true
   },
   "outputs": [],
   "source": [
    "ind = np.argpartition(fin, -10)[-10:]"
   ]
  },
  {
   "cell_type": "code",
   "execution_count": 372,
   "metadata": {},
   "outputs": [
    {
     "data": {
      "text/plain": [
       "0.9691243724564043"
      ]
     },
     "execution_count": 372,
     "metadata": {},
     "output_type": "execute_result"
    }
   ],
   "source": [
    "fin[89]"
   ]
  },
  {
   "cell_type": "code",
   "execution_count": 373,
   "metadata": {},
   "outputs": [
    {
     "data": {
      "text/plain": [
       "0.9691243854991043"
      ]
     },
     "execution_count": 373,
     "metadata": {},
     "output_type": "execute_result"
    }
   ],
   "source": [
    "fin[295]"
   ]
  },
  {
   "cell_type": "code",
   "execution_count": 374,
   "metadata": {},
   "outputs": [
    {
     "data": {
      "text/plain": [
       "0.9691243901939043"
      ]
     },
     "execution_count": 374,
     "metadata": {},
     "output_type": "execute_result"
    }
   ],
   "source": [
    "fin[495]"
   ]
  },
  {
   "cell_type": "code",
   "execution_count": 375,
   "metadata": {},
   "outputs": [
    {
     "data": {
      "text/plain": [
       "array([ 304,  794,  495,   75,  232, 1122,  755, 1026,  272,  277])"
      ]
     },
     "execution_count": 375,
     "metadata": {},
     "output_type": "execute_result"
    }
   ],
   "source": [
    "ind"
   ]
  },
  {
   "cell_type": "code",
   "execution_count": 376,
   "metadata": {},
   "outputs": [
    {
     "data": {
      "text/plain": [
       "'/Users/adithya/Documents/MATLAB/project/cbir_dataset/sample/images/00023162_023.png'"
      ]
     },
     "execution_count": 376,
     "metadata": {},
     "output_type": "execute_result"
    }
   ],
   "source": [
    "import io\n",
    "pd.read_csv(io.StringIO(file_paths_train.to_csv(index=False)))\n",
    "file_paths_train['0'][1360]"
   ]
  },
  {
   "cell_type": "code",
   "execution_count": 377,
   "metadata": {
    "collapsed": true
   },
   "outputs": [],
   "source": [
    "from PIL import Image"
   ]
  },
  {
   "cell_type": "code",
   "execution_count": 378,
   "metadata": {},
   "outputs": [
    {
     "name": "stdout",
     "output_type": "stream",
     "text": [
      "/Users/adithya/Documents/MATLAB/project/cbir_dataset/sample/images/00025958_001.png\n",
      "/Users/adithya/Documents/MATLAB/project/cbir_dataset/sample/images/00011144_022.png\n",
      "/Users/adithya/Documents/MATLAB/project/cbir_dataset/sample/images/00017541_020.png\n",
      "/Users/adithya/Documents/MATLAB/project/cbir_dataset/sample/images/00010007_164.png\n",
      "/Users/adithya/Documents/MATLAB/project/cbir_dataset/sample/images/00018837_000.png\n",
      "/Users/adithya/Documents/MATLAB/project/cbir_dataset/sample/images/00029036_000.png\n",
      "/Users/adithya/Documents/MATLAB/project/cbir_dataset/sample/images/00007442_016.png\n",
      "/Users/adithya/Documents/MATLAB/project/cbir_dataset/sample/images/00022596_008.png\n",
      "/Users/adithya/Documents/MATLAB/project/cbir_dataset/sample/images/00013003_005.png\n",
      "/Users/adithya/Documents/MATLAB/project/cbir_dataset/sample/images/00013774_000.png\n"
     ]
    }
   ],
   "source": [
    "gg_array = {}\n",
    "for num,i in enumerate(ind):\n",
    "    #print(file_paths['0'][i:i+1])\n",
    "    imgk = file_paths['0'][i:i+1]\n",
    "    imgm = imgk.values[0:]\n",
    "    gg = str(imgm[0])\n",
    "    gg_array[num] = gg\n",
    "    print(gg)"
   ]
  },
  {
   "cell_type": "code",
   "execution_count": 379,
   "metadata": {},
   "outputs": [
    {
     "data": {
      "text/plain": [
       "{0: '/Users/adithya/Documents/MATLAB/project/cbir_dataset/sample/images/00025958_001.png',\n",
       " 1: '/Users/adithya/Documents/MATLAB/project/cbir_dataset/sample/images/00011144_022.png',\n",
       " 2: '/Users/adithya/Documents/MATLAB/project/cbir_dataset/sample/images/00017541_020.png',\n",
       " 3: '/Users/adithya/Documents/MATLAB/project/cbir_dataset/sample/images/00010007_164.png',\n",
       " 4: '/Users/adithya/Documents/MATLAB/project/cbir_dataset/sample/images/00018837_000.png',\n",
       " 5: '/Users/adithya/Documents/MATLAB/project/cbir_dataset/sample/images/00029036_000.png',\n",
       " 6: '/Users/adithya/Documents/MATLAB/project/cbir_dataset/sample/images/00007442_016.png',\n",
       " 7: '/Users/adithya/Documents/MATLAB/project/cbir_dataset/sample/images/00022596_008.png',\n",
       " 8: '/Users/adithya/Documents/MATLAB/project/cbir_dataset/sample/images/00013003_005.png',\n",
       " 9: '/Users/adithya/Documents/MATLAB/project/cbir_dataset/sample/images/00013774_000.png'}"
      ]
     },
     "execution_count": 379,
     "metadata": {},
     "output_type": "execute_result"
    }
   ],
   "source": [
    "gg_array"
   ]
  },
  {
   "cell_type": "code",
   "execution_count": 380,
   "metadata": {},
   "outputs": [
    {
     "data": {
      "image/png": "[encoded data removed]",
      "text/plain": [
       "<matplotlib.figure.Figure at 0xa2cccb160>"
      ]
     },
     "metadata": {},
     "output_type": "display_data"
    }
   ],
   "source": [
    "fig = plt.figure()\n",
    "plt.gray()\n",
    "plt.subplot(331)\n",
    "kkl = imread(gg_array[0])\n",
    "plt.imshow(kkl)\n",
    "plt.subplot(332)\n",
    "kk2 = imread(gg_array[1])\n",
    "plt.imshow(kk2)\n",
    "plt.subplot(333)\n",
    "kk3 = imread(gg_array[2])\n",
    "plt.imshow(kk3)\n",
    "plt.subplot(334)\n",
    "kk4 = imread(gg_array[3])\n",
    "plt.imshow(kk4)\n",
    "plt.subplot(335)\n",
    "kk5 = imread(gg_array[4])\n",
    "plt.imshow(kk5)\n",
    "plt.subplot(336)\n",
    "kk6 = imread(gg_array[5])\n",
    "plt.imshow(kk6)\n",
    "plt.subplot(337)\n",
    "kk7 = imread(gg_array[6])\n",
    "plt.imshow(kk7)\n",
    "plt.subplot(338)\n",
    "kk8 = imread(gg_array[7])\n",
    "plt.imshow(kk8)\n",
    "plt.subplot(339)\n",
    "kk9 = imread(gg_array[8])\n",
    "plt.imshow(kk9)\n",
    "plt.show()"
   ]
  },
  {
   "cell_type": "code",
   "execution_count": null,
   "metadata": {
    "collapsed": true
   },
   "outputs": [],
   "source": []
  },
  {
   "cell_type": "code",
   "execution_count": null,
   "metadata": {
    "collapsed": true
   },
   "outputs": [],
   "source": []
  },
  {
   "cell_type": "code",
   "execution_count": null,
   "metadata": {
    "collapsed": true
   },
   "outputs": [],
   "source": []
  },
  {
   "cell_type": "code",
   "execution_count": null,
   "metadata": {
    "collapsed": true
   },
   "outputs": [],
   "source": []
  }
 ],
 "metadata": {
  "kernelspec": {
   "display_name": "Python 3",
   "language": "python",
   "name": "python3"
  },
  "language_info": {
   "codemirror_mode": {
    "name": "ipython",
    "version": 3
   },
   "file_extension": ".py",
   "mimetype": "text/x-python",
   "name": "python",
   "nbconvert_exporter": "python",
   "pygments_lexer": "ipython3",
   "version": "3.6.3"
  }
 },
 "nbformat": 4,
 "nbformat_minor": 2
}
